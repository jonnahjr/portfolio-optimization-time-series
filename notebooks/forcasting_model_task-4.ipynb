{
 "cells": [
  {
   "cell_type": "code",
   "execution_count": 1,
   "metadata": {
    "execution": {
     "iopub.execute_input": "2024-11-11T18:26:17.390816Z",
     "iopub.status.busy": "2024-11-11T18:26:17.390376Z",
     "iopub.status.idle": "2024-11-11T18:27:17.362220Z",
     "shell.execute_reply": "2024-11-11T18:27:17.360643Z",
     "shell.execute_reply.started": "2024-11-11T18:26:17.390779Z"
    },
    "trusted": true
   },
   "outputs": [
    {
     "name": "stdout",
     "output_type": "stream",
     "text": [
      "Requirement already satisfied: skfolio in c:\\users\\getac\\anaconda3\\envs\\myenv\\lib\\site-packages (0.5.1)\n",
      "Requirement already satisfied: numpy>=1.23.4 in c:\\users\\getac\\appdata\\roaming\\python\\python312\\site-packages (from skfolio) (1.26.4)\n",
      "Requirement already satisfied: scipy>=1.8.0 in c:\\users\\getac\\appdata\\roaming\\python\\python312\\site-packages (from skfolio) (1.14.1)\n",
      "Requirement already satisfied: pandas>=1.4.1 in c:\\users\\getac\\appdata\\roaming\\python\\python312\\site-packages (from skfolio) (2.2.3)\n",
      "Requirement already satisfied: cvxpy>=1.4.1 in c:\\users\\getac\\anaconda3\\envs\\myenv\\lib\\site-packages (from skfolio) (1.6.0)\n",
      "Requirement already satisfied: scikit-learn>=1.5.0 in c:\\users\\getac\\appdata\\roaming\\python\\python312\\site-packages (from skfolio) (1.5.2)\n",
      "Requirement already satisfied: joblib>=1.3.2 in c:\\users\\getac\\appdata\\roaming\\python\\python312\\site-packages (from skfolio) (1.4.2)\n",
      "Requirement already satisfied: plotly>=5.22.0 in c:\\users\\getac\\appdata\\roaming\\python\\python312\\site-packages (from skfolio) (5.24.1)\n",
      "Requirement already satisfied: osqp>=0.6.2 in c:\\users\\getac\\anaconda3\\envs\\myenv\\lib\\site-packages (from cvxpy>=1.4.1->skfolio) (0.6.7.post3)\n",
      "Requirement already satisfied: clarabel>=0.5.0 in c:\\users\\getac\\anaconda3\\envs\\myenv\\lib\\site-packages (from cvxpy>=1.4.1->skfolio) (0.9.0)\n",
      "Requirement already satisfied: scs>=3.2.4.post1 in c:\\users\\getac\\anaconda3\\envs\\myenv\\lib\\site-packages (from cvxpy>=1.4.1->skfolio) (3.2.7)\n",
      "Requirement already satisfied: python-dateutil>=2.8.2 in c:\\users\\getac\\appdata\\roaming\\python\\python312\\site-packages (from pandas>=1.4.1->skfolio) (2.9.0.post0)\n",
      "Requirement already satisfied: pytz>=2020.1 in c:\\users\\getac\\appdata\\roaming\\python\\python312\\site-packages (from pandas>=1.4.1->skfolio) (2024.2)\n",
      "Requirement already satisfied: tzdata>=2022.7 in c:\\users\\getac\\appdata\\roaming\\python\\python312\\site-packages (from pandas>=1.4.1->skfolio) (2024.2)\n",
      "Requirement already satisfied: tenacity>=6.2.0 in c:\\users\\getac\\appdata\\roaming\\python\\python312\\site-packages (from plotly>=5.22.0->skfolio) (9.0.0)\n",
      "Requirement already satisfied: packaging in c:\\users\\getac\\appdata\\roaming\\python\\python312\\site-packages (from plotly>=5.22.0->skfolio) (24.1)\n",
      "Requirement already satisfied: threadpoolctl>=3.1.0 in c:\\users\\getac\\appdata\\roaming\\python\\python312\\site-packages (from scikit-learn>=1.5.0->skfolio) (3.5.0)\n",
      "Requirement already satisfied: qdldl in c:\\users\\getac\\anaconda3\\envs\\myenv\\lib\\site-packages (from osqp>=0.6.2->cvxpy>=1.4.1->skfolio) (0.1.7.post4)\n",
      "Requirement already satisfied: six>=1.5 in c:\\users\\getac\\appdata\\roaming\\python\\python312\\site-packages (from python-dateutil>=2.8.2->pandas>=1.4.1->skfolio) (1.16.0)\n"
     ]
    }
   ],
   "source": [
    "!pip install skfolio"
   ]
  },
  {
   "cell_type": "code",
   "execution_count": 2,
   "metadata": {
    "execution": {
     "iopub.execute_input": "2024-11-11T18:27:17.366039Z",
     "iopub.status.busy": "2024-11-11T18:27:17.365539Z",
     "iopub.status.idle": "2024-11-11T18:27:53.770446Z",
     "shell.execute_reply": "2024-11-11T18:27:53.768833Z",
     "shell.execute_reply.started": "2024-11-11T18:27:17.365990Z"
    },
    "trusted": true
   },
   "outputs": [],
   "source": [
    "#!pip install --upgrade pip\n"
   ]
  },
  {
   "cell_type": "code",
   "execution_count": 3,
   "metadata": {
    "execution": {
     "iopub.execute_input": "2024-11-11T18:27:53.772980Z",
     "iopub.status.busy": "2024-11-11T18:27:53.772504Z",
     "iopub.status.idle": "2024-11-11T18:30:03.718290Z",
     "shell.execute_reply": "2024-11-11T18:30:03.716827Z",
     "shell.execute_reply.started": "2024-11-11T18:27:53.772936Z"
    },
    "trusted": true
   },
   "outputs": [],
   "source": [
    "#conda install -c conda-forge yfinance\n"
   ]
  },
  {
   "cell_type": "code",
   "execution_count": 4,
   "metadata": {
    "execution": {
     "iopub.execute_input": "2024-11-11T18:30:03.720928Z",
     "iopub.status.busy": "2024-11-11T18:30:03.720505Z",
     "iopub.status.idle": "2024-11-11T18:30:10.754827Z",
     "shell.execute_reply": "2024-11-11T18:30:10.751305Z",
     "shell.execute_reply.started": "2024-11-11T18:30:03.720891Z"
    },
    "trusted": true
   },
   "outputs": [
    {
     "name": "stdout",
     "output_type": "stream",
     "text": [
      "Requirement already satisfied: pandas_datareader in c:\\users\\getac\\appdata\\roaming\\python\\python312\\site-packages (0.10.0)\n",
      "Requirement already satisfied: lxml in c:\\users\\getac\\appdata\\roaming\\python\\python312\\site-packages (from pandas_datareader) (5.3.0)\n",
      "Requirement already satisfied: pandas>=0.23 in c:\\users\\getac\\appdata\\roaming\\python\\python312\\site-packages (from pandas_datareader) (2.2.3)\n",
      "Requirement already satisfied: requests>=2.19.0 in c:\\users\\getac\\appdata\\roaming\\python\\python312\\site-packages (from pandas_datareader) (2.32.3)\n",
      "Requirement already satisfied: numpy>=1.26.0 in c:\\users\\getac\\appdata\\roaming\\python\\python312\\site-packages (from pandas>=0.23->pandas_datareader) (1.26.4)\n",
      "Requirement already satisfied: python-dateutil>=2.8.2 in c:\\users\\getac\\appdata\\roaming\\python\\python312\\site-packages (from pandas>=0.23->pandas_datareader) (2.9.0.post0)\n",
      "Requirement already satisfied: pytz>=2020.1 in c:\\users\\getac\\appdata\\roaming\\python\\python312\\site-packages (from pandas>=0.23->pandas_datareader) (2024.2)\n",
      "Requirement already satisfied: tzdata>=2022.7 in c:\\users\\getac\\appdata\\roaming\\python\\python312\\site-packages (from pandas>=0.23->pandas_datareader) (2024.2)\n",
      "Requirement already satisfied: charset-normalizer<4,>=2 in c:\\users\\getac\\appdata\\roaming\\python\\python312\\site-packages (from requests>=2.19.0->pandas_datareader) (3.4.0)\n",
      "Requirement already satisfied: idna<4,>=2.5 in c:\\users\\getac\\appdata\\roaming\\python\\python312\\site-packages (from requests>=2.19.0->pandas_datareader) (3.10)\n",
      "Requirement already satisfied: urllib3<3,>=1.21.1 in c:\\users\\getac\\appdata\\roaming\\python\\python312\\site-packages (from requests>=2.19.0->pandas_datareader) (2.2.3)\n",
      "Requirement already satisfied: certifi>=2017.4.17 in c:\\users\\getac\\appdata\\roaming\\python\\python312\\site-packages (from requests>=2.19.0->pandas_datareader) (2024.8.30)\n",
      "Requirement already satisfied: six>=1.5 in c:\\users\\getac\\appdata\\roaming\\python\\python312\\site-packages (from python-dateutil>=2.8.2->pandas>=0.23->pandas_datareader) (1.16.0)\n"
     ]
    }
   ],
   "source": [
    "!pip install pandas_datareader"
   ]
  },
  {
   "cell_type": "code",
   "execution_count": 5,
   "metadata": {
    "execution": {
     "iopub.execute_input": "2024-11-11T18:30:10.761902Z",
     "iopub.status.busy": "2024-11-11T18:30:10.761414Z",
     "iopub.status.idle": "2024-11-11T18:30:15.011403Z",
     "shell.execute_reply": "2024-11-11T18:30:15.010145Z",
     "shell.execute_reply.started": "2024-11-11T18:30:10.761865Z"
    },
    "trusted": true
   },
   "outputs": [],
   "source": [
    "# Load Packages\n",
    "import numpy as np\n",
    "import pandas as pd\n",
    "from pandas_datareader import data\n",
    "import matplotlib.pyplot as plt\n",
    "%matplotlib inline\n",
    "import seaborn as sns\n",
    "# ignoring the warnings while executing codes\n",
    "import warnings\n",
    "warnings.filterwarnings('ignore')\n",
    "import yfinance as yf\n",
    "\n",
    "from datetime import datetime\n",
    "from tabulate import tabulate\n",
    "from plotly.io import show\n",
    "from sklearn.model_selection import train_test_split\n",
    "\n",
    "from skfolio import PerfMeasure, RatioMeasure, RiskMeasure\n",
    "from skfolio.optimization import MeanRisk\n",
    "from skfolio.preprocessing import prices_to_returns\n",
    "# Color pallet and theme\n",
    "import matplotlib.colors\n",
    "\n",
    "# Define custom colors\n",
    "\"#283149\"  # Dark blue\n",
    "\"#404B69\"  # Medium blue\n",
    "\"#DBEDF3\"  # Light blue\n",
    "\"#DBDBDB\"  # Gray\n",
    "\"#FFFFFF\"  # White\n",
    "\n",
    "colors = [\"#283149\", \"#404B69\", \"#DBEDF3\", \"#DBDBDB\", \"#FFFFFF\"]\n",
    "colors2 = [\"#FFFFFF\", \"#DBDBDB\", \"#DBEDF3\", \"#404B69\", \"#283149\"]\n",
    "colors3 = ['#404B69', '#5CDB95', '#ED4C67', '#F7DC6F']\n",
    "\n",
    "my_palette = sns.color_palette([\"#283149\", \"#404B69\", \"#DBEDF3\", \"#DBDBDB\", \"#FFFFFF\"])\n",
    "\n",
    "cmap = matplotlib.colors.ListedColormap(colors)\n",
    "cmap2 = matplotlib.colors.ListedColormap(colors2)"
   ]
  },
  {
   "cell_type": "code",
   "execution_count": 6,
   "metadata": {
    "execution": {
     "iopub.execute_input": "2024-11-11T18:32:32.633112Z",
     "iopub.status.busy": "2024-11-11T18:32:32.632622Z",
     "iopub.status.idle": "2024-11-11T18:32:32.865601Z",
     "shell.execute_reply": "2024-11-11T18:32:32.864438Z",
     "shell.execute_reply.started": "2024-11-11T18:32:32.633061Z"
    },
    "trusted": true
   },
   "outputs": [
    {
     "name": "stderr",
     "output_type": "stream",
     "text": [
      "[*********************100%***********************]  1 of 1 completed\n"
     ]
    },
    {
     "name": "stdout",
     "output_type": "stream",
     "text": [
      "Data successfully retrieved for TSLA.\n"
     ]
    },
    {
     "name": "stderr",
     "output_type": "stream",
     "text": [
      "[*********************100%***********************]  1 of 1 completed\n"
     ]
    },
    {
     "name": "stdout",
     "output_type": "stream",
     "text": [
      "Data successfully retrieved for BND.\n"
     ]
    },
    {
     "name": "stderr",
     "output_type": "stream",
     "text": [
      "[*********************100%***********************]  1 of 1 completed"
     ]
    },
    {
     "name": "stdout",
     "output_type": "stream",
     "text": [
      "Data successfully retrieved for SPY.\n",
      "Stock Symbol: TSLA\n",
      "Price                       Adj Close       Close        High         Low  \\\n",
      "Ticker                           TSLA        TSLA        TSLA        TSLA   \n",
      "Date                                                                        \n",
      "2024-10-29 00:00:00+00:00  259.519989  259.519989  264.980011  255.509995   \n",
      "2024-10-30 00:00:00+00:00  257.549988  257.549988  263.350006  255.820007   \n",
      "\n",
      "Price                            Open    Volume  \n",
      "Ticker                           TSLA      TSLA  \n",
      "Date                                             \n",
      "2024-10-29 00:00:00+00:00  264.510010  80521800  \n",
      "2024-10-30 00:00:00+00:00  258.040009  53993600  \n",
      "\n",
      "Stock Symbol: BND\n",
      "Price                      Adj Close      Close       High        Low  \\\n",
      "Ticker                           BND        BND        BND        BND   \n",
      "Date                                                                    \n",
      "2024-10-29 00:00:00+00:00  72.901749  73.129997  73.139999  72.790001   \n",
      "2024-10-30 00:00:00+00:00  72.831970  73.059998  73.430000  73.019997   \n",
      "\n",
      "Price                           Open   Volume  \n",
      "Ticker                           BND      BND  \n",
      "Date                                           \n",
      "2024-10-29 00:00:00+00:00  72.900002  5543800  \n",
      "2024-10-30 00:00:00+00:00  73.269997  4610300  \n",
      "\n",
      "Stock Symbol: SPY\n",
      "Price                      Adj Close      Close        High         Low  \\\n",
      "Ticker                           SPY        SPY         SPY         SPY   \n",
      "Date                                                                      \n",
      "2024-10-29 00:00:00+00:00  581.77002  581.77002  582.909973  578.429993   \n",
      "2024-10-30 00:00:00+00:00  580.01001  580.01001  583.320007  579.289978   \n",
      "\n",
      "Price                            Open    Volume  \n",
      "Ticker                            SPY       SPY  \n",
      "Date                                             \n",
      "2024-10-29 00:00:00+00:00  579.849976  42899700  \n",
      "2024-10-30 00:00:00+00:00  581.289978  41435800  \n",
      "\n"
     ]
    },
    {
     "name": "stderr",
     "output_type": "stream",
     "text": [
      "\n"
     ]
    }
   ],
   "source": [
    "# Define the list of stock symbols\n",
    "selected_tickers = [\n",
    "    'TSLA', 'BND', 'SPY'\n",
    "]\n",
    "\n",
    "# Define the start date as '2020-01-01'\n",
    "start_date = '2015-01-01'\n",
    "\n",
    "# Get the current date as the end date\n",
    "end_date = '2024-10-31'\n",
    "\n",
    "# Retrieve data from Yahoo Finance for each stock symbol\n",
    "stock_data = {}\n",
    "for symbol in selected_tickers:\n",
    "    try:\n",
    "        stock_data[symbol] = yf.download(symbol, start=start_date, end=end_date)\n",
    "        print(f\"Data successfully retrieved for {symbol}.\")\n",
    "    except Exception as e:\n",
    "        print(f\"Error fetching data for {symbol}: {e}\")\n",
    "\n",
    "# Print the first few rows of the data for each stock\n",
    "for symbol, data in stock_data.items():\n",
    "    print(f\"Stock Symbol: {symbol}\")\n",
    "    print(data.tail(2))\n",
    "    print()\n"
   ]
  },
  {
   "cell_type": "markdown",
   "metadata": {},
   "source": [
    "### Close price of equities"
   ]
  },
  {
   "cell_type": "code",
   "execution_count": 7,
   "metadata": {
    "execution": {
     "iopub.execute_input": "2024-11-11T18:33:02.278329Z",
     "iopub.status.busy": "2024-11-11T18:33:02.277862Z",
     "iopub.status.idle": "2024-11-11T18:33:02.293919Z",
     "shell.execute_reply": "2024-11-11T18:33:02.292630Z",
     "shell.execute_reply.started": "2024-11-11T18:33:02.278295Z"
    },
    "trusted": true
   },
   "outputs": [
    {
     "name": "stdout",
     "output_type": "stream",
     "text": [
      "Close Prices:\n",
      "                                TSLA        BND         SPY\n",
      "Date                                                       \n",
      "2015-01-02 00:00:00+00:00  14.620667  63.358768  173.173752\n",
      "2015-01-05 00:00:00+00:00  14.006000  63.542786  170.046280\n",
      "2015-01-06 00:00:00+00:00  14.085333  63.726730  168.444672\n",
      "2015-01-07 00:00:00+00:00  14.063333  63.765076  170.543686\n",
      "2015-01-08 00:00:00+00:00  14.041333  63.665394  173.569946\n"
     ]
    }
   ],
   "source": [
    "# Concatenate 'Close' prices from each DataFrame into a single DataFrame\n",
    "close_prices = pd.concat([data['Adj Close'] for data in stock_data.values()], axis=1)\n",
    "close_prices.columns = selected_tickers  # Set column names as selected tickers\n",
    "\n",
    "# Print the first few rows of the new DataFrame\n",
    "print(\"Close Prices:\")\n",
    "print(close_prices.head())\n"
   ]
  },
  {
   "cell_type": "code",
   "execution_count": 8,
   "metadata": {
    "execution": {
     "iopub.execute_input": "2024-11-11T18:33:10.954372Z",
     "iopub.status.busy": "2024-11-11T18:33:10.953372Z",
     "iopub.status.idle": "2024-11-11T18:33:11.337804Z",
     "shell.execute_reply": "2024-11-11T18:33:11.336492Z",
     "shell.execute_reply.started": "2024-11-11T18:33:10.954332Z"
    },
    "trusted": true
   },
   "outputs": [
    {
     "data": {
      "text/html": [
       "<div>\n",
       "<style scoped>\n",
       "    .dataframe tbody tr th:only-of-type {\n",
       "        vertical-align: middle;\n",
       "    }\n",
       "\n",
       "    .dataframe tbody tr th {\n",
       "        vertical-align: top;\n",
       "    }\n",
       "\n",
       "    .dataframe thead th {\n",
       "        text-align: right;\n",
       "    }\n",
       "</style>\n",
       "<table border=\"1\" class=\"dataframe\">\n",
       "  <thead>\n",
       "    <tr style=\"text-align: right;\">\n",
       "      <th></th>\n",
       "      <th>TSLA</th>\n",
       "      <th>BND</th>\n",
       "      <th>SPY</th>\n",
       "    </tr>\n",
       "  </thead>\n",
       "  <tbody>\n",
       "    <tr>\n",
       "      <th>0</th>\n",
       "      <td>0</td>\n",
       "      <td>0</td>\n",
       "      <td>0</td>\n",
       "    </tr>\n",
       "  </tbody>\n",
       "</table>\n",
       "</div>"
      ],
      "text/plain": [
       "   TSLA  BND  SPY\n",
       "0     0    0    0"
      ]
     },
     "execution_count": 8,
     "metadata": {},
     "output_type": "execute_result"
    }
   ],
   "source": [
    "# Calculate missing values for each column\n",
    "close_prices.isna().sum().to_frame().T\n"
   ]
  },
  {
   "cell_type": "code",
   "execution_count": 9,
   "metadata": {
    "execution": {
     "iopub.execute_input": "2024-11-11T18:33:15.221318Z",
     "iopub.status.busy": "2024-11-11T18:33:15.220872Z",
     "iopub.status.idle": "2024-11-11T18:33:15.253982Z",
     "shell.execute_reply": "2024-11-11T18:33:15.252609Z",
     "shell.execute_reply.started": "2024-11-11T18:33:15.221283Z"
    },
    "trusted": true
   },
   "outputs": [
    {
     "data": {
      "text/html": [
       "<div>\n",
       "<style scoped>\n",
       "    .dataframe tbody tr th:only-of-type {\n",
       "        vertical-align: middle;\n",
       "    }\n",
       "\n",
       "    .dataframe tbody tr th {\n",
       "        vertical-align: top;\n",
       "    }\n",
       "\n",
       "    .dataframe thead th {\n",
       "        text-align: right;\n",
       "    }\n",
       "</style>\n",
       "<table border=\"1\" class=\"dataframe\">\n",
       "  <thead>\n",
       "    <tr style=\"text-align: right;\">\n",
       "      <th></th>\n",
       "      <th>count</th>\n",
       "      <th>mean</th>\n",
       "      <th>std</th>\n",
       "      <th>min</th>\n",
       "      <th>25%</th>\n",
       "      <th>50%</th>\n",
       "      <th>75%</th>\n",
       "      <th>max</th>\n",
       "    </tr>\n",
       "  </thead>\n",
       "  <tbody>\n",
       "    <tr>\n",
       "      <th>TSLA</th>\n",
       "      <td>2474.0</td>\n",
       "      <td>111.438965</td>\n",
       "      <td>110.120450</td>\n",
       "      <td>9.578000</td>\n",
       "      <td>17.066167</td>\n",
       "      <td>25.043000</td>\n",
       "      <td>216.865002</td>\n",
       "      <td>409.970001</td>\n",
       "    </tr>\n",
       "    <tr>\n",
       "      <th>BND</th>\n",
       "      <td>2474.0</td>\n",
       "      <td>70.089251</td>\n",
       "      <td>4.889919</td>\n",
       "      <td>62.637539</td>\n",
       "      <td>66.314075</td>\n",
       "      <td>68.888943</td>\n",
       "      <td>73.807495</td>\n",
       "      <td>79.812935</td>\n",
       "    </tr>\n",
       "    <tr>\n",
       "      <th>SPY</th>\n",
       "      <td>2474.0</td>\n",
       "      <td>310.253153</td>\n",
       "      <td>111.250657</td>\n",
       "      <td>157.328598</td>\n",
       "      <td>214.822361</td>\n",
       "      <td>275.812286</td>\n",
       "      <td>402.297485</td>\n",
       "      <td>584.590027</td>\n",
       "    </tr>\n",
       "  </tbody>\n",
       "</table>\n",
       "</div>"
      ],
      "text/plain": [
       "       count        mean         std         min         25%         50%  \\\n",
       "TSLA  2474.0  111.438965  110.120450    9.578000   17.066167   25.043000   \n",
       "BND   2474.0   70.089251    4.889919   62.637539   66.314075   68.888943   \n",
       "SPY   2474.0  310.253153  111.250657  157.328598  214.822361  275.812286   \n",
       "\n",
       "             75%         max  \n",
       "TSLA  216.865002  409.970001  \n",
       "BND    73.807495   79.812935  \n",
       "SPY   402.297485  584.590027  "
      ]
     },
     "execution_count": 9,
     "metadata": {},
     "output_type": "execute_result"
    }
   ],
   "source": [
    "close_prices.describe().T"
   ]
  },
  {
   "cell_type": "code",
   "execution_count": 10,
   "metadata": {
    "execution": {
     "iopub.execute_input": "2024-11-11T18:33:18.894459Z",
     "iopub.status.busy": "2024-11-11T18:33:18.893837Z",
     "iopub.status.idle": "2024-11-11T18:33:18.924929Z",
     "shell.execute_reply": "2024-11-11T18:33:18.923510Z",
     "shell.execute_reply.started": "2024-11-11T18:33:18.894415Z"
    },
    "trusted": true
   },
   "outputs": [
    {
     "name": "stdout",
     "output_type": "stream",
     "text": [
      "Stock Symbol      count      mean        std       min       25%       50%       75%       max\n",
      "--------------  -------  --------  ---------  --------  --------  --------  --------  --------\n",
      "TSLA               2474  111.439   110.12       9.578    17.0662   25.043   216.865   409.97\n",
      "BND                2474   70.0893    4.88992   62.6375   66.3141   68.8889   73.8075   79.8129\n",
      "SPY                2474  310.253   111.251    157.329   214.822   275.812   402.297   584.59\n"
     ]
    }
   ],
   "source": [
    "# Extract descriptive summary of 'Close' prices for each stock\n",
    "summary_data = []\n",
    "for symbol, data in stock_data.items():\n",
    "    summary = [symbol] + list(data['Adj Close'].describe().values)\n",
    "    summary_data.append(summary)\n",
    "\n",
    "# Display the summary using tabulate\n",
    "headers = ['Stock Symbol', 'count', 'mean', 'std', 'min', '25%', '50%', '75%', 'max']\n",
    "print(tabulate(summary_data, headers=headers))"
   ]
  },
  {
   "cell_type": "code",
   "execution_count": 11,
   "metadata": {
    "execution": {
     "iopub.execute_input": "2024-11-11T18:33:22.565945Z",
     "iopub.status.busy": "2024-11-11T18:33:22.565063Z",
     "iopub.status.idle": "2024-11-11T18:33:22.579039Z",
     "shell.execute_reply": "2024-11-11T18:33:22.577740Z",
     "shell.execute_reply.started": "2024-11-11T18:33:22.565903Z"
    },
    "trusted": true
   },
   "outputs": [
    {
     "name": "stdout",
     "output_type": "stream",
     "text": [
      "Log Returns for Each Symbol:\n",
      "                               TSLA       BND       SPY\n",
      "Date                                                   \n",
      "2015-01-02 00:00:00+00:00       NaN       NaN       NaN\n",
      "2015-01-05 00:00:00+00:00 -0.042950  0.002900 -0.018225\n",
      "2015-01-06 00:00:00+00:00  0.005648  0.002891 -0.009463\n",
      "2015-01-07 00:00:00+00:00 -0.001563  0.000602  0.012384\n",
      "2015-01-08 00:00:00+00:00 -0.001566 -0.001564  0.017589\n"
     ]
    }
   ],
   "source": [
    "# Calculate log returns for each symbol\n",
    "log_returns = np.log(1 + close_prices.pct_change())\n",
    "\n",
    "# Print the first few rows of log returns for each symbol\n",
    "print(\"Log Returns for Each Symbol:\")\n",
    "print(log_returns.head())"
   ]
  },
  {
   "cell_type": "code",
   "execution_count": 12,
   "metadata": {},
   "outputs": [
    {
     "data": {
      "image/png": "[encoded data removed]",
      "text/plain": [
       "<Figure size 1200x800 with 1 Axes>"
      ]
     },
     "metadata": {},
     "output_type": "display_data"
    }
   ],
   "source": [
    "import matplotlib.pyplot as plt\n",
    "\n",
    "# Set up the single figure\n",
    "plt.figure(figsize=(12, 8))\n",
    "\n",
    "# Iterate over each symbol to add it to the same plot as a line\n",
    "for symbol in log_returns.columns:\n",
    "    # Plot the log returns for the current symbol as a line\n",
    "    plt.plot(log_returns.index, log_returns[symbol], label=symbol)\n",
    "\n",
    "# Add title, labels, and legend\n",
    "plt.title('Log Returns for All Symbols')\n",
    "plt.xlabel('Date')\n",
    "plt.ylabel('Log Returns')\n",
    "plt.grid(True)\n",
    "plt.legend(title='Symbols', loc='upper right')\n",
    "\n",
    "# Find the overall highest and lowest points across all symbols\n",
    "overall_highest_point = log_returns.max().max()\n",
    "overall_lowest_point = log_returns.min().min()\n",
    "\n",
    "# Get the indices of these points\n",
    "idx_highest = log_returns.stack().idxmax()\n",
    "idx_lowest = log_returns.stack().idxmin()\n",
    "\n",
    "# Add text indicating the highest and lowest returns\n",
    "plt.text(0.05, 0.95, f'Highest Return:\\nDate: {idx_highest[0]}\\nSymbol: {idx_highest[1]}\\nValue: {overall_highest_point:.2f}', \n",
    "         transform=plt.gca().transAxes, color='blue', ha='left', va='top')\n",
    "plt.text(0.05, 0.85, f'Lowest Return:\\nDate: {idx_lowest[0]}\\nSymbol: {idx_lowest[1]}\\nValue: {overall_lowest_point:.2f}', \n",
    "         transform=plt.gca().transAxes, color='red', ha='left', va='top')\n",
    "\n",
    "# Show the plot\n",
    "plt.show()\n"
   ]
  },
  {
   "cell_type": "code",
   "execution_count": 13,
   "metadata": {
    "execution": {
     "iopub.execute_input": "2024-11-11T18:33:51.609938Z",
     "iopub.status.busy": "2024-11-11T18:33:51.609455Z",
     "iopub.status.idle": "2024-11-11T18:33:51.620807Z",
     "shell.execute_reply": "2024-11-11T18:33:51.619384Z",
     "shell.execute_reply.started": "2024-11-11T18:33:51.609901Z"
    },
    "trusted": true
   },
   "outputs": [
    {
     "name": "stdout",
     "output_type": "stream",
     "text": [
      "Variance for Each Symbol:\n",
      "TSLA    0.001276\n",
      "BND     0.000012\n",
      "SPY     0.000125\n",
      "dtype: float64\n"
     ]
    }
   ],
   "source": [
    "# Calculate variance for each stock symbol\n",
    "var = log_returns.var()\n",
    "\n",
    "# Print the variance for each symbol\n",
    "print(\"Variance for Each Symbol:\")\n",
    "print(var)"
   ]
  },
  {
   "cell_type": "code",
   "execution_count": 14,
   "metadata": {
    "execution": {
     "iopub.execute_input": "2024-11-11T18:33:54.679147Z",
     "iopub.status.busy": "2024-11-11T18:33:54.678041Z",
     "iopub.status.idle": "2024-11-11T18:33:55.039359Z",
     "shell.execute_reply": "2024-11-11T18:33:55.037796Z",
     "shell.execute_reply.started": "2024-11-11T18:33:54.679104Z"
    },
    "trusted": true
   },
   "outputs": [
    {
     "data": {
      "image/png": "[encoded data removed]",
      "text/plain": [
       "<Figure size 1000x600 with 1 Axes>"
      ]
     },
     "metadata": {},
     "output_type": "display_data"
    }
   ],
   "source": [
    "# Create the bar plot\n",
    "plt.figure(figsize=(10, 6))\n",
    "plt.bar(var.index, var.values, color='#283149')  # Assuming you want to use the first color in your defined palette\n",
    "plt.title('Variance of Log Returns for Each Symbol')\n",
    "plt.xlabel('Stock Symbol')\n",
    "plt.ylabel('Variance')\n",
    "plt.xticks(rotation=45)  # Rotate x-axis labels for better readability\n",
    "plt.tight_layout()  # Adjust layout to prevent clipping of labels\n",
    "plt.show()"
   ]
  },
  {
   "cell_type": "code",
   "execution_count": 15,
   "metadata": {
    "execution": {
     "iopub.execute_input": "2024-11-11T18:33:58.950112Z",
     "iopub.status.busy": "2024-11-11T18:33:58.949030Z",
     "iopub.status.idle": "2024-11-11T18:33:59.227386Z",
     "shell.execute_reply": "2024-11-11T18:33:59.226149Z",
     "shell.execute_reply.started": "2024-11-11T18:33:58.950051Z"
    },
    "trusted": true
   },
   "outputs": [
    {
     "data": {
      "image/png": "[encoded data removed]",
      "text/plain": [
       "<Figure size 1000x600 with 1 Axes>"
      ]
     },
     "metadata": {},
     "output_type": "display_data"
    }
   ],
   "source": [
    "# Calculate volatility using the provided formula (square root of variance * sqrt(250))\n",
    "volatility_values = np.sqrt(var * 250)\n",
    "\n",
    "# Plot bar chart for volatility\n",
    "plt.figure(figsize=(10, 6))\n",
    "plt.bar(volatility_values.index, volatility_values.values, color='#283149')\n",
    "plt.title('Volatility for Each Symbol')\n",
    "plt.xlabel('Symbol')\n",
    "plt.ylabel('Volatility')\n",
    "plt.xticks(rotation=45)\n",
    "plt.grid(axis='y')\n",
    "plt.show()\n"
   ]
  },
  {
   "cell_type": "code",
   "execution_count": 16,
   "metadata": {
    "execution": {
     "iopub.execute_input": "2024-11-11T18:34:02.806761Z",
     "iopub.status.busy": "2024-11-11T18:34:02.806306Z",
     "iopub.status.idle": "2024-11-11T18:34:02.817757Z",
     "shell.execute_reply": "2024-11-11T18:34:02.816509Z",
     "shell.execute_reply.started": "2024-11-11T18:34:02.806727Z"
    },
    "trusted": true
   },
   "outputs": [
    {
     "name": "stdout",
     "output_type": "stream",
     "text": [
      "Covariance Matrix:\n",
      "          TSLA       BND       SPY\n",
      "TSLA  0.001276  0.000007  0.000188\n",
      "BND   0.000007  0.000012  0.000004\n",
      "SPY   0.000188  0.000004  0.000125\n"
     ]
    }
   ],
   "source": [
    "# Calculate covariance between all symbols\n",
    "covariance_matrix = log_returns.cov()\n",
    "\n",
    "print(\"Covariance Matrix:\")\n",
    "print(covariance_matrix)\n"
   ]
  },
  {
   "cell_type": "code",
   "execution_count": 17,
   "metadata": {
    "execution": {
     "iopub.execute_input": "2024-11-11T18:34:06.486327Z",
     "iopub.status.busy": "2024-11-11T18:34:06.485858Z",
     "iopub.status.idle": "2024-11-11T18:34:06.496313Z",
     "shell.execute_reply": "2024-11-11T18:34:06.495089Z",
     "shell.execute_reply.started": "2024-11-11T18:34:06.486294Z"
    },
    "trusted": true
   },
   "outputs": [
    {
     "name": "stdout",
     "output_type": "stream",
     "text": [
      "Correlation Matrix:\n",
      "          TSLA       BND       SPY\n",
      "TSLA  1.000000  0.060522  0.470800\n",
      "BND   0.060522  1.000000  0.109102\n",
      "SPY   0.470800  0.109102  1.000000\n"
     ]
    }
   ],
   "source": [
    "# Calculate correlation between all symbols\n",
    "correlation_matrix = log_returns.corr()\n",
    "\n",
    "print(\"Correlation Matrix:\")\n",
    "print(correlation_matrix)\n"
   ]
  },
  {
   "cell_type": "code",
   "execution_count": 18,
   "metadata": {
    "execution": {
     "iopub.execute_input": "2024-11-11T18:34:09.765558Z",
     "iopub.status.busy": "2024-11-11T18:34:09.765059Z",
     "iopub.status.idle": "2024-11-11T18:34:10.169938Z",
     "shell.execute_reply": "2024-11-11T18:34:10.168571Z",
     "shell.execute_reply.started": "2024-11-11T18:34:09.765515Z"
    },
    "trusted": true
   },
   "outputs": [
    {
     "data": {
      "image/png": "[encoded data removed]",
      "text/plain": [
       "<Figure size 1000x800 with 2 Axes>"
      ]
     },
     "metadata": {},
     "output_type": "display_data"
    }
   ],
   "source": [
    "# Plot heatmap with annotations\n",
    "plt.figure(figsize=(10, 8))\n",
    "plt.imshow(correlation_matrix, cmap='coolwarm', interpolation='nearest')\n",
    "\n",
    "# Add annotations\n",
    "for i in range(len(correlation_matrix)):\n",
    "    for j in range(len(correlation_matrix)):\n",
    "        plt.text(j, i, f\"{correlation_matrix.iloc[i, j]:.2f}\", ha='center', va='center', color='white')\n",
    "\n",
    "plt.colorbar(label='Correlation')\n",
    "plt.title('Correlation Heatmap of Log Returns')\n",
    "plt.xticks(range(len(correlation_matrix.columns)), correlation_matrix.columns, rotation=45)\n",
    "plt.yticks(range(len(correlation_matrix.columns)), correlation_matrix.columns)\n",
    "plt.show()"
   ]
  },
  {
   "cell_type": "code",
   "execution_count": 19,
   "metadata": {
    "execution": {
     "iopub.execute_input": "2024-11-11T18:34:13.286463Z",
     "iopub.status.busy": "2024-11-11T18:34:13.285995Z",
     "iopub.status.idle": "2024-11-11T18:34:13.296536Z",
     "shell.execute_reply": "2024-11-11T18:34:13.295161Z",
     "shell.execute_reply.started": "2024-11-11T18:34:13.286429Z"
    },
    "trusted": true
   },
   "outputs": [
    {
     "name": "stdout",
     "output_type": "stream",
     "text": [
      "Portfolio Expected Return: 0.0005683878348578397\n"
     ]
    }
   ],
   "source": [
    "# Define the number of equities\n",
    "num_equities = 3\n",
    "\n",
    "# Calculate equal weights\n",
    "equal_weights = np.full(num_equities, 1 / num_equities)\n",
    "\n",
    "\n",
    "# Calculate expected return for each equity\n",
    "expected_returns = log_returns.mean()\n",
    "\n",
    "# Calculate portfolio expected return\n",
    "portfolio_expected_return = np.dot(expected_returns, equal_weights)\n",
    "\n",
    "print(\"Portfolio Expected Return:\", portfolio_expected_return)\n"
   ]
  },
  {
   "cell_type": "markdown",
   "metadata": {},
   "source": [
    "## Analysis of Portfolio"
   ]
  },
  {
   "cell_type": "code",
   "execution_count": 20,
   "metadata": {
    "execution": {
     "iopub.execute_input": "2024-11-11T18:34:16.718912Z",
     "iopub.status.busy": "2024-11-11T18:34:16.718504Z",
     "iopub.status.idle": "2024-11-11T18:34:16.728306Z",
     "shell.execute_reply": "2024-11-11T18:34:16.727002Z",
     "shell.execute_reply.started": "2024-11-11T18:34:16.718883Z"
    },
    "trusted": true
   },
   "outputs": [
    {
     "name": "stdout",
     "output_type": "stream",
     "text": [
      "Portfolio Variance: 0.00020128642278816565\n"
     ]
    }
   ],
   "source": [
    "# Calculate portfolio variance\n",
    "portfolio_variance = (covariance_matrix.mul(equal_weights, axis=0)\n",
    "                                      .mul(equal_weights, axis=1)\n",
    "                                      .sum()\n",
    "                                      .sum())\n",
    "\n",
    "print(\"Portfolio Variance:\", portfolio_variance)\n"
   ]
  },
  {
   "cell_type": "code",
   "execution_count": 21,
   "metadata": {
    "execution": {
     "iopub.execute_input": "2024-11-11T18:34:20.311062Z",
     "iopub.status.busy": "2024-11-11T18:34:20.310663Z",
     "iopub.status.idle": "2024-11-11T18:34:20.327945Z",
     "shell.execute_reply": "2024-11-11T18:34:20.326621Z",
     "shell.execute_reply.started": "2024-11-11T18:34:20.311033Z"
    },
    "trusted": true
   },
   "outputs": [
    {
     "data": {
      "text/plain": [
       "TSLA    1.000953\n",
       "BND     0.017341\n",
       "SPY     0.153997\n",
       "dtype: float64"
      ]
     },
     "execution_count": 21,
     "metadata": {},
     "output_type": "execute_result"
    }
   ],
   "source": [
    "# Yearly returns for individual companies\n",
    "yearly_returns = close_prices.resample('Y').last().pct_change()\n",
    "ind_er = yearly_returns.mean()\n",
    "ind_er\n"
   ]
  },
  {
   "cell_type": "code",
   "execution_count": 22,
   "metadata": {
    "execution": {
     "iopub.execute_input": "2024-11-11T18:34:23.269573Z",
     "iopub.status.busy": "2024-11-11T18:34:23.269137Z",
     "iopub.status.idle": "2024-11-11T18:34:23.278337Z",
     "shell.execute_reply": "2024-11-11T18:34:23.276663Z",
     "shell.execute_reply.started": "2024-11-11T18:34:23.269532Z"
    },
    "trusted": true
   },
   "outputs": [
    {
     "name": "stdout",
     "output_type": "stream",
     "text": [
      "Portfolio Expected Return: 0.3907634574421368\n"
     ]
    }
   ],
   "source": [
    "# Calculate expected return for each equity\n",
    "expected_returns = yearly_returns.mean()\n",
    "\n",
    "# Calculate portfolio expected return\n",
    "portfolio_expected_return = np.dot(expected_returns, equal_weights)\n",
    "\n",
    "print(\"Portfolio Expected Return:\", portfolio_expected_return)\n"
   ]
  },
  {
   "cell_type": "code",
   "execution_count": 23,
   "metadata": {
    "execution": {
     "iopub.execute_input": "2024-11-11T18:34:26.149064Z",
     "iopub.status.busy": "2024-11-11T18:34:26.148643Z",
     "iopub.status.idle": "2024-11-11T18:34:26.158229Z",
     "shell.execute_reply": "2024-11-11T18:34:26.156705Z",
     "shell.execute_reply.started": "2024-11-11T18:34:26.149018Z"
    },
    "trusted": true
   },
   "outputs": [
    {
     "name": "stdout",
     "output_type": "stream",
     "text": [
      "Portfolio Variance: 0.00020128642278816565\n"
     ]
    }
   ],
   "source": [
    "# Calculate portfolio variance\n",
    "portfolio_variance = (covariance_matrix.mul(equal_weights, axis=0)\n",
    "                                      .mul(equal_weights, axis=1)\n",
    "                                      .sum()\n",
    "                                      .sum())\n",
    "\n",
    "print(\"Portfolio Variance:\", portfolio_variance)\n"
   ]
  },
  {
   "cell_type": "code",
   "execution_count": 24,
   "metadata": {
    "execution": {
     "iopub.execute_input": "2024-11-11T18:34:28.995364Z",
     "iopub.status.busy": "2024-11-11T18:34:28.994829Z",
     "iopub.status.idle": "2024-11-11T18:34:40.159231Z",
     "shell.execute_reply": "2024-11-11T18:34:40.158049Z",
     "shell.execute_reply.started": "2024-11-11T18:34:28.995324Z"
    },
    "trusted": true
   },
   "outputs": [
    {
     "data": {
      "text/html": [
       "<div>\n",
       "<style scoped>\n",
       "    .dataframe tbody tr th:only-of-type {\n",
       "        vertical-align: middle;\n",
       "    }\n",
       "\n",
       "    .dataframe tbody tr th {\n",
       "        vertical-align: top;\n",
       "    }\n",
       "\n",
       "    .dataframe thead th {\n",
       "        text-align: right;\n",
       "    }\n",
       "</style>\n",
       "<table border=\"1\" class=\"dataframe\">\n",
       "  <thead>\n",
       "    <tr style=\"text-align: right;\">\n",
       "      <th></th>\n",
       "      <th>Returns</th>\n",
       "      <th>Volatility</th>\n",
       "      <th>TSLA weight</th>\n",
       "      <th>BND weight</th>\n",
       "      <th>SPY weight</th>\n",
       "    </tr>\n",
       "  </thead>\n",
       "  <tbody>\n",
       "    <tr>\n",
       "      <th>0</th>\n",
       "      <td>0.354697</td>\n",
       "      <td>0.202169</td>\n",
       "      <td>0.307475</td>\n",
       "      <td>0.436993</td>\n",
       "      <td>0.255532</td>\n",
       "    </tr>\n",
       "    <tr>\n",
       "      <th>1</th>\n",
       "      <td>0.382463</td>\n",
       "      <td>0.218289</td>\n",
       "      <td>0.331345</td>\n",
       "      <td>0.381749</td>\n",
       "      <td>0.286907</td>\n",
       "    </tr>\n",
       "    <tr>\n",
       "      <th>2</th>\n",
       "      <td>0.647310</td>\n",
       "      <td>0.363996</td>\n",
       "      <td>0.623042</td>\n",
       "      <td>0.251550</td>\n",
       "      <td>0.125408</td>\n",
       "    </tr>\n",
       "    <tr>\n",
       "      <th>3</th>\n",
       "      <td>0.136699</td>\n",
       "      <td>0.109130</td>\n",
       "      <td>0.054001</td>\n",
       "      <td>0.461262</td>\n",
       "      <td>0.484737</td>\n",
       "    </tr>\n",
       "    <tr>\n",
       "      <th>4</th>\n",
       "      <td>0.310703</td>\n",
       "      <td>0.190710</td>\n",
       "      <td>0.226466</td>\n",
       "      <td>0.256852</td>\n",
       "      <td>0.516682</td>\n",
       "    </tr>\n",
       "  </tbody>\n",
       "</table>\n",
       "</div>"
      ],
      "text/plain": [
       "    Returns  Volatility  TSLA weight  BND weight  SPY weight\n",
       "0  0.354697    0.202169     0.307475    0.436993    0.255532\n",
       "1  0.382463    0.218289     0.331345    0.381749    0.286907\n",
       "2  0.647310    0.363996     0.623042    0.251550    0.125408\n",
       "3  0.136699    0.109130     0.054001    0.461262    0.484737\n",
       "4  0.310703    0.190710     0.226466    0.256852    0.516682"
      ]
     },
     "execution_count": 24,
     "metadata": {},
     "output_type": "execute_result"
    }
   ],
   "source": [
    "# Calculate annualized standard deviation\n",
    "ann_sd = close_prices.pct_change().apply(lambda x: np.log(1+x)).std().apply(lambda x: x*np.sqrt(250))\n",
    "\n",
    "# Combine returns and volatility into a DataFrame\n",
    "assets = pd.concat([ind_er, ann_sd], axis=1)\n",
    "assets.columns = ['Returns', 'Volatility']\n",
    "\n",
    "# Initialize lists for portfolio returns, volatility, and weights\n",
    "p_ret = []\n",
    "p_vol = []\n",
    "p_weights = []\n",
    "\n",
    "num_assets = len(close_prices.columns)\n",
    "num_portfolios = 10000\n",
    "\n",
    "# Generate random portfolios\n",
    "for _ in range(num_portfolios):\n",
    "    weights = np.random.random(num_assets)\n",
    "    weights /= np.sum(weights)  # Normalize weights to sum up to 1\n",
    "    p_weights.append(weights)\n",
    "    returns = np.dot(weights, ind_er)  # Portfolio returns\n",
    "    p_ret.append(returns)\n",
    "    # Portfolio variance\n",
    "    var = covariance_matrix.mul(weights, axis=0).mul(weights, axis=1).sum().sum()\n",
    "    sd = np.sqrt(var)  # Daily standard deviation\n",
    "    ann_sd = sd * np.sqrt(250)  # Annual standard deviation = volatility\n",
    "    p_vol.append(ann_sd)\n",
    "\n",
    "# Construct DataFrame for portfolios\n",
    "data = {'Returns': p_ret, 'Volatility': p_vol}\n",
    "for counter, symbol in enumerate(close_prices.columns.tolist()):\n",
    "    data[symbol + ' weight'] = [w[counter] for w in p_weights]\n",
    "\n",
    "portfolios = pd.DataFrame(data)\n",
    "portfolios.head()\n"
   ]
  },
  {
   "cell_type": "code",
   "execution_count": 25,
   "metadata": {
    "execution": {
     "iopub.execute_input": "2024-11-11T18:34:50.323865Z",
     "iopub.status.busy": "2024-11-11T18:34:50.323425Z",
     "iopub.status.idle": "2024-11-11T18:34:50.661436Z",
     "shell.execute_reply": "2024-11-11T18:34:50.659931Z",
     "shell.execute_reply.started": "2024-11-11T18:34:50.323830Z"
    },
    "trusted": true
   },
   "outputs": [
    {
     "data": {
      "text/plain": [
       "<Axes: xlabel='Volatility', ylabel='Returns'>"
      ]
     },
     "execution_count": 25,
     "metadata": {},
     "output_type": "execute_result"
    },
    {
     "data": {
      "image/png": "[encoded data removed]",
      "text/plain": [
       "<Figure size 640x480 with 1 Axes>"
      ]
     },
     "metadata": {},
     "output_type": "display_data"
    }
   ],
   "source": [
    "# Plot efficient frontier\n",
    "portfolios.plot.scatter(x='Volatility', y='Returns', s=20)\n"
   ]
  },
  {
   "cell_type": "code",
   "execution_count": 26,
   "metadata": {
    "execution": {
     "iopub.execute_input": "2024-11-11T18:34:55.474961Z",
     "iopub.status.busy": "2024-11-11T18:34:55.474537Z",
     "iopub.status.idle": "2024-11-11T18:34:55.485608Z",
     "shell.execute_reply": "2024-11-11T18:34:55.484354Z",
     "shell.execute_reply.started": "2024-11-11T18:34:55.474928Z"
    },
    "trusted": true
   },
   "outputs": [
    {
     "data": {
      "text/plain": [
       "Returns        0.028093\n",
       "Volatility     0.053359\n",
       "TSLA weight    0.001087\n",
       "BND weight     0.928054\n",
       "SPY weight     0.070859\n",
       "Name: 3069, dtype: float64"
      ]
     },
     "execution_count": 26,
     "metadata": {},
     "output_type": "execute_result"
    }
   ],
   "source": [
    "min_vol_port = portfolios.iloc[portfolios['Volatility'].idxmin()]\n",
    "# idxmin() gives us the minimum value in the column specified.                               \n",
    "min_vol_port"
   ]
  },
  {
   "cell_type": "code",
   "execution_count": 27,
   "metadata": {
    "execution": {
     "iopub.execute_input": "2024-11-11T18:34:58.653780Z",
     "iopub.status.busy": "2024-11-11T18:34:58.653348Z",
     "iopub.status.idle": "2024-11-11T18:34:58.666433Z",
     "shell.execute_reply": "2024-11-11T18:34:58.664688Z",
     "shell.execute_reply.started": "2024-11-11T18:34:58.653749Z"
    },
    "trusted": true
   },
   "outputs": [
    {
     "data": {
      "text/plain": [
       "Returns        0.848749\n",
       "Volatility     0.477983\n",
       "TSLA weight    0.845115\n",
       "BND weight     0.153842\n",
       "SPY weight     0.001043\n",
       "Name: 9898, dtype: float64"
      ]
     },
     "execution_count": 27,
     "metadata": {},
     "output_type": "execute_result"
    }
   ],
   "source": [
    "# Finding the optimal portfolio\n",
    "rf = 0.01 # risk factor\n",
    "optimal_risky_port = portfolios.iloc[((portfolios['Returns']-rf)/portfolios['Volatility']).idxmax()]\n",
    "optimal_risky_port"
   ]
  },
  {
   "cell_type": "code",
   "execution_count": 28,
   "metadata": {
    "execution": {
     "iopub.execute_input": "2024-11-11T18:35:05.703048Z",
     "iopub.status.busy": "2024-11-11T18:35:05.702603Z",
     "iopub.status.idle": "2024-11-11T18:35:06.258437Z",
     "shell.execute_reply": "2024-11-11T18:35:06.256891Z",
     "shell.execute_reply.started": "2024-11-11T18:35:05.703013Z"
    },
    "trusted": true
   },
   "outputs": [
    {
     "data": {
      "image/png": "[encoded data removed]",
      "text/plain": [
       "<Figure size 1000x1000 with 1 Axes>"
      ]
     },
     "metadata": {},
     "output_type": "display_data"
    }
   ],
   "source": [
    "# Plotting the optimal portfolio\n",
    "plt.subplots(figsize=(10, 10))\n",
    "plt.scatter(portfolios['Volatility'], portfolios['Returns'], marker='o', s=10, alpha=0.3, label='Portfolios')\n",
    "plt.scatter(min_vol_port[1], min_vol_port[0], color='r', marker='*', s=500, label='Minimum Volatility Portfolio')\n",
    "plt.scatter(optimal_risky_port[1], optimal_risky_port[0], color='g', marker='*', s=500, label='Optimal Risky Portfolio')\n",
    "plt.xlabel('Volatility')\n",
    "plt.ylabel('Returns')\n",
    "plt.title('Optimal Portfolio vs. Other Portfolios')\n",
    "plt.legend()\n",
    "plt.show()\n"
   ]
  },
  {
   "cell_type": "code",
   "execution_count": 29,
   "metadata": {
    "execution": {
     "iopub.execute_input": "2024-11-11T18:35:18.245039Z",
     "iopub.status.busy": "2024-11-11T18:35:18.244583Z",
     "iopub.status.idle": "2024-11-11T18:35:18.260282Z",
     "shell.execute_reply": "2024-11-11T18:35:18.259051Z",
     "shell.execute_reply.started": "2024-11-11T18:35:18.245003Z"
    },
    "trusted": true
   },
   "outputs": [],
   "source": [
    "prices = close_prices\n",
    "\n",
    "# Convert prices to returns\n",
    "X = prices_to_returns(prices)\n",
    "\n",
    "# Split the data into training and test sets\n",
    "X_train, X_test = train_test_split(X, test_size=0.3, shuffle=False)\n",
    "\n",
    "\n"
   ]
  },
  {
   "cell_type": "code",
   "execution_count": 30,
   "metadata": {
    "execution": {
     "iopub.execute_input": "2024-11-11T18:35:20.715723Z",
     "iopub.status.busy": "2024-11-11T18:35:20.715128Z",
     "iopub.status.idle": "2024-11-11T18:35:20.723955Z",
     "shell.execute_reply": "2024-11-11T18:35:20.722647Z",
     "shell.execute_reply.started": "2024-11-11T18:35:20.715688Z"
    },
    "trusted": true
   },
   "outputs": [
    {
     "data": {
      "text/plain": [
       "((1731, 3), (742, 3))"
      ]
     },
     "execution_count": 30,
     "metadata": {},
     "output_type": "execute_result"
    }
   ],
   "source": [
    "X_train.shape , X_test.shape"
   ]
  },
  {
   "cell_type": "code",
   "execution_count": 31,
   "metadata": {
    "execution": {
     "iopub.execute_input": "2024-11-11T18:35:24.739624Z",
     "iopub.status.busy": "2024-11-11T18:35:24.739213Z",
     "iopub.status.idle": "2024-11-11T18:35:24.923753Z",
     "shell.execute_reply": "2024-11-11T18:35:24.922537Z",
     "shell.execute_reply.started": "2024-11-11T18:35:24.739595Z"
    },
    "trusted": true
   },
   "outputs": [
    {
     "name": "stdout",
     "output_type": "stream",
     "text": [
      "(30, 3)\n"
     ]
    }
   ],
   "source": [
    "# Create the Mean-Variance model\n",
    "model = MeanRisk(\n",
    "    risk_measure=RiskMeasure.VARIANCE,\n",
    "    efficient_frontier_size=30,\n",
    "    portfolio_params=dict(name=\"Variance\"),\n",
    ")\n",
    "\n",
    "# Fit the model on the training set\n",
    "model.fit(X_train)\n",
    "\n",
    "# Print the shape of the weights\n",
    "print(model.weights_.shape)\n",
    "\n"
   ]
  },
  {
   "cell_type": "code",
   "execution_count": 32,
   "metadata": {
    "execution": {
     "iopub.execute_input": "2024-11-11T18:35:28.099806Z",
     "iopub.status.busy": "2024-11-11T18:35:28.099384Z",
     "iopub.status.idle": "2024-11-11T18:35:28.741908Z",
     "shell.execute_reply": "2024-11-11T18:35:28.740698Z",
     "shell.execute_reply.started": "2024-11-11T18:35:28.099775Z"
    },
    "trusted": true
   },
   "outputs": [],
   "source": [
    "# Predict on the training and test sets\n",
    "population_train = model.predict(X_train)\n",
    "population_test = model.predict(X_test)"
   ]
  },
  {
   "cell_type": "code",
   "execution_count": 33,
   "metadata": {},
   "outputs": [
    {
     "name": "stdout",
     "output_type": "stream",
     "text": [
      "Requirement already satisfied: nbformat in c:\\users\\getac\\anaconda3\\envs\\myenv\\lib\\site-packages (5.10.4)\n",
      "Requirement already satisfied: fastjsonschema>=2.15 in c:\\users\\getac\\anaconda3\\envs\\myenv\\lib\\site-packages (from nbformat) (2.20.0)\n",
      "Requirement already satisfied: jsonschema>=2.6 in c:\\users\\getac\\anaconda3\\envs\\myenv\\lib\\site-packages (from nbformat) (4.23.0)\n",
      "Requirement already satisfied: jupyter-core!=5.0.*,>=4.12 in c:\\users\\getac\\anaconda3\\envs\\myenv\\lib\\site-packages (from nbformat) (5.7.2)\n",
      "Requirement already satisfied: traitlets>=5.1 in c:\\users\\getac\\anaconda3\\envs\\myenv\\lib\\site-packages (from nbformat) (5.14.3)\n",
      "Requirement already satisfied: attrs>=22.2.0 in c:\\users\\getac\\anaconda3\\envs\\myenv\\lib\\site-packages (from jsonschema>=2.6->nbformat) (24.2.0)\n",
      "Requirement already satisfied: jsonschema-specifications>=2023.03.6 in c:\\users\\getac\\anaconda3\\envs\\myenv\\lib\\site-packages (from jsonschema>=2.6->nbformat) (2024.10.1)\n",
      "Requirement already satisfied: referencing>=0.28.4 in c:\\users\\getac\\anaconda3\\envs\\myenv\\lib\\site-packages (from jsonschema>=2.6->nbformat) (0.35.1)\n",
      "Requirement already satisfied: rpds-py>=0.7.1 in c:\\users\\getac\\anaconda3\\envs\\myenv\\lib\\site-packages (from jsonschema>=2.6->nbformat) (0.21.0)\n",
      "Requirement already satisfied: platformdirs>=2.5 in c:\\users\\getac\\anaconda3\\envs\\myenv\\lib\\site-packages (from jupyter-core!=5.0.*,>=4.12->nbformat) (4.3.6)\n",
      "Requirement already satisfied: pywin32>=300 in c:\\users\\getac\\anaconda3\\envs\\myenv\\lib\\site-packages (from jupyter-core!=5.0.*,>=4.12->nbformat) (308)\n",
      "Note: you may need to restart the kernel to use updated packages.\n"
     ]
    }
   ],
   "source": [
    "pip install -U nbformat\n"
   ]
  },
  {
   "cell_type": "code",
   "execution_count": 34,
   "metadata": {},
   "outputs": [
    {
     "name": "stdout",
     "output_type": "stream",
     "text": [
      "Requirement already satisfied: plotly in c:\\users\\getac\\appdata\\roaming\\python\\python312\\site-packages (5.24.1)\n",
      "Requirement already satisfied: tenacity>=6.2.0 in c:\\users\\getac\\appdata\\roaming\\python\\python312\\site-packages (from plotly) (9.0.0)\n",
      "Requirement already satisfied: packaging in c:\\users\\getac\\appdata\\roaming\\python\\python312\\site-packages (from plotly) (24.1)\n",
      "Note: you may need to restart the kernel to use updated packages.\n"
     ]
    }
   ],
   "source": [
    "pip install -U plotly\n"
   ]
  },
  {
   "cell_type": "code",
   "execution_count": null,
   "metadata": {},
   "outputs": [],
   "source": []
  },
  {
   "cell_type": "code",
   "execution_count": 35,
   "metadata": {},
   "outputs": [
    {
     "name": "stdout",
     "output_type": "stream",
     "text": [
      "5.10.4\n"
     ]
    }
   ],
   "source": [
    "import nbformat\n",
    "print(nbformat.__version__)\n"
   ]
  },
  {
   "cell_type": "code",
   "execution_count": 36,
   "metadata": {
    "execution": {
     "iopub.execute_input": "2024-11-11T18:36:02.419455Z",
     "iopub.status.busy": "2024-11-11T18:36:02.418912Z",
     "iopub.status.idle": "2024-11-11T18:36:02.533534Z",
     "shell.execute_reply": "2024-11-11T18:36:02.531691Z",
     "shell.execute_reply.started": "2024-11-11T18:36:02.419416Z"
    },
    "trusted": true
   },
   "outputs": [
    {
     "data": {
      "application/vnd.plotly.v1+json": {
       "config": {
        "plotlyServerURL": "https://plot.ly"
       },
       "data": [
        {
         "customdata": [
          [
           "Train",
           0.09381632430130707,
           1.106807358592048,
           0.8413287904365065
          ],
          [
           "Train",
           0.10564255538057185,
           1.5331870841863864,
           1.1752760863444494
          ],
          [
           "Train",
           0.12673783101598035,
           1.7421512139145403,
           1.3188982566143677
          ],
          [
           "Train",
           0.15554108742692868,
           1.8168864597933851,
           1.3548971306869946
          ],
          [
           "Train",
           0.185298132331029,
           1.8324508084047542,
           1.3500568618221092
          ],
          [
           "Train",
           0.21525302112288158,
           1.8252746469093295,
           1.3327548254732156
          ],
          [
           "Train",
           0.24528173825996458,
           1.8100171878902862,
           1.3130963507838034
          ],
          [
           "Train",
           0.27527890916795217,
           1.7928838728790697,
           1.294409656333374
          ],
          [
           "Train",
           0.3052682143063008,
           1.7760863763338162,
           1.277630164663931
          ],
          [
           "Train",
           0.335266739410376,
           1.760493979728108,
           1.2628601589752286
          ],
          [
           "Train",
           0.36526359776201067,
           1.7463671043338593,
           1.2499302022259056
          ],
          [
           "Train",
           0.3952582850652846,
           1.7336809963392703,
           1.2386026878008327
          ],
          [
           "Train",
           0.42525247800512567,
           1.7223242240148937,
           1.2286439578765225
          ],
          [
           "Train",
           0.4552661394144404,
           1.7121171667124366,
           1.2198471331513236
          ],
          [
           "Train",
           0.48526650761995316,
           1.7029576831389228,
           1.212036543260598
          ],
          [
           "Train",
           0.5152355061865393,
           1.6947369809325081,
           1.2050655531388372
          ],
          [
           "Train",
           0.5452263100905006,
           1.6872662214913525,
           1.1988124376258273
          ],
          [
           "Train",
           0.5752210997695201,
           1.6804748352960135,
           1.1931763503505002
          ],
          [
           "Train",
           0.5994913749196795,
           1.6801801923342752,
           1.187512008847258
          ],
          [
           "Train",
           0.6229176148890958,
           1.6790358515625614,
           1.1811216016402966
          ],
          [
           "Train",
           0.6463441307412104,
           1.6764695857375218,
           1.1743118618464783
          ],
          [
           "Train",
           0.6697705044298369,
           1.672830944356626,
           1.167307501819946
          ],
          [
           "Train",
           0.6931968665608963,
           1.668425527796733,
           1.1602649739533692
          ],
          [
           "Train",
           0.7166232462766905,
           1.6634835840253022,
           1.153291584091337
          ],
          [
           "Train",
           0.7400496335758269,
           1.6581475930011778,
           1.146459444218853
          ],
          [
           "Train",
           0.7634760048998821,
           1.6525166599111147,
           1.1398156039210532
          ],
          [
           "Train",
           0.7869023694473432,
           1.6467060733070913,
           1.1333892912745136
          ],
          [
           "Train",
           0.8103287220678739,
           1.6408085365461085,
           1.1271970810487988
          ],
          [
           "Train",
           0.833755122620528,
           1.6348938927040157,
           1.1212467190900968
          ],
          [
           "Train",
           0.8571814926704995,
           1.629015119360082,
           1.1155396295771651
          ]
         ],
         "hovertemplate": "<b>%{hovertext}</b><br><br>tag=%{customdata[0]}<br>Annualized Variance=%{x:.3f}<br>Annualized Mean=%{y:.3f}<br>MAX Drawdown=%{customdata[1]:.3f}<br>Annualized Sortino Ratio=%{customdata[2]:.3f}<br>Annualized Sharpe Ratio=%{marker.color:.3f}<extra></extra>",
         "hovertext": [
          "ptf0 - Variance",
          "ptf1 - Variance",
          "ptf2 - Variance",
          "ptf3 - Variance",
          "ptf4 - Variance",
          "ptf5 - Variance",
          "ptf6 - Variance",
          "ptf7 - Variance",
          "ptf8 - Variance",
          "ptf9 - Variance",
          "ptf10 - Variance",
          "ptf11 - Variance",
          "ptf12 - Variance",
          "ptf13 - Variance",
          "ptf14 - Variance",
          "ptf15 - Variance",
          "ptf16 - Variance",
          "ptf17 - Variance",
          "ptf18 - Variance",
          "ptf19 - Variance",
          "ptf20 - Variance",
          "ptf21 - Variance",
          "ptf22 - Variance",
          "ptf23 - Variance",
          "ptf24 - Variance",
          "ptf25 - Variance",
          "ptf26 - Variance",
          "ptf27 - Variance",
          "ptf28 - Variance",
          "ptf29 - Variance"
         ],
         "legendgroup": "Train",
         "marker": {
          "color": [
           0.8413287904365065,
           1.1752760863444494,
           1.3188982566143677,
           1.3548971306869946,
           1.3500568618221092,
           1.3327548254732156,
           1.3130963507838034,
           1.294409656333374,
           1.277630164663931,
           1.2628601589752286,
           1.2499302022259056,
           1.2386026878008327,
           1.2286439578765225,
           1.2198471331513236,
           1.212036543260598,
           1.2050655531388372,
           1.1988124376258273,
           1.1931763503505002,
           1.187512008847258,
           1.1811216016402966,
           1.1743118618464783,
           1.167307501819946,
           1.1602649739533692,
           1.153291584091337,
           1.146459444218853,
           1.1398156039210532,
           1.1333892912745136,
           1.1271970810487988,
           1.1212467190900968,
           1.1155396295771651
          ],
          "coloraxis": "coloraxis",
          "size": 10,
          "symbol": "circle"
         },
         "mode": "markers",
         "name": "Train",
         "orientation": "v",
         "showlegend": true,
         "type": "scatter",
         "x": [
          0.0020452361995506358,
          0.0024285069999578674,
          0.003478583879670892,
          0.005195292126882818,
          0.007578557999142198,
          0.010628499920418063,
          0.01434497475146411,
          0.018728091911549425,
          0.02377782127583297,
          0.029494159708542286,
          0.03587710734391841,
          0.04292666341521782,
          0.05064282862548492,
          0.05902560576429559,
          0.06807499149501928,
          0.07779097901603889,
          0.08817359991420406,
          0.09922279263379515,
          0.11104352265195762,
          0.12380429948908235,
          0.13750729570410386,
          0.15215257850641462,
          0.1677401342588781,
          0.18426994360909799,
          0.20174201827493055,
          0.2201563554023756,
          0.2395129556419395,
          0.25981183149922604,
          0.28105295620747767,
          0.3032363433234644
         ],
         "xaxis": "x",
         "y": [
          0.03804849528367418,
          0.05791746959539715,
          0.07778798722473966,
          0.09765878332397711,
          0.11752908359468091,
          0.1373998474211885,
          0.15727021789018117,
          0.17714076266560352,
          0.19701132237376864,
          0.2168818834164384,
          0.23675244464223005,
          0.25662300412007133,
          0.2764935640883128,
          0.29636412862649847,
          0.3162346921814713,
          0.3361052458640171,
          0.35597584225464063,
          0.3758463697385026,
          0.3957169248078188,
          0.4155874996218027,
          0.4354580448297571,
          0.45532860517359736,
          0.4751991718577513,
          0.4950697313861503,
          0.514940294319484,
          0.5348108526928455,
          0.5546814088654968,
          0.5745519694606521,
          0.5944225331041209,
          0.6142930879874497
         ],
         "yaxis": "y"
        },
        {
         "customdata": [
          [
           "Test",
           0.18686963298452752,
           -0.2474716529870059,
           -0.174153477775126
          ],
          [
           "Test",
           0.1915260114956493,
           -0.11137323685014794,
           -0.0787511009327531
          ],
          [
           "Test",
           0.1987519843360886,
           0.0046081494050946485,
           0.003254119796470664
          ],
          [
           "Test",
           0.21742252573333434,
           0.0933357071547393,
           0.06571987951978228
          ],
          [
           "Test",
           0.2459916623827415,
           0.15919228442009395,
           0.11181111365435793
          ],
          [
           "Test",
           0.2746737262678776,
           0.20636071039576806,
           0.14469996936494756
          ],
          [
           "Test",
           0.30323542456455155,
           0.2418084311597012,
           0.1694528540930798
          ],
          [
           "Test",
           0.3318485781648515,
           0.26810388024765813,
           0.18787807274184257
          ],
          [
           "Test",
           0.360474451275048,
           0.2882420197035981,
           0.20203583886206528
          ],
          [
           "Test",
           0.3890854879485526,
           0.3041406191560932,
           0.21324851976651132
          ],
          [
           "Test",
           0.4176992083423737,
           0.31688236540231224,
           0.2222601419546047
          ],
          [
           "Test",
           0.4463164167604465,
           0.32727874746724517,
           0.22962856944644278
          ],
          [
           "Test",
           0.47493442286514737,
           0.33590302100404407,
           0.23575357083136175
          ],
          [
           "Test",
           0.5035211077907363,
           0.3432665615256466,
           0.24099401621036914
          ],
          [
           "Test",
           0.5321291873021609,
           0.3494698280438493,
           0.24541585616553466
          ],
          [
           "Test",
           0.5607877250713887,
           0.35465768243345075,
           0.24911847251434344
          ],
          [
           "Test",
           0.5894113275459544,
           0.359264984614046,
           0.25241060630172274
          ],
          [
           "Test",
           0.6180282473485013,
           0.3633206289358326,
           0.25531171061110597
          ],
          [
           "Test",
           0.6558601630819944,
           0.3433760743448388,
           0.24100715799543349
          ],
          [
           "Test",
           0.6950508190262258,
           0.32191973339002644,
           0.22566871410073772
          ],
          [
           "Test",
           0.7342409162981246,
           0.3023659977415233,
           0.21173236663918696
          ],
          [
           "Test",
           0.7734313009909032,
           0.28450335502141955,
           0.1990352901236214
          ],
          [
           "Test",
           0.8126217288256093,
           0.26814582533122827,
           0.18743591620386726
          ],
          [
           "Test",
           0.851812100660498,
           0.2531293553497921,
           0.1768101823431757
          ],
          [
           "Test",
           0.8910024734656196,
           0.23931031230311983,
           0.16704969504470077
          ],
          [
           "Test",
           0.9301928543388226,
           0.22656246594303858,
           0.15806000711353624
          ],
          [
           "Test",
           0.9706627683122679,
           0.21477462667510272,
           0.14975880657468993
          ],
          [
           "Test",
           1.0117047834310853,
           0.2038489880961403,
           0.14207419719572442
          ],
          [
           "Test",
           1.0527467359738645,
           0.1936995724407243,
           0.13494345161717516
          ],
          [
           "Test",
           1.0937887017339083,
           0.18425050720491343,
           0.12831136492198447
          ]
         ],
         "hovertemplate": "<b>%{hovertext}</b><br><br>tag=%{customdata[0]}<br>Annualized Variance=%{x:.3f}<br>Annualized Mean=%{y:.3f}<br>MAX Drawdown=%{customdata[1]:.3f}<br>Annualized Sortino Ratio=%{customdata[2]:.3f}<br>Annualized Sharpe Ratio=%{marker.color:.3f}<extra></extra>",
         "hovertext": [
          "ptf0 - Variance",
          "ptf1 - Variance",
          "ptf2 - Variance",
          "ptf3 - Variance",
          "ptf4 - Variance",
          "ptf5 - Variance",
          "ptf6 - Variance",
          "ptf7 - Variance",
          "ptf8 - Variance",
          "ptf9 - Variance",
          "ptf10 - Variance",
          "ptf11 - Variance",
          "ptf12 - Variance",
          "ptf13 - Variance",
          "ptf14 - Variance",
          "ptf15 - Variance",
          "ptf16 - Variance",
          "ptf17 - Variance",
          "ptf18 - Variance",
          "ptf19 - Variance",
          "ptf20 - Variance",
          "ptf21 - Variance",
          "ptf22 - Variance",
          "ptf23 - Variance",
          "ptf24 - Variance",
          "ptf25 - Variance",
          "ptf26 - Variance",
          "ptf27 - Variance",
          "ptf28 - Variance",
          "ptf29 - Variance"
         ],
         "legendgroup": "Test",
         "marker": {
          "color": [
           -0.174153477775126,
           -0.0787511009327531,
           0.003254119796470664,
           0.06571987951978228,
           0.11181111365435793,
           0.14469996936494756,
           0.1694528540930798,
           0.18787807274184257,
           0.20203583886206528,
           0.21324851976651132,
           0.2222601419546047,
           0.22962856944644278,
           0.23575357083136175,
           0.24099401621036914,
           0.24541585616553466,
           0.24911847251434344,
           0.25241060630172274,
           0.25531171061110597,
           0.24100715799543349,
           0.22566871410073772,
           0.21173236663918696,
           0.1990352901236214,
           0.18743591620386726,
           0.1768101823431757,
           0.16704969504470077,
           0.15806000711353624,
           0.14975880657468993,
           0.14207419719572442,
           0.13494345161717516,
           0.12831136492198447
          ],
          "coloraxis": "coloraxis",
          "size": 10,
          "symbol": "diamond"
         },
         "mode": "markers",
         "name": "Test",
         "orientation": "v",
         "showlegend": true,
         "type": "scatter",
         "x": [
          0.004718757466947222,
          0.005299250595415661,
          0.006685239952797837,
          0.008874111207964252,
          0.011862618802320257,
          0.015654025205148074,
          0.020244263889197325,
          0.025636661188263687,
          0.03183050666831157,
          0.03882518361883637,
          0.04662107852103878,
          0.05521822258814971,
          0.06461655496935548,
          0.07481513958920355,
          0.08581546509160956,
          0.09761853752152888,
          0.11022174887382055,
          0.1236258699656991,
          0.1382458261453159,
          0.15396037218321817,
          0.17072422840575727,
          0.18853748952612037,
          0.20740013409485916,
          0.22731213931393762,
          0.24827351944458945,
          0.27028427038289676,
          0.29334439295094095,
          0.31745390074769736,
          0.34261276724659306,
          0.36882100325407613
         ],
         "xaxis": "x",
         "y": [
          -0.011963161886053942,
          -0.0057327613460466526,
          0.0002660676273993377,
          0.006190977020824735,
          0.012177980114419637,
          0.018104288161164047,
          0.024110148369782414,
          0.03008200841738691,
          0.03604542836074204,
          0.042018716701235775,
          0.04799022050989846,
          0.05395940246855455,
          0.05992805455638893,
          0.06591754200769404,
          0.07189280011908651,
          0.07783448940917244,
          0.08379946555267646,
          0.08976879919624046,
          0.08960989233779741,
          0.08854740341690641,
          0.08748524878202683,
          0.08642292204635042,
          0.08536057459707402,
          0.08429825538635233,
          0.08323593981438457,
          0.08217361313965159,
          0.08111128210558763,
          0.08004893248548801,
          0.07898663016745003,
          0.07792430674750482
         ],
         "yaxis": "y"
        }
       ],
       "layout": {
        "coloraxis": {
         "colorbar": {
          "title": {
           "text": "Annualized Sharpe Ratio"
          }
         },
         "colorscale": [
          [
           0,
           "#0d0887"
          ],
          [
           0.1111111111111111,
           "#46039f"
          ],
          [
           0.2222222222222222,
           "#7201a8"
          ],
          [
           0.3333333333333333,
           "#9c179e"
          ],
          [
           0.4444444444444444,
           "#bd3786"
          ],
          [
           0.5555555555555556,
           "#d8576b"
          ],
          [
           0.6666666666666666,
           "#ed7953"
          ],
          [
           0.7777777777777778,
           "#fb9f3a"
          ],
          [
           0.8888888888888888,
           "#fdca26"
          ],
          [
           1,
           "#f0f921"
          ]
         ]
        },
        "legend": {
         "title": {
          "text": "tag"
         },
         "tracegroupgap": 0,
         "x": 1.25,
         "xanchor": "left",
         "y": 0.96,
         "yanchor": "top"
        },
        "margin": {
         "t": 60
        },
        "template": {
         "data": {
          "bar": [
           {
            "error_x": {
             "color": "#2a3f5f"
            },
            "error_y": {
             "color": "#2a3f5f"
            },
            "marker": {
             "line": {
              "color": "#E5ECF6",
              "width": 0.5
             },
             "pattern": {
              "fillmode": "overlay",
              "size": 10,
              "solidity": 0.2
             }
            },
            "type": "bar"
           }
          ],
          "barpolar": [
           {
            "marker": {
             "line": {
              "color": "#E5ECF6",
              "width": 0.5
             },
             "pattern": {
              "fillmode": "overlay",
              "size": 10,
              "solidity": 0.2
             }
            },
            "type": "barpolar"
           }
          ],
          "carpet": [
           {
            "aaxis": {
             "endlinecolor": "#2a3f5f",
             "gridcolor": "white",
             "linecolor": "white",
             "minorgridcolor": "white",
             "startlinecolor": "#2a3f5f"
            },
            "baxis": {
             "endlinecolor": "#2a3f5f",
             "gridcolor": "white",
             "linecolor": "white",
             "minorgridcolor": "white",
             "startlinecolor": "#2a3f5f"
            },
            "type": "carpet"
           }
          ],
          "choropleth": [
           {
            "colorbar": {
             "outlinewidth": 0,
             "ticks": ""
            },
            "type": "choropleth"
           }
          ],
          "contour": [
           {
            "colorbar": {
             "outlinewidth": 0,
             "ticks": ""
            },
            "colorscale": [
             [
              0,
              "#0d0887"
             ],
             [
              0.1111111111111111,
              "#46039f"
             ],
             [
              0.2222222222222222,
              "#7201a8"
             ],
             [
              0.3333333333333333,
              "#9c179e"
             ],
             [
              0.4444444444444444,
              "#bd3786"
             ],
             [
              0.5555555555555556,
              "#d8576b"
             ],
             [
              0.6666666666666666,
              "#ed7953"
             ],
             [
              0.7777777777777778,
              "#fb9f3a"
             ],
             [
              0.8888888888888888,
              "#fdca26"
             ],
             [
              1,
              "#f0f921"
             ]
            ],
            "type": "contour"
           }
          ],
          "contourcarpet": [
           {
            "colorbar": {
             "outlinewidth": 0,
             "ticks": ""
            },
            "type": "contourcarpet"
           }
          ],
          "heatmap": [
           {
            "colorbar": {
             "outlinewidth": 0,
             "ticks": ""
            },
            "colorscale": [
             [
              0,
              "#0d0887"
             ],
             [
              0.1111111111111111,
              "#46039f"
             ],
             [
              0.2222222222222222,
              "#7201a8"
             ],
             [
              0.3333333333333333,
              "#9c179e"
             ],
             [
              0.4444444444444444,
              "#bd3786"
             ],
             [
              0.5555555555555556,
              "#d8576b"
             ],
             [
              0.6666666666666666,
              "#ed7953"
             ],
             [
              0.7777777777777778,
              "#fb9f3a"
             ],
             [
              0.8888888888888888,
              "#fdca26"
             ],
             [
              1,
              "#f0f921"
             ]
            ],
            "type": "heatmap"
           }
          ],
          "heatmapgl": [
           {
            "colorbar": {
             "outlinewidth": 0,
             "ticks": ""
            },
            "colorscale": [
             [
              0,
              "#0d0887"
             ],
             [
              0.1111111111111111,
              "#46039f"
             ],
             [
              0.2222222222222222,
              "#7201a8"
             ],
             [
              0.3333333333333333,
              "#9c179e"
             ],
             [
              0.4444444444444444,
              "#bd3786"
             ],
             [
              0.5555555555555556,
              "#d8576b"
             ],
             [
              0.6666666666666666,
              "#ed7953"
             ],
             [
              0.7777777777777778,
              "#fb9f3a"
             ],
             [
              0.8888888888888888,
              "#fdca26"
             ],
             [
              1,
              "#f0f921"
             ]
            ],
            "type": "heatmapgl"
           }
          ],
          "histogram": [
           {
            "marker": {
             "pattern": {
              "fillmode": "overlay",
              "size": 10,
              "solidity": 0.2
             }
            },
            "type": "histogram"
           }
          ],
          "histogram2d": [
           {
            "colorbar": {
             "outlinewidth": 0,
             "ticks": ""
            },
            "colorscale": [
             [
              0,
              "#0d0887"
             ],
             [
              0.1111111111111111,
              "#46039f"
             ],
             [
              0.2222222222222222,
              "#7201a8"
             ],
             [
              0.3333333333333333,
              "#9c179e"
             ],
             [
              0.4444444444444444,
              "#bd3786"
             ],
             [
              0.5555555555555556,
              "#d8576b"
             ],
             [
              0.6666666666666666,
              "#ed7953"
             ],
             [
              0.7777777777777778,
              "#fb9f3a"
             ],
             [
              0.8888888888888888,
              "#fdca26"
             ],
             [
              1,
              "#f0f921"
             ]
            ],
            "type": "histogram2d"
           }
          ],
          "histogram2dcontour": [
           {
            "colorbar": {
             "outlinewidth": 0,
             "ticks": ""
            },
            "colorscale": [
             [
              0,
              "#0d0887"
             ],
             [
              0.1111111111111111,
              "#46039f"
             ],
             [
              0.2222222222222222,
              "#7201a8"
             ],
             [
              0.3333333333333333,
              "#9c179e"
             ],
             [
              0.4444444444444444,
              "#bd3786"
             ],
             [
              0.5555555555555556,
              "#d8576b"
             ],
             [
              0.6666666666666666,
              "#ed7953"
             ],
             [
              0.7777777777777778,
              "#fb9f3a"
             ],
             [
              0.8888888888888888,
              "#fdca26"
             ],
             [
              1,
              "#f0f921"
             ]
            ],
            "type": "histogram2dcontour"
           }
          ],
          "mesh3d": [
           {
            "colorbar": {
             "outlinewidth": 0,
             "ticks": ""
            },
            "type": "mesh3d"
           }
          ],
          "parcoords": [
           {
            "line": {
             "colorbar": {
              "outlinewidth": 0,
              "ticks": ""
             }
            },
            "type": "parcoords"
           }
          ],
          "pie": [
           {
            "automargin": true,
            "type": "pie"
           }
          ],
          "scatter": [
           {
            "fillpattern": {
             "fillmode": "overlay",
             "size": 10,
             "solidity": 0.2
            },
            "type": "scatter"
           }
          ],
          "scatter3d": [
           {
            "line": {
             "colorbar": {
              "outlinewidth": 0,
              "ticks": ""
             }
            },
            "marker": {
             "colorbar": {
              "outlinewidth": 0,
              "ticks": ""
             }
            },
            "type": "scatter3d"
           }
          ],
          "scattercarpet": [
           {
            "marker": {
             "colorbar": {
              "outlinewidth": 0,
              "ticks": ""
             }
            },
            "type": "scattercarpet"
           }
          ],
          "scattergeo": [
           {
            "marker": {
             "colorbar": {
              "outlinewidth": 0,
              "ticks": ""
             }
            },
            "type": "scattergeo"
           }
          ],
          "scattergl": [
           {
            "marker": {
             "colorbar": {
              "outlinewidth": 0,
              "ticks": ""
             }
            },
            "type": "scattergl"
           }
          ],
          "scattermapbox": [
           {
            "marker": {
             "colorbar": {
              "outlinewidth": 0,
              "ticks": ""
             }
            },
            "type": "scattermapbox"
           }
          ],
          "scatterpolar": [
           {
            "marker": {
             "colorbar": {
              "outlinewidth": 0,
              "ticks": ""
             }
            },
            "type": "scatterpolar"
           }
          ],
          "scatterpolargl": [
           {
            "marker": {
             "colorbar": {
              "outlinewidth": 0,
              "ticks": ""
             }
            },
            "type": "scatterpolargl"
           }
          ],
          "scatterternary": [
           {
            "marker": {
             "colorbar": {
              "outlinewidth": 0,
              "ticks": ""
             }
            },
            "type": "scatterternary"
           }
          ],
          "surface": [
           {
            "colorbar": {
             "outlinewidth": 0,
             "ticks": ""
            },
            "colorscale": [
             [
              0,
              "#0d0887"
             ],
             [
              0.1111111111111111,
              "#46039f"
             ],
             [
              0.2222222222222222,
              "#7201a8"
             ],
             [
              0.3333333333333333,
              "#9c179e"
             ],
             [
              0.4444444444444444,
              "#bd3786"
             ],
             [
              0.5555555555555556,
              "#d8576b"
             ],
             [
              0.6666666666666666,
              "#ed7953"
             ],
             [
              0.7777777777777778,
              "#fb9f3a"
             ],
             [
              0.8888888888888888,
              "#fdca26"
             ],
             [
              1,
              "#f0f921"
             ]
            ],
            "type": "surface"
           }
          ],
          "table": [
           {
            "cells": {
             "fill": {
              "color": "#EBF0F8"
             },
             "line": {
              "color": "white"
             }
            },
            "header": {
             "fill": {
              "color": "#C8D4E3"
             },
             "line": {
              "color": "white"
             }
            },
            "type": "table"
           }
          ]
         },
         "layout": {
          "annotationdefaults": {
           "arrowcolor": "#2a3f5f",
           "arrowhead": 0,
           "arrowwidth": 1
          },
          "autotypenumbers": "strict",
          "coloraxis": {
           "colorbar": {
            "outlinewidth": 0,
            "ticks": ""
           }
          },
          "colorscale": {
           "diverging": [
            [
             0,
             "#8e0152"
            ],
            [
             0.1,
             "#c51b7d"
            ],
            [
             0.2,
             "#de77ae"
            ],
            [
             0.3,
             "#f1b6da"
            ],
            [
             0.4,
             "#fde0ef"
            ],
            [
             0.5,
             "#f7f7f7"
            ],
            [
             0.6,
             "#e6f5d0"
            ],
            [
             0.7,
             "#b8e186"
            ],
            [
             0.8,
             "#7fbc41"
            ],
            [
             0.9,
             "#4d9221"
            ],
            [
             1,
             "#276419"
            ]
           ],
           "sequential": [
            [
             0,
             "#0d0887"
            ],
            [
             0.1111111111111111,
             "#46039f"
            ],
            [
             0.2222222222222222,
             "#7201a8"
            ],
            [
             0.3333333333333333,
             "#9c179e"
            ],
            [
             0.4444444444444444,
             "#bd3786"
            ],
            [
             0.5555555555555556,
             "#d8576b"
            ],
            [
             0.6666666666666666,
             "#ed7953"
            ],
            [
             0.7777777777777778,
             "#fb9f3a"
            ],
            [
             0.8888888888888888,
             "#fdca26"
            ],
            [
             1,
             "#f0f921"
            ]
           ],
           "sequentialminus": [
            [
             0,
             "#0d0887"
            ],
            [
             0.1111111111111111,
             "#46039f"
            ],
            [
             0.2222222222222222,
             "#7201a8"
            ],
            [
             0.3333333333333333,
             "#9c179e"
            ],
            [
             0.4444444444444444,
             "#bd3786"
            ],
            [
             0.5555555555555556,
             "#d8576b"
            ],
            [
             0.6666666666666666,
             "#ed7953"
            ],
            [
             0.7777777777777778,
             "#fb9f3a"
            ],
            [
             0.8888888888888888,
             "#fdca26"
            ],
            [
             1,
             "#f0f921"
            ]
           ]
          },
          "colorway": [
           "#636efa",
           "#EF553B",
           "#00cc96",
           "#ab63fa",
           "#FFA15A",
           "#19d3f3",
           "#FF6692",
           "#B6E880",
           "#FF97FF",
           "#FECB52"
          ],
          "font": {
           "color": "#2a3f5f"
          },
          "geo": {
           "bgcolor": "white",
           "lakecolor": "white",
           "landcolor": "#E5ECF6",
           "showlakes": true,
           "showland": true,
           "subunitcolor": "white"
          },
          "hoverlabel": {
           "align": "left"
          },
          "hovermode": "closest",
          "mapbox": {
           "style": "light"
          },
          "paper_bgcolor": "white",
          "plot_bgcolor": "#E5ECF6",
          "polar": {
           "angularaxis": {
            "gridcolor": "white",
            "linecolor": "white",
            "ticks": ""
           },
           "bgcolor": "#E5ECF6",
           "radialaxis": {
            "gridcolor": "white",
            "linecolor": "white",
            "ticks": ""
           }
          },
          "scene": {
           "xaxis": {
            "backgroundcolor": "#E5ECF6",
            "gridcolor": "white",
            "gridwidth": 2,
            "linecolor": "white",
            "showbackground": true,
            "ticks": "",
            "zerolinecolor": "white"
           },
           "yaxis": {
            "backgroundcolor": "#E5ECF6",
            "gridcolor": "white",
            "gridwidth": 2,
            "linecolor": "white",
            "showbackground": true,
            "ticks": "",
            "zerolinecolor": "white"
           },
           "zaxis": {
            "backgroundcolor": "#E5ECF6",
            "gridcolor": "white",
            "gridwidth": 2,
            "linecolor": "white",
            "showbackground": true,
            "ticks": "",
            "zerolinecolor": "white"
           }
          },
          "shapedefaults": {
           "line": {
            "color": "#2a3f5f"
           }
          },
          "ternary": {
           "aaxis": {
            "gridcolor": "white",
            "linecolor": "white",
            "ticks": ""
           },
           "baxis": {
            "gridcolor": "white",
            "linecolor": "white",
            "ticks": ""
           },
           "bgcolor": "#E5ECF6",
           "caxis": {
            "gridcolor": "white",
            "linecolor": "white",
            "ticks": ""
           }
          },
          "title": {
           "x": 0.05
          },
          "xaxis": {
           "automargin": true,
           "gridcolor": "white",
           "linecolor": "white",
           "ticks": "",
           "title": {
            "standoff": 15
           },
           "zerolinecolor": "white",
           "zerolinewidth": 2
          },
          "yaxis": {
           "automargin": true,
           "gridcolor": "white",
           "linecolor": "white",
           "ticks": "",
           "title": {
            "standoff": 15
           },
           "zerolinecolor": "white",
           "zerolinewidth": 2
          }
         }
        },
        "title": {
         "text": "Portfolios"
        },
        "xaxis": {
         "anchor": "y",
         "domain": [
          0,
          1
         ],
         "tickformat": ",.1%",
         "title": {
          "text": "Annualized Variance"
         }
        },
        "yaxis": {
         "anchor": "x",
         "domain": [
          0,
          1
         ],
         "tickformat": ",.1%",
         "title": {
          "text": "Annualized Mean"
         }
        }
       }
      }
     },
     "metadata": {},
     "output_type": "display_data"
    }
   ],
   "source": [
    "# Add \"Train\" and \"Test\" tags to the portfolios\n",
    "population_train.set_portfolio_params(tag=\"Train\")\n",
    "population_test.set_portfolio_params(tag=\"Test\")\n",
    "\n",
    "# Concatenate the training and test populations\n",
    "population = population_train + population_test\n",
    "\n",
    "# Plot measures\n",
    "fig = population.plot_measures(\n",
    "    x=RiskMeasure.ANNUALIZED_VARIANCE,\n",
    "    y=PerfMeasure.ANNUALIZED_MEAN,\n",
    "    color_scale=RatioMeasure.ANNUALIZED_SHARPE_RATIO,\n",
    "    hover_measures=[RiskMeasure.MAX_DRAWDOWN, RatioMeasure.ANNUALIZED_SORTINO_RATIO],\n",
    ")\n",
    "\n",
    "show(fig)"
   ]
  },
  {
   "cell_type": "code",
   "execution_count": 37,
   "metadata": {
    "execution": {
     "iopub.execute_input": "2024-11-11T18:36:16.580420Z",
     "iopub.status.busy": "2024-11-11T18:36:16.579949Z",
     "iopub.status.idle": "2024-11-11T18:36:16.730617Z",
     "shell.execute_reply": "2024-11-11T18:36:16.729370Z",
     "shell.execute_reply.started": "2024-11-11T18:36:16.580387Z"
    },
    "trusted": true
   },
   "outputs": [
    {
     "data": {
      "application/vnd.plotly.v1+json": {
       "config": {
        "plotlyServerURL": "https://plot.ly"
       },
       "data": [
        {
         "alignmentgroup": "True",
         "hovertemplate": "asset=BND<br>index=%{x}<br>value=%{y}<extra></extra>",
         "legendgroup": "BND",
         "marker": {
          "color": "#636efa",
          "pattern": {
           "shape": ""
          }
         },
         "name": "BND",
         "offsetgroup": "BND",
         "orientation": "v",
         "showlegend": true,
         "textposition": "auto",
         "type": "bar",
         "x": [
          "ptf0 - Variance",
          "ptf1 - Variance",
          "ptf2 - Variance",
          "ptf3 - Variance",
          "ptf4 - Variance",
          "ptf5 - Variance",
          "ptf6 - Variance",
          "ptf7 - Variance",
          "ptf8 - Variance",
          "ptf9 - Variance",
          "ptf10 - Variance",
          "ptf11 - Variance",
          "ptf12 - Variance",
          "ptf13 - Variance",
          "ptf14 - Variance",
          "ptf15 - Variance",
          "ptf16 - Variance",
          "ptf17 - Variance",
          "ptf18 - Variance",
          "ptf19 - Variance",
          "ptf20 - Variance",
          "ptf21 - Variance",
          "ptf22 - Variance",
          "ptf23 - Variance",
          "ptf24 - Variance",
          "ptf25 - Variance",
          "ptf26 - Variance",
          "ptf27 - Variance",
          "ptf28 - Variance",
          "ptf29 - Variance"
         ],
         "xaxis": "x",
         "y": [
          0.9402866110635313,
          0.8834724754970057,
          0.8284617808921075,
          0.7740268489219468,
          0.7191083756655992,
          0.6646625607746501,
          0.6095971498516966,
          0.5547965483234552,
          0.5000616941361548,
          0.4452499585596799,
          0.39045212549844727,
          0.3356723817931036,
          0.2808967659004235,
          0.22595882791351213,
          0.1711317455738081,
          0.11656618894068324,
          0.06181919572654962,
          0.007038283628879135,
          0,
          0,
          0,
          0,
          0,
          0,
          0,
          0,
          0,
          0,
          0,
          0
         ],
         "yaxis": "y"
        },
        {
         "alignmentgroup": "True",
         "hovertemplate": "asset=SPY<br>index=%{x}<br>value=%{y}<extra></extra>",
         "legendgroup": "SPY",
         "marker": {
          "color": "#EF553B",
          "pattern": {
           "shape": ""
          }
         },
         "name": "SPY",
         "offsetgroup": "SPY",
         "orientation": "v",
         "showlegend": true,
         "textposition": "auto",
         "type": "bar",
         "x": [
          "ptf0 - Variance",
          "ptf1 - Variance",
          "ptf2 - Variance",
          "ptf3 - Variance",
          "ptf4 - Variance",
          "ptf5 - Variance",
          "ptf6 - Variance",
          "ptf7 - Variance",
          "ptf8 - Variance",
          "ptf9 - Variance",
          "ptf10 - Variance",
          "ptf11 - Variance",
          "ptf12 - Variance",
          "ptf13 - Variance",
          "ptf14 - Variance",
          "ptf15 - Variance",
          "ptf16 - Variance",
          "ptf17 - Variance",
          "ptf18 - Variance",
          "ptf19 - Variance",
          "ptf20 - Variance",
          "ptf21 - Variance",
          "ptf22 - Variance",
          "ptf23 - Variance",
          "ptf24 - Variance",
          "ptf25 - Variance",
          "ptf26 - Variance",
          "ptf27 - Variance",
          "ptf28 - Variance",
          "ptf29 - Variance"
         ],
         "xaxis": "x",
         "y": [
          0.059706795856795246,
          0.08861007516163073,
          0.11522089051750134,
          0.14110028476581607,
          0.16759451627700792,
          0.1934877944028178,
          0.22016838122264876,
          0.24651246640616253,
          0.27277306601637147,
          0.29913124826904863,
          0.325471783661336,
          0.35178936203622097,
          0.37810169991210923,
          0.4046200632781614,
          0.4309977197131596,
          0.4570434430479204,
          0.4833193709477433,
          0.5096385019432442,
          0.4753577397796567,
          0.4321417645517065,
          0.3889291436866191,
          0.34571479606643546,
          0.30250023318037084,
          0.2592859613139311,
          0.21607171982480558,
          0.17285737605091983,
          0.12964299279190444,
          0.08642841846263782,
          0.04321430686762972,
          0
         ],
         "yaxis": "y"
        },
        {
         "alignmentgroup": "True",
         "hovertemplate": "asset=TSLA<br>index=%{x}<br>value=%{y}<extra></extra>",
         "legendgroup": "TSLA",
         "marker": {
          "color": "#00cc96",
          "pattern": {
           "shape": ""
          }
         },
         "name": "TSLA",
         "offsetgroup": "TSLA",
         "orientation": "v",
         "showlegend": true,
         "textposition": "auto",
         "type": "bar",
         "x": [
          "ptf0 - Variance",
          "ptf1 - Variance",
          "ptf2 - Variance",
          "ptf3 - Variance",
          "ptf4 - Variance",
          "ptf5 - Variance",
          "ptf6 - Variance",
          "ptf7 - Variance",
          "ptf8 - Variance",
          "ptf9 - Variance",
          "ptf10 - Variance",
          "ptf11 - Variance",
          "ptf12 - Variance",
          "ptf13 - Variance",
          "ptf14 - Variance",
          "ptf15 - Variance",
          "ptf16 - Variance",
          "ptf17 - Variance",
          "ptf18 - Variance",
          "ptf19 - Variance",
          "ptf20 - Variance",
          "ptf21 - Variance",
          "ptf22 - Variance",
          "ptf23 - Variance",
          "ptf24 - Variance",
          "ptf25 - Variance",
          "ptf26 - Variance",
          "ptf27 - Variance",
          "ptf28 - Variance",
          "ptf29 - Variance"
         ],
         "xaxis": "x",
         "y": [
          0,
          0.0279174493413634,
          0.05631732859039115,
          0.08487286631223719,
          0.1132971080573931,
          0.14184964482253196,
          0.17023446892565466,
          0.19869098527038231,
          0.22716523984747367,
          0.2556187931712714,
          0.2840760908402168,
          0.3125382561706756,
          0.3410015341874671,
          0.36942110880832635,
          0.39787053471303224,
          0.42639036801139635,
          0.45486143332570705,
          0.48332321442787674,
          0.5246421684939075,
          0.5678568884042765,
          0.6110708459126826,
          0.6542851957101601,
          0.6974996020427077,
          0.7407139343707947,
          0.7839282660878497,
          0.8271426116931025,
          0.8703569619050325,
          0.913571360232651,
          0.9567856656075607,
          0.9999999972754992
         ],
         "yaxis": "y"
        }
       ],
       "layout": {
        "barmode": "relative",
        "legend": {
         "title": {
          "text": "asset"
         },
         "tracegroupgap": 0,
         "x": 1.15,
         "xanchor": "left",
         "y": 0.99,
         "yanchor": "top"
        },
        "margin": {
         "t": 60
        },
        "template": {
         "data": {
          "bar": [
           {
            "error_x": {
             "color": "#2a3f5f"
            },
            "error_y": {
             "color": "#2a3f5f"
            },
            "marker": {
             "line": {
              "color": "#E5ECF6",
              "width": 0.5
             },
             "pattern": {
              "fillmode": "overlay",
              "size": 10,
              "solidity": 0.2
             }
            },
            "type": "bar"
           }
          ],
          "barpolar": [
           {
            "marker": {
             "line": {
              "color": "#E5ECF6",
              "width": 0.5
             },
             "pattern": {
              "fillmode": "overlay",
              "size": 10,
              "solidity": 0.2
             }
            },
            "type": "barpolar"
           }
          ],
          "carpet": [
           {
            "aaxis": {
             "endlinecolor": "#2a3f5f",
             "gridcolor": "white",
             "linecolor": "white",
             "minorgridcolor": "white",
             "startlinecolor": "#2a3f5f"
            },
            "baxis": {
             "endlinecolor": "#2a3f5f",
             "gridcolor": "white",
             "linecolor": "white",
             "minorgridcolor": "white",
             "startlinecolor": "#2a3f5f"
            },
            "type": "carpet"
           }
          ],
          "choropleth": [
           {
            "colorbar": {
             "outlinewidth": 0,
             "ticks": ""
            },
            "type": "choropleth"
           }
          ],
          "contour": [
           {
            "colorbar": {
             "outlinewidth": 0,
             "ticks": ""
            },
            "colorscale": [
             [
              0,
              "#0d0887"
             ],
             [
              0.1111111111111111,
              "#46039f"
             ],
             [
              0.2222222222222222,
              "#7201a8"
             ],
             [
              0.3333333333333333,
              "#9c179e"
             ],
             [
              0.4444444444444444,
              "#bd3786"
             ],
             [
              0.5555555555555556,
              "#d8576b"
             ],
             [
              0.6666666666666666,
              "#ed7953"
             ],
             [
              0.7777777777777778,
              "#fb9f3a"
             ],
             [
              0.8888888888888888,
              "#fdca26"
             ],
             [
              1,
              "#f0f921"
             ]
            ],
            "type": "contour"
           }
          ],
          "contourcarpet": [
           {
            "colorbar": {
             "outlinewidth": 0,
             "ticks": ""
            },
            "type": "contourcarpet"
           }
          ],
          "heatmap": [
           {
            "colorbar": {
             "outlinewidth": 0,
             "ticks": ""
            },
            "colorscale": [
             [
              0,
              "#0d0887"
             ],
             [
              0.1111111111111111,
              "#46039f"
             ],
             [
              0.2222222222222222,
              "#7201a8"
             ],
             [
              0.3333333333333333,
              "#9c179e"
             ],
             [
              0.4444444444444444,
              "#bd3786"
             ],
             [
              0.5555555555555556,
              "#d8576b"
             ],
             [
              0.6666666666666666,
              "#ed7953"
             ],
             [
              0.7777777777777778,
              "#fb9f3a"
             ],
             [
              0.8888888888888888,
              "#fdca26"
             ],
             [
              1,
              "#f0f921"
             ]
            ],
            "type": "heatmap"
           }
          ],
          "heatmapgl": [
           {
            "colorbar": {
             "outlinewidth": 0,
             "ticks": ""
            },
            "colorscale": [
             [
              0,
              "#0d0887"
             ],
             [
              0.1111111111111111,
              "#46039f"
             ],
             [
              0.2222222222222222,
              "#7201a8"
             ],
             [
              0.3333333333333333,
              "#9c179e"
             ],
             [
              0.4444444444444444,
              "#bd3786"
             ],
             [
              0.5555555555555556,
              "#d8576b"
             ],
             [
              0.6666666666666666,
              "#ed7953"
             ],
             [
              0.7777777777777778,
              "#fb9f3a"
             ],
             [
              0.8888888888888888,
              "#fdca26"
             ],
             [
              1,
              "#f0f921"
             ]
            ],
            "type": "heatmapgl"
           }
          ],
          "histogram": [
           {
            "marker": {
             "pattern": {
              "fillmode": "overlay",
              "size": 10,
              "solidity": 0.2
             }
            },
            "type": "histogram"
           }
          ],
          "histogram2d": [
           {
            "colorbar": {
             "outlinewidth": 0,
             "ticks": ""
            },
            "colorscale": [
             [
              0,
              "#0d0887"
             ],
             [
              0.1111111111111111,
              "#46039f"
             ],
             [
              0.2222222222222222,
              "#7201a8"
             ],
             [
              0.3333333333333333,
              "#9c179e"
             ],
             [
              0.4444444444444444,
              "#bd3786"
             ],
             [
              0.5555555555555556,
              "#d8576b"
             ],
             [
              0.6666666666666666,
              "#ed7953"
             ],
             [
              0.7777777777777778,
              "#fb9f3a"
             ],
             [
              0.8888888888888888,
              "#fdca26"
             ],
             [
              1,
              "#f0f921"
             ]
            ],
            "type": "histogram2d"
           }
          ],
          "histogram2dcontour": [
           {
            "colorbar": {
             "outlinewidth": 0,
             "ticks": ""
            },
            "colorscale": [
             [
              0,
              "#0d0887"
             ],
             [
              0.1111111111111111,
              "#46039f"
             ],
             [
              0.2222222222222222,
              "#7201a8"
             ],
             [
              0.3333333333333333,
              "#9c179e"
             ],
             [
              0.4444444444444444,
              "#bd3786"
             ],
             [
              0.5555555555555556,
              "#d8576b"
             ],
             [
              0.6666666666666666,
              "#ed7953"
             ],
             [
              0.7777777777777778,
              "#fb9f3a"
             ],
             [
              0.8888888888888888,
              "#fdca26"
             ],
             [
              1,
              "#f0f921"
             ]
            ],
            "type": "histogram2dcontour"
           }
          ],
          "mesh3d": [
           {
            "colorbar": {
             "outlinewidth": 0,
             "ticks": ""
            },
            "type": "mesh3d"
           }
          ],
          "parcoords": [
           {
            "line": {
             "colorbar": {
              "outlinewidth": 0,
              "ticks": ""
             }
            },
            "type": "parcoords"
           }
          ],
          "pie": [
           {
            "automargin": true,
            "type": "pie"
           }
          ],
          "scatter": [
           {
            "fillpattern": {
             "fillmode": "overlay",
             "size": 10,
             "solidity": 0.2
            },
            "type": "scatter"
           }
          ],
          "scatter3d": [
           {
            "line": {
             "colorbar": {
              "outlinewidth": 0,
              "ticks": ""
             }
            },
            "marker": {
             "colorbar": {
              "outlinewidth": 0,
              "ticks": ""
             }
            },
            "type": "scatter3d"
           }
          ],
          "scattercarpet": [
           {
            "marker": {
             "colorbar": {
              "outlinewidth": 0,
              "ticks": ""
             }
            },
            "type": "scattercarpet"
           }
          ],
          "scattergeo": [
           {
            "marker": {
             "colorbar": {
              "outlinewidth": 0,
              "ticks": ""
             }
            },
            "type": "scattergeo"
           }
          ],
          "scattergl": [
           {
            "marker": {
             "colorbar": {
              "outlinewidth": 0,
              "ticks": ""
             }
            },
            "type": "scattergl"
           }
          ],
          "scattermapbox": [
           {
            "marker": {
             "colorbar": {
              "outlinewidth": 0,
              "ticks": ""
             }
            },
            "type": "scattermapbox"
           }
          ],
          "scatterpolar": [
           {
            "marker": {
             "colorbar": {
              "outlinewidth": 0,
              "ticks": ""
             }
            },
            "type": "scatterpolar"
           }
          ],
          "scatterpolargl": [
           {
            "marker": {
             "colorbar": {
              "outlinewidth": 0,
              "ticks": ""
             }
            },
            "type": "scatterpolargl"
           }
          ],
          "scatterternary": [
           {
            "marker": {
             "colorbar": {
              "outlinewidth": 0,
              "ticks": ""
             }
            },
            "type": "scatterternary"
           }
          ],
          "surface": [
           {
            "colorbar": {
             "outlinewidth": 0,
             "ticks": ""
            },
            "colorscale": [
             [
              0,
              "#0d0887"
             ],
             [
              0.1111111111111111,
              "#46039f"
             ],
             [
              0.2222222222222222,
              "#7201a8"
             ],
             [
              0.3333333333333333,
              "#9c179e"
             ],
             [
              0.4444444444444444,
              "#bd3786"
             ],
             [
              0.5555555555555556,
              "#d8576b"
             ],
             [
              0.6666666666666666,
              "#ed7953"
             ],
             [
              0.7777777777777778,
              "#fb9f3a"
             ],
             [
              0.8888888888888888,
              "#fdca26"
             ],
             [
              1,
              "#f0f921"
             ]
            ],
            "type": "surface"
           }
          ],
          "table": [
           {
            "cells": {
             "fill": {
              "color": "#EBF0F8"
             },
             "line": {
              "color": "white"
             }
            },
            "header": {
             "fill": {
              "color": "#C8D4E3"
             },
             "line": {
              "color": "white"
             }
            },
            "type": "table"
           }
          ]
         },
         "layout": {
          "annotationdefaults": {
           "arrowcolor": "#2a3f5f",
           "arrowhead": 0,
           "arrowwidth": 1
          },
          "autotypenumbers": "strict",
          "coloraxis": {
           "colorbar": {
            "outlinewidth": 0,
            "ticks": ""
           }
          },
          "colorscale": {
           "diverging": [
            [
             0,
             "#8e0152"
            ],
            [
             0.1,
             "#c51b7d"
            ],
            [
             0.2,
             "#de77ae"
            ],
            [
             0.3,
             "#f1b6da"
            ],
            [
             0.4,
             "#fde0ef"
            ],
            [
             0.5,
             "#f7f7f7"
            ],
            [
             0.6,
             "#e6f5d0"
            ],
            [
             0.7,
             "#b8e186"
            ],
            [
             0.8,
             "#7fbc41"
            ],
            [
             0.9,
             "#4d9221"
            ],
            [
             1,
             "#276419"
            ]
           ],
           "sequential": [
            [
             0,
             "#0d0887"
            ],
            [
             0.1111111111111111,
             "#46039f"
            ],
            [
             0.2222222222222222,
             "#7201a8"
            ],
            [
             0.3333333333333333,
             "#9c179e"
            ],
            [
             0.4444444444444444,
             "#bd3786"
            ],
            [
             0.5555555555555556,
             "#d8576b"
            ],
            [
             0.6666666666666666,
             "#ed7953"
            ],
            [
             0.7777777777777778,
             "#fb9f3a"
            ],
            [
             0.8888888888888888,
             "#fdca26"
            ],
            [
             1,
             "#f0f921"
            ]
           ],
           "sequentialminus": [
            [
             0,
             "#0d0887"
            ],
            [
             0.1111111111111111,
             "#46039f"
            ],
            [
             0.2222222222222222,
             "#7201a8"
            ],
            [
             0.3333333333333333,
             "#9c179e"
            ],
            [
             0.4444444444444444,
             "#bd3786"
            ],
            [
             0.5555555555555556,
             "#d8576b"
            ],
            [
             0.6666666666666666,
             "#ed7953"
            ],
            [
             0.7777777777777778,
             "#fb9f3a"
            ],
            [
             0.8888888888888888,
             "#fdca26"
            ],
            [
             1,
             "#f0f921"
            ]
           ]
          },
          "colorway": [
           "#636efa",
           "#EF553B",
           "#00cc96",
           "#ab63fa",
           "#FFA15A",
           "#19d3f3",
           "#FF6692",
           "#B6E880",
           "#FF97FF",
           "#FECB52"
          ],
          "font": {
           "color": "#2a3f5f"
          },
          "geo": {
           "bgcolor": "white",
           "lakecolor": "white",
           "landcolor": "#E5ECF6",
           "showlakes": true,
           "showland": true,
           "subunitcolor": "white"
          },
          "hoverlabel": {
           "align": "left"
          },
          "hovermode": "closest",
          "mapbox": {
           "style": "light"
          },
          "paper_bgcolor": "white",
          "plot_bgcolor": "#E5ECF6",
          "polar": {
           "angularaxis": {
            "gridcolor": "white",
            "linecolor": "white",
            "ticks": ""
           },
           "bgcolor": "#E5ECF6",
           "radialaxis": {
            "gridcolor": "white",
            "linecolor": "white",
            "ticks": ""
           }
          },
          "scene": {
           "xaxis": {
            "backgroundcolor": "#E5ECF6",
            "gridcolor": "white",
            "gridwidth": 2,
            "linecolor": "white",
            "showbackground": true,
            "ticks": "",
            "zerolinecolor": "white"
           },
           "yaxis": {
            "backgroundcolor": "#E5ECF6",
            "gridcolor": "white",
            "gridwidth": 2,
            "linecolor": "white",
            "showbackground": true,
            "ticks": "",
            "zerolinecolor": "white"
           },
           "zaxis": {
            "backgroundcolor": "#E5ECF6",
            "gridcolor": "white",
            "gridwidth": 2,
            "linecolor": "white",
            "showbackground": true,
            "ticks": "",
            "zerolinecolor": "white"
           }
          },
          "shapedefaults": {
           "line": {
            "color": "#2a3f5f"
           }
          },
          "ternary": {
           "aaxis": {
            "gridcolor": "white",
            "linecolor": "white",
            "ticks": ""
           },
           "baxis": {
            "gridcolor": "white",
            "linecolor": "white",
            "ticks": ""
           },
           "bgcolor": "#E5ECF6",
           "caxis": {
            "gridcolor": "white",
            "linecolor": "white",
            "ticks": ""
           }
          },
          "title": {
           "x": 0.05
          },
          "xaxis": {
           "automargin": true,
           "gridcolor": "white",
           "linecolor": "white",
           "ticks": "",
           "title": {
            "standoff": 15
           },
           "zerolinecolor": "white",
           "zerolinewidth": 2
          },
          "yaxis": {
           "automargin": true,
           "gridcolor": "white",
           "linecolor": "white",
           "ticks": "",
           "title": {
            "standoff": 15
           },
           "zerolinecolor": "white",
           "zerolinewidth": 2
          }
         }
        },
        "title": {
         "text": "Portfolios Composition"
        },
        "xaxis": {
         "anchor": "y",
         "domain": [
          0,
          1
         ],
         "title": {
          "text": "Portfolios"
         }
        },
        "yaxis": {
         "anchor": "x",
         "domain": [
          0,
          1
         ],
         "tickformat": ",.0%",
         "title": {
          "text": "Weight"
         }
        }
       }
      }
     },
     "metadata": {},
     "output_type": "display_data"
    }
   ],
   "source": [
    "population_train.plot_composition()"
   ]
  },
  {
   "cell_type": "code",
   "execution_count": 38,
   "metadata": {
    "execution": {
     "iopub.execute_input": "2024-11-11T18:36:27.267337Z",
     "iopub.status.busy": "2024-11-11T18:36:27.266795Z",
     "iopub.status.idle": "2024-11-11T18:36:27.276870Z",
     "shell.execute_reply": "2024-11-11T18:36:27.275559Z",
     "shell.execute_reply.started": "2024-11-11T18:36:27.267193Z"
    },
    "trusted": true
   },
   "outputs": [
    {
     "data": {
      "text/plain": [
       "array([-0.17415348, -0.0787511 ,  0.00325412,  0.06571988,  0.11181111,\n",
       "        0.14469997,  0.16945285,  0.18787807,  0.20203584,  0.21324852,\n",
       "        0.22226014,  0.22962857,  0.23575357,  0.24099402,  0.24541586,\n",
       "        0.24911847,  0.25241061,  0.25531171,  0.24100716,  0.22566871,\n",
       "        0.21173237,  0.19903529,  0.18743592,  0.17681018,  0.1670497 ,\n",
       "        0.15806001,  0.14975881,  0.1420742 ,  0.13494345,  0.12831136])"
      ]
     },
     "execution_count": 38,
     "metadata": {},
     "output_type": "execute_result"
    }
   ],
   "source": [
    "population_test.measures(measure=RatioMeasure.ANNUALIZED_SHARPE_RATIO)"
   ]
  },
  {
   "cell_type": "code",
   "execution_count": 39,
   "metadata": {
    "execution": {
     "iopub.execute_input": "2024-11-11T18:30:49.634882Z",
     "iopub.status.busy": "2024-11-11T18:30:49.634469Z",
     "iopub.status.idle": "2024-11-11T18:30:50.377559Z",
     "shell.execute_reply": "2024-11-11T18:30:50.376248Z",
     "shell.execute_reply.started": "2024-11-11T18:30:49.634852Z"
    },
    "trusted": true
   },
   "outputs": [
    {
     "data": {
      "text/html": [
       "<div>\n",
       "<style scoped>\n",
       "    .dataframe tbody tr th:only-of-type {\n",
       "        vertical-align: middle;\n",
       "    }\n",
       "\n",
       "    .dataframe tbody tr th {\n",
       "        vertical-align: top;\n",
       "    }\n",
       "\n",
       "    .dataframe thead th {\n",
       "        text-align: right;\n",
       "    }\n",
       "</style>\n",
       "<table border=\"1\" class=\"dataframe\">\n",
       "  <thead>\n",
       "    <tr style=\"text-align: right;\">\n",
       "      <th></th>\n",
       "      <th>ptf0 - Variance</th>\n",
       "      <th>ptf1 - Variance</th>\n",
       "      <th>ptf2 - Variance</th>\n",
       "      <th>ptf3 - Variance</th>\n",
       "      <th>ptf4 - Variance</th>\n",
       "      <th>ptf5 - Variance</th>\n",
       "      <th>ptf6 - Variance</th>\n",
       "      <th>ptf7 - Variance</th>\n",
       "      <th>ptf8 - Variance</th>\n",
       "      <th>ptf9 - Variance</th>\n",
       "      <th>...</th>\n",
       "      <th>ptf20 - Variance</th>\n",
       "      <th>ptf21 - Variance</th>\n",
       "      <th>ptf22 - Variance</th>\n",
       "      <th>ptf23 - Variance</th>\n",
       "      <th>ptf24 - Variance</th>\n",
       "      <th>ptf25 - Variance</th>\n",
       "      <th>ptf26 - Variance</th>\n",
       "      <th>ptf27 - Variance</th>\n",
       "      <th>ptf28 - Variance</th>\n",
       "      <th>ptf29 - Variance</th>\n",
       "    </tr>\n",
       "  </thead>\n",
       "  <tbody>\n",
       "    <tr>\n",
       "      <th>Mean</th>\n",
       "      <td>0.015%</td>\n",
       "      <td>0.023%</td>\n",
       "      <td>0.031%</td>\n",
       "      <td>0.039%</td>\n",
       "      <td>0.047%</td>\n",
       "      <td>0.055%</td>\n",
       "      <td>0.062%</td>\n",
       "      <td>0.070%</td>\n",
       "      <td>0.078%</td>\n",
       "      <td>0.086%</td>\n",
       "      <td>...</td>\n",
       "      <td>0.035%</td>\n",
       "      <td>0.034%</td>\n",
       "      <td>0.034%</td>\n",
       "      <td>0.033%</td>\n",
       "      <td>0.033%</td>\n",
       "      <td>0.033%</td>\n",
       "      <td>0.032%</td>\n",
       "      <td>0.032%</td>\n",
       "      <td>0.031%</td>\n",
       "      <td>0.031%</td>\n",
       "    </tr>\n",
       "    <tr>\n",
       "      <th>Annualized Mean</th>\n",
       "      <td>3.80%</td>\n",
       "      <td>5.79%</td>\n",
       "      <td>7.78%</td>\n",
       "      <td>9.77%</td>\n",
       "      <td>11.75%</td>\n",
       "      <td>13.74%</td>\n",
       "      <td>15.73%</td>\n",
       "      <td>17.71%</td>\n",
       "      <td>19.70%</td>\n",
       "      <td>21.69%</td>\n",
       "      <td>...</td>\n",
       "      <td>8.75%</td>\n",
       "      <td>8.64%</td>\n",
       "      <td>8.54%</td>\n",
       "      <td>8.43%</td>\n",
       "      <td>8.32%</td>\n",
       "      <td>8.22%</td>\n",
       "      <td>8.11%</td>\n",
       "      <td>8.00%</td>\n",
       "      <td>7.90%</td>\n",
       "      <td>7.79%</td>\n",
       "    </tr>\n",
       "    <tr>\n",
       "      <th>Variance</th>\n",
       "      <td>0.00081%</td>\n",
       "      <td>0.00096%</td>\n",
       "      <td>0.0014%</td>\n",
       "      <td>0.0021%</td>\n",
       "      <td>0.0030%</td>\n",
       "      <td>0.0042%</td>\n",
       "      <td>0.0057%</td>\n",
       "      <td>0.0074%</td>\n",
       "      <td>0.0094%</td>\n",
       "      <td>0.012%</td>\n",
       "      <td>...</td>\n",
       "      <td>0.068%</td>\n",
       "      <td>0.075%</td>\n",
       "      <td>0.082%</td>\n",
       "      <td>0.090%</td>\n",
       "      <td>0.099%</td>\n",
       "      <td>0.11%</td>\n",
       "      <td>0.12%</td>\n",
       "      <td>0.13%</td>\n",
       "      <td>0.14%</td>\n",
       "      <td>0.15%</td>\n",
       "    </tr>\n",
       "    <tr>\n",
       "      <th>Annualized Variance</th>\n",
       "      <td>0.20%</td>\n",
       "      <td>0.24%</td>\n",
       "      <td>0.35%</td>\n",
       "      <td>0.52%</td>\n",
       "      <td>0.76%</td>\n",
       "      <td>1.06%</td>\n",
       "      <td>1.43%</td>\n",
       "      <td>1.87%</td>\n",
       "      <td>2.38%</td>\n",
       "      <td>2.95%</td>\n",
       "      <td>...</td>\n",
       "      <td>17.07%</td>\n",
       "      <td>18.85%</td>\n",
       "      <td>20.74%</td>\n",
       "      <td>22.73%</td>\n",
       "      <td>24.83%</td>\n",
       "      <td>27.03%</td>\n",
       "      <td>29.33%</td>\n",
       "      <td>31.75%</td>\n",
       "      <td>34.26%</td>\n",
       "      <td>36.88%</td>\n",
       "    </tr>\n",
       "    <tr>\n",
       "      <th>Semi-Variance</th>\n",
       "      <td>0.00047%</td>\n",
       "      <td>0.00057%</td>\n",
       "      <td>0.00079%</td>\n",
       "      <td>0.0011%</td>\n",
       "      <td>0.0016%</td>\n",
       "      <td>0.0022%</td>\n",
       "      <td>0.0030%</td>\n",
       "      <td>0.0039%</td>\n",
       "      <td>0.0049%</td>\n",
       "      <td>0.0060%</td>\n",
       "      <td>...</td>\n",
       "      <td>0.033%</td>\n",
       "      <td>0.037%</td>\n",
       "      <td>0.040%</td>\n",
       "      <td>0.044%</td>\n",
       "      <td>0.048%</td>\n",
       "      <td>0.052%</td>\n",
       "      <td>0.057%</td>\n",
       "      <td>0.061%</td>\n",
       "      <td>0.066%</td>\n",
       "      <td>0.071%</td>\n",
       "    </tr>\n",
       "    <tr>\n",
       "      <th>Annualized Semi-Variance</th>\n",
       "      <td>0.12%</td>\n",
       "      <td>0.14%</td>\n",
       "      <td>0.20%</td>\n",
       "      <td>0.29%</td>\n",
       "      <td>0.41%</td>\n",
       "      <td>0.57%</td>\n",
       "      <td>0.75%</td>\n",
       "      <td>0.98%</td>\n",
       "      <td>1.23%</td>\n",
       "      <td>1.52%</td>\n",
       "      <td>...</td>\n",
       "      <td>8.37%</td>\n",
       "      <td>9.23%</td>\n",
       "      <td>10.13%</td>\n",
       "      <td>11.09%</td>\n",
       "      <td>12.10%</td>\n",
       "      <td>13.15%</td>\n",
       "      <td>14.26%</td>\n",
       "      <td>15.42%</td>\n",
       "      <td>16.63%</td>\n",
       "      <td>17.89%</td>\n",
       "    </tr>\n",
       "    <tr>\n",
       "      <th>Standard Deviation</th>\n",
       "      <td>0.28%</td>\n",
       "      <td>0.31%</td>\n",
       "      <td>0.37%</td>\n",
       "      <td>0.45%</td>\n",
       "      <td>0.55%</td>\n",
       "      <td>0.65%</td>\n",
       "      <td>0.75%</td>\n",
       "      <td>0.86%</td>\n",
       "      <td>0.97%</td>\n",
       "      <td>1.08%</td>\n",
       "      <td>...</td>\n",
       "      <td>2.60%</td>\n",
       "      <td>2.74%</td>\n",
       "      <td>2.87%</td>\n",
       "      <td>3.00%</td>\n",
       "      <td>3.14%</td>\n",
       "      <td>3.27%</td>\n",
       "      <td>3.41%</td>\n",
       "      <td>3.55%</td>\n",
       "      <td>3.69%</td>\n",
       "      <td>3.83%</td>\n",
       "    </tr>\n",
       "    <tr>\n",
       "      <th>Annualized Standard Deviation</th>\n",
       "      <td>4.52%</td>\n",
       "      <td>4.93%</td>\n",
       "      <td>5.90%</td>\n",
       "      <td>7.21%</td>\n",
       "      <td>8.71%</td>\n",
       "      <td>10.31%</td>\n",
       "      <td>11.98%</td>\n",
       "      <td>13.69%</td>\n",
       "      <td>15.42%</td>\n",
       "      <td>17.17%</td>\n",
       "      <td>...</td>\n",
       "      <td>41.32%</td>\n",
       "      <td>43.42%</td>\n",
       "      <td>45.54%</td>\n",
       "      <td>47.68%</td>\n",
       "      <td>49.83%</td>\n",
       "      <td>51.99%</td>\n",
       "      <td>54.16%</td>\n",
       "      <td>56.34%</td>\n",
       "      <td>58.53%</td>\n",
       "      <td>60.73%</td>\n",
       "    </tr>\n",
       "    <tr>\n",
       "      <th>Semi-Deviation</th>\n",
       "      <td>0.22%</td>\n",
       "      <td>0.24%</td>\n",
       "      <td>0.28%</td>\n",
       "      <td>0.34%</td>\n",
       "      <td>0.40%</td>\n",
       "      <td>0.47%</td>\n",
       "      <td>0.55%</td>\n",
       "      <td>0.62%</td>\n",
       "      <td>0.70%</td>\n",
       "      <td>0.78%</td>\n",
       "      <td>...</td>\n",
       "      <td>1.82%</td>\n",
       "      <td>1.91%</td>\n",
       "      <td>2.01%</td>\n",
       "      <td>2.10%</td>\n",
       "      <td>2.19%</td>\n",
       "      <td>2.28%</td>\n",
       "      <td>2.38%</td>\n",
       "      <td>2.47%</td>\n",
       "      <td>2.57%</td>\n",
       "      <td>2.66%</td>\n",
       "    </tr>\n",
       "    <tr>\n",
       "      <th>Annualized Semi-Deviation</th>\n",
       "      <td>3.44%</td>\n",
       "      <td>3.78%</td>\n",
       "      <td>4.47%</td>\n",
       "      <td>5.38%</td>\n",
       "      <td>6.41%</td>\n",
       "      <td>7.53%</td>\n",
       "      <td>8.69%</td>\n",
       "      <td>9.88%</td>\n",
       "      <td>11.09%</td>\n",
       "      <td>12.32%</td>\n",
       "      <td>...</td>\n",
       "      <td>28.93%</td>\n",
       "      <td>30.38%</td>\n",
       "      <td>31.83%</td>\n",
       "      <td>33.30%</td>\n",
       "      <td>34.78%</td>\n",
       "      <td>36.27%</td>\n",
       "      <td>37.77%</td>\n",
       "      <td>39.27%</td>\n",
       "      <td>40.78%</td>\n",
       "      <td>42.29%</td>\n",
       "    </tr>\n",
       "    <tr>\n",
       "      <th>Mean Absolute Deviation</th>\n",
       "      <td>0.16%</td>\n",
       "      <td>0.18%</td>\n",
       "      <td>0.23%</td>\n",
       "      <td>0.29%</td>\n",
       "      <td>0.36%</td>\n",
       "      <td>0.43%</td>\n",
       "      <td>0.50%</td>\n",
       "      <td>0.57%</td>\n",
       "      <td>0.65%</td>\n",
       "      <td>0.72%</td>\n",
       "      <td>...</td>\n",
       "      <td>1.95%</td>\n",
       "      <td>2.05%</td>\n",
       "      <td>2.14%</td>\n",
       "      <td>2.23%</td>\n",
       "      <td>2.33%</td>\n",
       "      <td>2.43%</td>\n",
       "      <td>2.52%</td>\n",
       "      <td>2.62%</td>\n",
       "      <td>2.72%</td>\n",
       "      <td>2.82%</td>\n",
       "    </tr>\n",
       "    <tr>\n",
       "      <th>CVaR at 95%</th>\n",
       "      <td>0.56%</td>\n",
       "      <td>0.63%</td>\n",
       "      <td>0.80%</td>\n",
       "      <td>1.01%</td>\n",
       "      <td>1.24%</td>\n",
       "      <td>1.48%</td>\n",
       "      <td>1.73%</td>\n",
       "      <td>1.98%</td>\n",
       "      <td>2.23%</td>\n",
       "      <td>2.48%</td>\n",
       "      <td>...</td>\n",
       "      <td>5.66%</td>\n",
       "      <td>5.96%</td>\n",
       "      <td>6.26%</td>\n",
       "      <td>6.57%</td>\n",
       "      <td>6.87%</td>\n",
       "      <td>7.18%</td>\n",
       "      <td>7.48%</td>\n",
       "      <td>7.79%</td>\n",
       "      <td>8.09%</td>\n",
       "      <td>8.40%</td>\n",
       "    </tr>\n",
       "    <tr>\n",
       "      <th>EVaR at 95%</th>\n",
       "      <td>2.83%</td>\n",
       "      <td>2.97%</td>\n",
       "      <td>3.13%</td>\n",
       "      <td>3.29%</td>\n",
       "      <td>3.47%</td>\n",
       "      <td>3.66%</td>\n",
       "      <td>3.87%</td>\n",
       "      <td>4.11%</td>\n",
       "      <td>4.38%</td>\n",
       "      <td>4.69%</td>\n",
       "      <td>...</td>\n",
       "      <td>6.59%</td>\n",
       "      <td>6.94%</td>\n",
       "      <td>7.30%</td>\n",
       "      <td>7.67%</td>\n",
       "      <td>8.03%</td>\n",
       "      <td>8.40%</td>\n",
       "      <td>8.78%</td>\n",
       "      <td>9.16%</td>\n",
       "      <td>9.54%</td>\n",
       "      <td>9.92%</td>\n",
       "    </tr>\n",
       "    <tr>\n",
       "      <th>Worst Realization</th>\n",
       "      <td>5.69%</td>\n",
       "      <td>5.98%</td>\n",
       "      <td>6.26%</td>\n",
       "      <td>6.55%</td>\n",
       "      <td>6.83%</td>\n",
       "      <td>7.11%</td>\n",
       "      <td>7.40%</td>\n",
       "      <td>7.68%</td>\n",
       "      <td>7.97%</td>\n",
       "      <td>8.25%</td>\n",
       "      <td>...</td>\n",
       "      <td>8.57%</td>\n",
       "      <td>8.97%</td>\n",
       "      <td>9.37%</td>\n",
       "      <td>9.78%</td>\n",
       "      <td>10.18%</td>\n",
       "      <td>10.59%</td>\n",
       "      <td>11.03%</td>\n",
       "      <td>11.46%</td>\n",
       "      <td>11.90%</td>\n",
       "      <td>12.33%</td>\n",
       "    </tr>\n",
       "    <tr>\n",
       "      <th>CDaR at 95%</th>\n",
       "      <td>3.60%</td>\n",
       "      <td>3.77%</td>\n",
       "      <td>4.33%</td>\n",
       "      <td>5.25%</td>\n",
       "      <td>6.39%</td>\n",
       "      <td>7.71%</td>\n",
       "      <td>9.14%</td>\n",
       "      <td>10.62%</td>\n",
       "      <td>12.18%</td>\n",
       "      <td>13.77%</td>\n",
       "      <td>...</td>\n",
       "      <td>58.49%</td>\n",
       "      <td>61.52%</td>\n",
       "      <td>64.54%</td>\n",
       "      <td>67.57%</td>\n",
       "      <td>70.59%</td>\n",
       "      <td>73.61%</td>\n",
       "      <td>76.77%</td>\n",
       "      <td>79.98%</td>\n",
       "      <td>83.18%</td>\n",
       "      <td>86.41%</td>\n",
       "    </tr>\n",
       "    <tr>\n",
       "      <th>MAX Drawdown</th>\n",
       "      <td>9.38%</td>\n",
       "      <td>10.56%</td>\n",
       "      <td>12.67%</td>\n",
       "      <td>15.55%</td>\n",
       "      <td>18.53%</td>\n",
       "      <td>21.53%</td>\n",
       "      <td>24.53%</td>\n",
       "      <td>27.53%</td>\n",
       "      <td>30.53%</td>\n",
       "      <td>33.53%</td>\n",
       "      <td>...</td>\n",
       "      <td>73.42%</td>\n",
       "      <td>77.34%</td>\n",
       "      <td>81.26%</td>\n",
       "      <td>85.18%</td>\n",
       "      <td>89.10%</td>\n",
       "      <td>93.02%</td>\n",
       "      <td>97.07%</td>\n",
       "      <td>101.17%</td>\n",
       "      <td>105.27%</td>\n",
       "      <td>109.38%</td>\n",
       "    </tr>\n",
       "    <tr>\n",
       "      <th>Average Drawdown</th>\n",
       "      <td>0.96%</td>\n",
       "      <td>0.83%</td>\n",
       "      <td>0.91%</td>\n",
       "      <td>1.13%</td>\n",
       "      <td>1.43%</td>\n",
       "      <td>1.75%</td>\n",
       "      <td>2.09%</td>\n",
       "      <td>2.44%</td>\n",
       "      <td>2.82%</td>\n",
       "      <td>3.21%</td>\n",
       "      <td>...</td>\n",
       "      <td>20.36%</td>\n",
       "      <td>21.48%</td>\n",
       "      <td>22.60%</td>\n",
       "      <td>23.71%</td>\n",
       "      <td>24.83%</td>\n",
       "      <td>25.97%</td>\n",
       "      <td>27.20%</td>\n",
       "      <td>28.48%</td>\n",
       "      <td>29.75%</td>\n",
       "      <td>31.03%</td>\n",
       "    </tr>\n",
       "    <tr>\n",
       "      <th>EDaR at 95%</th>\n",
       "      <td>5.88%</td>\n",
       "      <td>6.58%</td>\n",
       "      <td>7.69%</td>\n",
       "      <td>9.41%</td>\n",
       "      <td>11.28%</td>\n",
       "      <td>13.21%</td>\n",
       "      <td>15.16%</td>\n",
       "      <td>17.14%</td>\n",
       "      <td>19.14%</td>\n",
       "      <td>21.16%</td>\n",
       "      <td>...</td>\n",
       "      <td>64.33%</td>\n",
       "      <td>67.70%</td>\n",
       "      <td>71.08%</td>\n",
       "      <td>74.46%</td>\n",
       "      <td>77.85%</td>\n",
       "      <td>81.24%</td>\n",
       "      <td>84.77%</td>\n",
       "      <td>88.35%</td>\n",
       "      <td>91.94%</td>\n",
       "      <td>95.53%</td>\n",
       "    </tr>\n",
       "    <tr>\n",
       "      <th>First Lower Partial Moment</th>\n",
       "      <td>0.080%</td>\n",
       "      <td>0.090%</td>\n",
       "      <td>0.11%</td>\n",
       "      <td>0.14%</td>\n",
       "      <td>0.18%</td>\n",
       "      <td>0.21%</td>\n",
       "      <td>0.25%</td>\n",
       "      <td>0.29%</td>\n",
       "      <td>0.32%</td>\n",
       "      <td>0.36%</td>\n",
       "      <td>...</td>\n",
       "      <td>0.98%</td>\n",
       "      <td>1.02%</td>\n",
       "      <td>1.07%</td>\n",
       "      <td>1.12%</td>\n",
       "      <td>1.17%</td>\n",
       "      <td>1.21%</td>\n",
       "      <td>1.26%</td>\n",
       "      <td>1.31%</td>\n",
       "      <td>1.36%</td>\n",
       "      <td>1.41%</td>\n",
       "    </tr>\n",
       "    <tr>\n",
       "      <th>Ulcer Index</th>\n",
       "      <td>0.014</td>\n",
       "      <td>0.013</td>\n",
       "      <td>0.015</td>\n",
       "      <td>0.018</td>\n",
       "      <td>0.022</td>\n",
       "      <td>0.027</td>\n",
       "      <td>0.032</td>\n",
       "      <td>0.037</td>\n",
       "      <td>0.042</td>\n",
       "      <td>0.047</td>\n",
       "      <td>...</td>\n",
       "      <td>0.25</td>\n",
       "      <td>0.26</td>\n",
       "      <td>0.28</td>\n",
       "      <td>0.29</td>\n",
       "      <td>0.30</td>\n",
       "      <td>0.31</td>\n",
       "      <td>0.33</td>\n",
       "      <td>0.34</td>\n",
       "      <td>0.36</td>\n",
       "      <td>0.37</td>\n",
       "    </tr>\n",
       "    <tr>\n",
       "      <th>Gini Mean Difference</th>\n",
       "      <td>0.24%</td>\n",
       "      <td>0.27%</td>\n",
       "      <td>0.34%</td>\n",
       "      <td>0.43%</td>\n",
       "      <td>0.53%</td>\n",
       "      <td>0.64%</td>\n",
       "      <td>0.75%</td>\n",
       "      <td>0.86%</td>\n",
       "      <td>0.98%</td>\n",
       "      <td>1.09%</td>\n",
       "      <td>...</td>\n",
       "      <td>2.85%</td>\n",
       "      <td>3.00%</td>\n",
       "      <td>3.14%</td>\n",
       "      <td>3.28%</td>\n",
       "      <td>3.42%</td>\n",
       "      <td>3.57%</td>\n",
       "      <td>3.71%</td>\n",
       "      <td>3.86%</td>\n",
       "      <td>4.00%</td>\n",
       "      <td>4.15%</td>\n",
       "    </tr>\n",
       "    <tr>\n",
       "      <th>Value at Risk at 95%</th>\n",
       "      <td>0.31%</td>\n",
       "      <td>0.36%</td>\n",
       "      <td>0.44%</td>\n",
       "      <td>0.56%</td>\n",
       "      <td>0.70%</td>\n",
       "      <td>0.82%</td>\n",
       "      <td>0.98%</td>\n",
       "      <td>1.13%</td>\n",
       "      <td>1.30%</td>\n",
       "      <td>1.47%</td>\n",
       "      <td>...</td>\n",
       "      <td>4.24%</td>\n",
       "      <td>4.50%</td>\n",
       "      <td>4.69%</td>\n",
       "      <td>4.95%</td>\n",
       "      <td>5.22%</td>\n",
       "      <td>5.44%</td>\n",
       "      <td>5.66%</td>\n",
       "      <td>5.88%</td>\n",
       "      <td>6.14%</td>\n",
       "      <td>6.32%</td>\n",
       "    </tr>\n",
       "    <tr>\n",
       "      <th>Drawdown at Risk at 95%</th>\n",
       "      <td>2.81%</td>\n",
       "      <td>2.63%</td>\n",
       "      <td>3.06%</td>\n",
       "      <td>3.71%</td>\n",
       "      <td>4.31%</td>\n",
       "      <td>5.14%</td>\n",
       "      <td>5.93%</td>\n",
       "      <td>6.82%</td>\n",
       "      <td>7.78%</td>\n",
       "      <td>8.93%</td>\n",
       "      <td>...</td>\n",
       "      <td>43.43%</td>\n",
       "      <td>45.49%</td>\n",
       "      <td>47.64%</td>\n",
       "      <td>49.78%</td>\n",
       "      <td>51.93%</td>\n",
       "      <td>54.08%</td>\n",
       "      <td>56.35%</td>\n",
       "      <td>58.69%</td>\n",
       "      <td>61.14%</td>\n",
       "      <td>64.20%</td>\n",
       "    </tr>\n",
       "    <tr>\n",
       "      <th>Entropic Risk Measure at 95%</th>\n",
       "      <td>3.00</td>\n",
       "      <td>3.00</td>\n",
       "      <td>3.00</td>\n",
       "      <td>3.00</td>\n",
       "      <td>3.00</td>\n",
       "      <td>3.00</td>\n",
       "      <td>3.00</td>\n",
       "      <td>3.00</td>\n",
       "      <td>2.99</td>\n",
       "      <td>2.99</td>\n",
       "      <td>...</td>\n",
       "      <td>3.00</td>\n",
       "      <td>3.00</td>\n",
       "      <td>3.00</td>\n",
       "      <td>3.00</td>\n",
       "      <td>3.00</td>\n",
       "      <td>3.00</td>\n",
       "      <td>3.00</td>\n",
       "      <td>3.00</td>\n",
       "      <td>3.00</td>\n",
       "      <td>3.00</td>\n",
       "    </tr>\n",
       "    <tr>\n",
       "      <th>Fourth Central Moment</th>\n",
       "      <td>0.000001%</td>\n",
       "      <td>0.000001%</td>\n",
       "      <td>0.000001%</td>\n",
       "      <td>0.000002%</td>\n",
       "      <td>0.000002%</td>\n",
       "      <td>0.000003%</td>\n",
       "      <td>0.000005%</td>\n",
       "      <td>0.000007%</td>\n",
       "      <td>0.000011%</td>\n",
       "      <td>0.000015%</td>\n",
       "      <td>...</td>\n",
       "      <td>0.00020%</td>\n",
       "      <td>0.00026%</td>\n",
       "      <td>0.00032%</td>\n",
       "      <td>0.00039%</td>\n",
       "      <td>0.00047%</td>\n",
       "      <td>0.00057%</td>\n",
       "      <td>0.00068%</td>\n",
       "      <td>0.00081%</td>\n",
       "      <td>0.00096%</td>\n",
       "      <td>0.0011%</td>\n",
       "    </tr>\n",
       "    <tr>\n",
       "      <th>Fourth Lower Partial Moment</th>\n",
       "      <td>0.000001%</td>\n",
       "      <td>0.000001%</td>\n",
       "      <td>0.000001%</td>\n",
       "      <td>0.000001%</td>\n",
       "      <td>0.000002%</td>\n",
       "      <td>0.000002%</td>\n",
       "      <td>0.000004%</td>\n",
       "      <td>0.000005%</td>\n",
       "      <td>0.000007%</td>\n",
       "      <td>0.000010%</td>\n",
       "      <td>...</td>\n",
       "      <td>0.000082%</td>\n",
       "      <td>0.00010%</td>\n",
       "      <td>0.00012%</td>\n",
       "      <td>0.00015%</td>\n",
       "      <td>0.00018%</td>\n",
       "      <td>0.00021%</td>\n",
       "      <td>0.00025%</td>\n",
       "      <td>0.00029%</td>\n",
       "      <td>0.00034%</td>\n",
       "      <td>0.00040%</td>\n",
       "    </tr>\n",
       "    <tr>\n",
       "      <th>Skew</th>\n",
       "      <td>-294.66%</td>\n",
       "      <td>-320.27%</td>\n",
       "      <td>-247.15%</td>\n",
       "      <td>-172.02%</td>\n",
       "      <td>-120.70%</td>\n",
       "      <td>-87.87%</td>\n",
       "      <td>-66.80%</td>\n",
       "      <td>-52.64%</td>\n",
       "      <td>-42.79%</td>\n",
       "      <td>-35.70%</td>\n",
       "      <td>...</td>\n",
       "      <td>14.65%</td>\n",
       "      <td>16.11%</td>\n",
       "      <td>17.43%</td>\n",
       "      <td>18.62%</td>\n",
       "      <td>19.70%</td>\n",
       "      <td>20.69%</td>\n",
       "      <td>21.58%</td>\n",
       "      <td>22.40%</td>\n",
       "      <td>23.15%</td>\n",
       "      <td>23.84%</td>\n",
       "    </tr>\n",
       "    <tr>\n",
       "      <th>Kurtosis</th>\n",
       "      <td>13657.12%</td>\n",
       "      <td>11353.57%</td>\n",
       "      <td>6705.36%</td>\n",
       "      <td>3857.81%</td>\n",
       "      <td>2488.94%</td>\n",
       "      <td>1828.82%</td>\n",
       "      <td>1492.93%</td>\n",
       "      <td>1307.89%</td>\n",
       "      <td>1199.10%</td>\n",
       "      <td>1131.42%</td>\n",
       "      <td>...</td>\n",
       "      <td>444.99%</td>\n",
       "      <td>456.02%</td>\n",
       "      <td>466.49%</td>\n",
       "      <td>476.39%</td>\n",
       "      <td>485.72%</td>\n",
       "      <td>494.49%</td>\n",
       "      <td>502.72%</td>\n",
       "      <td>510.44%</td>\n",
       "      <td>517.69%</td>\n",
       "      <td>524.49%</td>\n",
       "    </tr>\n",
       "    <tr>\n",
       "      <th>Sharpe Ratio</th>\n",
       "      <td>0.053</td>\n",
       "      <td>0.074</td>\n",
       "      <td>0.083</td>\n",
       "      <td>0.085</td>\n",
       "      <td>0.085</td>\n",
       "      <td>0.084</td>\n",
       "      <td>0.083</td>\n",
       "      <td>0.082</td>\n",
       "      <td>0.080</td>\n",
       "      <td>0.080</td>\n",
       "      <td>...</td>\n",
       "      <td>0.013</td>\n",
       "      <td>0.013</td>\n",
       "      <td>0.012</td>\n",
       "      <td>0.011</td>\n",
       "      <td>0.011</td>\n",
       "      <td>0.0100</td>\n",
       "      <td>0.0094</td>\n",
       "      <td>0.0089</td>\n",
       "      <td>0.0085</td>\n",
       "      <td>0.0081</td>\n",
       "    </tr>\n",
       "    <tr>\n",
       "      <th>Annualized Sharpe Ratio</th>\n",
       "      <td>0.84</td>\n",
       "      <td>1.18</td>\n",
       "      <td>1.32</td>\n",
       "      <td>1.35</td>\n",
       "      <td>1.35</td>\n",
       "      <td>1.33</td>\n",
       "      <td>1.31</td>\n",
       "      <td>1.29</td>\n",
       "      <td>1.28</td>\n",
       "      <td>1.26</td>\n",
       "      <td>...</td>\n",
       "      <td>0.21</td>\n",
       "      <td>0.20</td>\n",
       "      <td>0.19</td>\n",
       "      <td>0.18</td>\n",
       "      <td>0.17</td>\n",
       "      <td>0.16</td>\n",
       "      <td>0.15</td>\n",
       "      <td>0.14</td>\n",
       "      <td>0.13</td>\n",
       "      <td>0.13</td>\n",
       "    </tr>\n",
       "    <tr>\n",
       "      <th>Sortino Ratio</th>\n",
       "      <td>0.070</td>\n",
       "      <td>0.097</td>\n",
       "      <td>0.11</td>\n",
       "      <td>0.11</td>\n",
       "      <td>0.12</td>\n",
       "      <td>0.11</td>\n",
       "      <td>0.11</td>\n",
       "      <td>0.11</td>\n",
       "      <td>0.11</td>\n",
       "      <td>0.11</td>\n",
       "      <td>...</td>\n",
       "      <td>0.019</td>\n",
       "      <td>0.018</td>\n",
       "      <td>0.017</td>\n",
       "      <td>0.016</td>\n",
       "      <td>0.015</td>\n",
       "      <td>0.014</td>\n",
       "      <td>0.014</td>\n",
       "      <td>0.013</td>\n",
       "      <td>0.012</td>\n",
       "      <td>0.012</td>\n",
       "    </tr>\n",
       "    <tr>\n",
       "      <th>Annualized Sortino Ratio</th>\n",
       "      <td>1.11</td>\n",
       "      <td>1.53</td>\n",
       "      <td>1.74</td>\n",
       "      <td>1.82</td>\n",
       "      <td>1.83</td>\n",
       "      <td>1.83</td>\n",
       "      <td>1.81</td>\n",
       "      <td>1.79</td>\n",
       "      <td>1.78</td>\n",
       "      <td>1.76</td>\n",
       "      <td>...</td>\n",
       "      <td>0.30</td>\n",
       "      <td>0.28</td>\n",
       "      <td>0.27</td>\n",
       "      <td>0.25</td>\n",
       "      <td>0.24</td>\n",
       "      <td>0.23</td>\n",
       "      <td>0.21</td>\n",
       "      <td>0.20</td>\n",
       "      <td>0.19</td>\n",
       "      <td>0.18</td>\n",
       "    </tr>\n",
       "    <tr>\n",
       "      <th>Mean Absolute Deviation Ratio</th>\n",
       "      <td>0.094</td>\n",
       "      <td>0.13</td>\n",
       "      <td>0.13</td>\n",
       "      <td>0.13</td>\n",
       "      <td>0.13</td>\n",
       "      <td>0.13</td>\n",
       "      <td>0.13</td>\n",
       "      <td>0.12</td>\n",
       "      <td>0.12</td>\n",
       "      <td>0.12</td>\n",
       "      <td>...</td>\n",
       "      <td>0.018</td>\n",
       "      <td>0.017</td>\n",
       "      <td>0.016</td>\n",
       "      <td>0.015</td>\n",
       "      <td>0.014</td>\n",
       "      <td>0.013</td>\n",
       "      <td>0.013</td>\n",
       "      <td>0.012</td>\n",
       "      <td>0.012</td>\n",
       "      <td>0.011</td>\n",
       "    </tr>\n",
       "    <tr>\n",
       "      <th>First Lower Partial Moment Ratio</th>\n",
       "      <td>0.19</td>\n",
       "      <td>0.25</td>\n",
       "      <td>0.27</td>\n",
       "      <td>0.27</td>\n",
       "      <td>0.26</td>\n",
       "      <td>0.26</td>\n",
       "      <td>0.25</td>\n",
       "      <td>0.25</td>\n",
       "      <td>0.24</td>\n",
       "      <td>0.24</td>\n",
       "      <td>...</td>\n",
       "      <td>0.036</td>\n",
       "      <td>0.034</td>\n",
       "      <td>0.032</td>\n",
       "      <td>0.030</td>\n",
       "      <td>0.028</td>\n",
       "      <td>0.027</td>\n",
       "      <td>0.026</td>\n",
       "      <td>0.024</td>\n",
       "      <td>0.023</td>\n",
       "      <td>0.022</td>\n",
       "    </tr>\n",
       "    <tr>\n",
       "      <th>Value at Risk Ratio at 95%</th>\n",
       "      <td>0.049</td>\n",
       "      <td>0.064</td>\n",
       "      <td>0.070</td>\n",
       "      <td>0.069</td>\n",
       "      <td>0.066</td>\n",
       "      <td>0.066</td>\n",
       "      <td>0.064</td>\n",
       "      <td>0.062</td>\n",
       "      <td>0.060</td>\n",
       "      <td>0.058</td>\n",
       "      <td>...</td>\n",
       "      <td>0.0082</td>\n",
       "      <td>0.0076</td>\n",
       "      <td>0.0072</td>\n",
       "      <td>0.0068</td>\n",
       "      <td>0.0063</td>\n",
       "      <td>0.0060</td>\n",
       "      <td>0.0057</td>\n",
       "      <td>0.0054</td>\n",
       "      <td>0.0051</td>\n",
       "      <td>0.0049</td>\n",
       "    </tr>\n",
       "    <tr>\n",
       "      <th>CVaR Ratio at 95%</th>\n",
       "      <td>0.027</td>\n",
       "      <td>0.036</td>\n",
       "      <td>0.039</td>\n",
       "      <td>0.038</td>\n",
       "      <td>0.038</td>\n",
       "      <td>0.037</td>\n",
       "      <td>0.036</td>\n",
       "      <td>0.036</td>\n",
       "      <td>0.035</td>\n",
       "      <td>0.035</td>\n",
       "      <td>...</td>\n",
       "      <td>0.0061</td>\n",
       "      <td>0.0058</td>\n",
       "      <td>0.0054</td>\n",
       "      <td>0.0051</td>\n",
       "      <td>0.0048</td>\n",
       "      <td>0.0045</td>\n",
       "      <td>0.0043</td>\n",
       "      <td>0.0041</td>\n",
       "      <td>0.0039</td>\n",
       "      <td>0.0037</td>\n",
       "    </tr>\n",
       "    <tr>\n",
       "      <th>Entropic Risk Measure Ratio at 95%</th>\n",
       "      <td>0.000050</td>\n",
       "      <td>0.000077</td>\n",
       "      <td>0.00010</td>\n",
       "      <td>0.00013</td>\n",
       "      <td>0.00016</td>\n",
       "      <td>0.00018</td>\n",
       "      <td>0.00021</td>\n",
       "      <td>0.00023</td>\n",
       "      <td>0.00026</td>\n",
       "      <td>0.00029</td>\n",
       "      <td>...</td>\n",
       "      <td>0.00012</td>\n",
       "      <td>0.00011</td>\n",
       "      <td>0.00011</td>\n",
       "      <td>0.00011</td>\n",
       "      <td>0.00011</td>\n",
       "      <td>0.00011</td>\n",
       "      <td>0.00011</td>\n",
       "      <td>0.00011</td>\n",
       "      <td>0.00010</td>\n",
       "      <td>0.00010</td>\n",
       "    </tr>\n",
       "    <tr>\n",
       "      <th>EVaR Ratio at 95%</th>\n",
       "      <td>0.0053</td>\n",
       "      <td>0.0077</td>\n",
       "      <td>0.0099</td>\n",
       "      <td>0.012</td>\n",
       "      <td>0.013</td>\n",
       "      <td>0.015</td>\n",
       "      <td>0.016</td>\n",
       "      <td>0.017</td>\n",
       "      <td>0.018</td>\n",
       "      <td>0.018</td>\n",
       "      <td>...</td>\n",
       "      <td>0.0053</td>\n",
       "      <td>0.0049</td>\n",
       "      <td>0.0046</td>\n",
       "      <td>0.0044</td>\n",
       "      <td>0.0041</td>\n",
       "      <td>0.0039</td>\n",
       "      <td>0.0037</td>\n",
       "      <td>0.0035</td>\n",
       "      <td>0.0033</td>\n",
       "      <td>0.0031</td>\n",
       "    </tr>\n",
       "    <tr>\n",
       "      <th>Worst Realization Ratio</th>\n",
       "      <td>0.0027</td>\n",
       "      <td>0.0038</td>\n",
       "      <td>0.0049</td>\n",
       "      <td>0.0059</td>\n",
       "      <td>0.0068</td>\n",
       "      <td>0.0077</td>\n",
       "      <td>0.0084</td>\n",
       "      <td>0.0091</td>\n",
       "      <td>0.0098</td>\n",
       "      <td>0.010</td>\n",
       "      <td>...</td>\n",
       "      <td>0.0041</td>\n",
       "      <td>0.0038</td>\n",
       "      <td>0.0036</td>\n",
       "      <td>0.0034</td>\n",
       "      <td>0.0032</td>\n",
       "      <td>0.0031</td>\n",
       "      <td>0.0029</td>\n",
       "      <td>0.0028</td>\n",
       "      <td>0.0026</td>\n",
       "      <td>0.0025</td>\n",
       "    </tr>\n",
       "    <tr>\n",
       "      <th>Drawdown at Risk Ratio at 95%</th>\n",
       "      <td>0.0054</td>\n",
       "      <td>0.0088</td>\n",
       "      <td>0.010</td>\n",
       "      <td>0.010</td>\n",
       "      <td>0.011</td>\n",
       "      <td>0.011</td>\n",
       "      <td>0.011</td>\n",
       "      <td>0.010</td>\n",
       "      <td>0.010</td>\n",
       "      <td>0.0096</td>\n",
       "      <td>...</td>\n",
       "      <td>0.00080</td>\n",
       "      <td>0.00075</td>\n",
       "      <td>0.00071</td>\n",
       "      <td>0.00067</td>\n",
       "      <td>0.00064</td>\n",
       "      <td>0.00060</td>\n",
       "      <td>0.00057</td>\n",
       "      <td>0.00054</td>\n",
       "      <td>0.00051</td>\n",
       "      <td>0.00048</td>\n",
       "    </tr>\n",
       "    <tr>\n",
       "      <th>CDaR Ratio at 95%</th>\n",
       "      <td>0.0042</td>\n",
       "      <td>0.0061</td>\n",
       "      <td>0.0071</td>\n",
       "      <td>0.0074</td>\n",
       "      <td>0.0073</td>\n",
       "      <td>0.0071</td>\n",
       "      <td>0.0068</td>\n",
       "      <td>0.0066</td>\n",
       "      <td>0.0064</td>\n",
       "      <td>0.0062</td>\n",
       "      <td>...</td>\n",
       "      <td>0.00059</td>\n",
       "      <td>0.00056</td>\n",
       "      <td>0.00052</td>\n",
       "      <td>0.00050</td>\n",
       "      <td>0.00047</td>\n",
       "      <td>0.00044</td>\n",
       "      <td>0.00042</td>\n",
       "      <td>0.00040</td>\n",
       "      <td>0.00038</td>\n",
       "      <td>0.00036</td>\n",
       "    </tr>\n",
       "    <tr>\n",
       "      <th>Calmar Ratio</th>\n",
       "      <td>0.0016</td>\n",
       "      <td>0.0022</td>\n",
       "      <td>0.0024</td>\n",
       "      <td>0.0025</td>\n",
       "      <td>0.0025</td>\n",
       "      <td>0.0025</td>\n",
       "      <td>0.0025</td>\n",
       "      <td>0.0026</td>\n",
       "      <td>0.0026</td>\n",
       "      <td>0.0026</td>\n",
       "      <td>...</td>\n",
       "      <td>0.00047</td>\n",
       "      <td>0.00044</td>\n",
       "      <td>0.00042</td>\n",
       "      <td>0.00039</td>\n",
       "      <td>0.00037</td>\n",
       "      <td>0.00035</td>\n",
       "      <td>0.00033</td>\n",
       "      <td>0.00031</td>\n",
       "      <td>0.00030</td>\n",
       "      <td>0.00028</td>\n",
       "    </tr>\n",
       "    <tr>\n",
       "      <th>Average Drawdown Ratio</th>\n",
       "      <td>0.016</td>\n",
       "      <td>0.028</td>\n",
       "      <td>0.034</td>\n",
       "      <td>0.034</td>\n",
       "      <td>0.033</td>\n",
       "      <td>0.031</td>\n",
       "      <td>0.030</td>\n",
       "      <td>0.029</td>\n",
       "      <td>0.028</td>\n",
       "      <td>0.027</td>\n",
       "      <td>...</td>\n",
       "      <td>0.0017</td>\n",
       "      <td>0.0016</td>\n",
       "      <td>0.0015</td>\n",
       "      <td>0.0014</td>\n",
       "      <td>0.0013</td>\n",
       "      <td>0.0013</td>\n",
       "      <td>0.0012</td>\n",
       "      <td>0.0011</td>\n",
       "      <td>0.0011</td>\n",
       "      <td>0.00100</td>\n",
       "    </tr>\n",
       "    <tr>\n",
       "      <th>EDaR Ratio at 95%</th>\n",
       "      <td>0.0026</td>\n",
       "      <td>0.0035</td>\n",
       "      <td>0.0040</td>\n",
       "      <td>0.0041</td>\n",
       "      <td>0.0041</td>\n",
       "      <td>0.0041</td>\n",
       "      <td>0.0041</td>\n",
       "      <td>0.0041</td>\n",
       "      <td>0.0041</td>\n",
       "      <td>0.0041</td>\n",
       "      <td>...</td>\n",
       "      <td>0.00054</td>\n",
       "      <td>0.00051</td>\n",
       "      <td>0.00048</td>\n",
       "      <td>0.00045</td>\n",
       "      <td>0.00042</td>\n",
       "      <td>0.00040</td>\n",
       "      <td>0.00038</td>\n",
       "      <td>0.00036</td>\n",
       "      <td>0.00034</td>\n",
       "      <td>0.00032</td>\n",
       "    </tr>\n",
       "    <tr>\n",
       "      <th>Ulcer Index Ratio</th>\n",
       "      <td>0.011</td>\n",
       "      <td>0.018</td>\n",
       "      <td>0.021</td>\n",
       "      <td>0.021</td>\n",
       "      <td>0.021</td>\n",
       "      <td>0.020</td>\n",
       "      <td>0.020</td>\n",
       "      <td>0.019</td>\n",
       "      <td>0.019</td>\n",
       "      <td>0.018</td>\n",
       "      <td>...</td>\n",
       "      <td>0.0014</td>\n",
       "      <td>0.0013</td>\n",
       "      <td>0.0012</td>\n",
       "      <td>0.0012</td>\n",
       "      <td>0.0011</td>\n",
       "      <td>0.0010</td>\n",
       "      <td>0.00098</td>\n",
       "      <td>0.00092</td>\n",
       "      <td>0.00087</td>\n",
       "      <td>0.00083</td>\n",
       "    </tr>\n",
       "    <tr>\n",
       "      <th>Gini Mean Difference Ratio</th>\n",
       "      <td>0.064</td>\n",
       "      <td>0.086</td>\n",
       "      <td>0.090</td>\n",
       "      <td>0.089</td>\n",
       "      <td>0.087</td>\n",
       "      <td>0.085</td>\n",
       "      <td>0.083</td>\n",
       "      <td>0.081</td>\n",
       "      <td>0.080</td>\n",
       "      <td>0.079</td>\n",
       "      <td>...</td>\n",
       "      <td>0.012</td>\n",
       "      <td>0.011</td>\n",
       "      <td>0.011</td>\n",
       "      <td>0.010</td>\n",
       "      <td>0.0097</td>\n",
       "      <td>0.0091</td>\n",
       "      <td>0.0087</td>\n",
       "      <td>0.0082</td>\n",
       "      <td>0.0078</td>\n",
       "      <td>0.0075</td>\n",
       "    </tr>\n",
       "    <tr>\n",
       "      <th>Effective Number of Assets</th>\n",
       "      <td>1.126501864657395</td>\n",
       "      <td>1.267178594754139</td>\n",
       "      <td>1.4228871620359265</td>\n",
       "      <td>1.5968567302240027</td>\n",
       "      <td>1.7919829860916991</td>\n",
       "      <td>2.0026628686618744</td>\n",
       "      <td>2.226861142116468</td>\n",
       "      <td>2.4507058064708946</td>\n",
       "      <td>2.659073136045098</td>\n",
       "      <td>2.8323156143186075</td>\n",
       "      <td>...</td>\n",
       "      <td>1.905947376681677</td>\n",
       "      <td>1.8261243383287038</td>\n",
       "      <td>1.7300676306820106</td>\n",
       "      <td>1.623676206646365</td>\n",
       "      <td>1.5123318995450326</td>\n",
       "      <td>1.4004727974496438</td>\n",
       "      <td>1.2914414743461495</td>\n",
       "      <td>1.1875320980016564</td>\n",
       "      <td>1.0901484215372514</td>\n",
       "      <td>1.0000000054490017</td>\n",
       "    </tr>\n",
       "    <tr>\n",
       "      <th>Assets Number</th>\n",
       "      <td>3</td>\n",
       "      <td>3</td>\n",
       "      <td>3</td>\n",
       "      <td>3</td>\n",
       "      <td>3</td>\n",
       "      <td>3</td>\n",
       "      <td>3</td>\n",
       "      <td>3</td>\n",
       "      <td>3</td>\n",
       "      <td>3</td>\n",
       "      <td>...</td>\n",
       "      <td>3</td>\n",
       "      <td>3</td>\n",
       "      <td>3</td>\n",
       "      <td>3</td>\n",
       "      <td>3</td>\n",
       "      <td>3</td>\n",
       "      <td>3</td>\n",
       "      <td>3</td>\n",
       "      <td>3</td>\n",
       "      <td>3</td>\n",
       "    </tr>\n",
       "  </tbody>\n",
       "</table>\n",
       "<p>48 rows × 60 columns</p>\n",
       "</div>"
      ],
      "text/plain": [
       "                                      ptf0 - Variance    ptf1 - Variance  \\\n",
       "Mean                                           0.015%             0.023%   \n",
       "Annualized Mean                                 3.80%              5.79%   \n",
       "Variance                                     0.00081%           0.00096%   \n",
       "Annualized Variance                             0.20%              0.24%   \n",
       "Semi-Variance                                0.00047%           0.00057%   \n",
       "Annualized Semi-Variance                        0.12%              0.14%   \n",
       "Standard Deviation                              0.28%              0.31%   \n",
       "Annualized Standard Deviation                   4.52%              4.93%   \n",
       "Semi-Deviation                                  0.22%              0.24%   \n",
       "Annualized Semi-Deviation                       3.44%              3.78%   \n",
       "Mean Absolute Deviation                         0.16%              0.18%   \n",
       "CVaR at 95%                                     0.56%              0.63%   \n",
       "EVaR at 95%                                     2.83%              2.97%   \n",
       "Worst Realization                               5.69%              5.98%   \n",
       "CDaR at 95%                                     3.60%              3.77%   \n",
       "MAX Drawdown                                    9.38%             10.56%   \n",
       "Average Drawdown                                0.96%              0.83%   \n",
       "EDaR at 95%                                     5.88%              6.58%   \n",
       "First Lower Partial Moment                     0.080%             0.090%   \n",
       "Ulcer Index                                     0.014              0.013   \n",
       "Gini Mean Difference                            0.24%              0.27%   \n",
       "Value at Risk at 95%                            0.31%              0.36%   \n",
       "Drawdown at Risk at 95%                         2.81%              2.63%   \n",
       "Entropic Risk Measure at 95%                     3.00               3.00   \n",
       "Fourth Central Moment                       0.000001%          0.000001%   \n",
       "Fourth Lower Partial Moment                 0.000001%          0.000001%   \n",
       "Skew                                         -294.66%           -320.27%   \n",
       "Kurtosis                                    13657.12%          11353.57%   \n",
       "Sharpe Ratio                                    0.053              0.074   \n",
       "Annualized Sharpe Ratio                          0.84               1.18   \n",
       "Sortino Ratio                                   0.070              0.097   \n",
       "Annualized Sortino Ratio                         1.11               1.53   \n",
       "Mean Absolute Deviation Ratio                   0.094               0.13   \n",
       "First Lower Partial Moment Ratio                 0.19               0.25   \n",
       "Value at Risk Ratio at 95%                      0.049              0.064   \n",
       "CVaR Ratio at 95%                               0.027              0.036   \n",
       "Entropic Risk Measure Ratio at 95%           0.000050           0.000077   \n",
       "EVaR Ratio at 95%                              0.0053             0.0077   \n",
       "Worst Realization Ratio                        0.0027             0.0038   \n",
       "Drawdown at Risk Ratio at 95%                  0.0054             0.0088   \n",
       "CDaR Ratio at 95%                              0.0042             0.0061   \n",
       "Calmar Ratio                                   0.0016             0.0022   \n",
       "Average Drawdown Ratio                          0.016              0.028   \n",
       "EDaR Ratio at 95%                              0.0026             0.0035   \n",
       "Ulcer Index Ratio                               0.011              0.018   \n",
       "Gini Mean Difference Ratio                      0.064              0.086   \n",
       "Effective Number of Assets          1.126501864657395  1.267178594754139   \n",
       "Assets Number                                       3                  3   \n",
       "\n",
       "                                       ptf2 - Variance     ptf3 - Variance  \\\n",
       "Mean                                            0.031%              0.039%   \n",
       "Annualized Mean                                  7.78%               9.77%   \n",
       "Variance                                       0.0014%             0.0021%   \n",
       "Annualized Variance                              0.35%               0.52%   \n",
       "Semi-Variance                                 0.00079%             0.0011%   \n",
       "Annualized Semi-Variance                         0.20%               0.29%   \n",
       "Standard Deviation                               0.37%               0.45%   \n",
       "Annualized Standard Deviation                    5.90%               7.21%   \n",
       "Semi-Deviation                                   0.28%               0.34%   \n",
       "Annualized Semi-Deviation                        4.47%               5.38%   \n",
       "Mean Absolute Deviation                          0.23%               0.29%   \n",
       "CVaR at 95%                                      0.80%               1.01%   \n",
       "EVaR at 95%                                      3.13%               3.29%   \n",
       "Worst Realization                                6.26%               6.55%   \n",
       "CDaR at 95%                                      4.33%               5.25%   \n",
       "MAX Drawdown                                    12.67%              15.55%   \n",
       "Average Drawdown                                 0.91%               1.13%   \n",
       "EDaR at 95%                                      7.69%               9.41%   \n",
       "First Lower Partial Moment                       0.11%               0.14%   \n",
       "Ulcer Index                                      0.015               0.018   \n",
       "Gini Mean Difference                             0.34%               0.43%   \n",
       "Value at Risk at 95%                             0.44%               0.56%   \n",
       "Drawdown at Risk at 95%                          3.06%               3.71%   \n",
       "Entropic Risk Measure at 95%                      3.00                3.00   \n",
       "Fourth Central Moment                        0.000001%           0.000002%   \n",
       "Fourth Lower Partial Moment                  0.000001%           0.000001%   \n",
       "Skew                                          -247.15%            -172.02%   \n",
       "Kurtosis                                      6705.36%            3857.81%   \n",
       "Sharpe Ratio                                     0.083               0.085   \n",
       "Annualized Sharpe Ratio                           1.32                1.35   \n",
       "Sortino Ratio                                     0.11                0.11   \n",
       "Annualized Sortino Ratio                          1.74                1.82   \n",
       "Mean Absolute Deviation Ratio                     0.13                0.13   \n",
       "First Lower Partial Moment Ratio                  0.27                0.27   \n",
       "Value at Risk Ratio at 95%                       0.070               0.069   \n",
       "CVaR Ratio at 95%                                0.039               0.038   \n",
       "Entropic Risk Measure Ratio at 95%             0.00010             0.00013   \n",
       "EVaR Ratio at 95%                               0.0099               0.012   \n",
       "Worst Realization Ratio                         0.0049              0.0059   \n",
       "Drawdown at Risk Ratio at 95%                    0.010               0.010   \n",
       "CDaR Ratio at 95%                               0.0071              0.0074   \n",
       "Calmar Ratio                                    0.0024              0.0025   \n",
       "Average Drawdown Ratio                           0.034               0.034   \n",
       "EDaR Ratio at 95%                               0.0040              0.0041   \n",
       "Ulcer Index Ratio                                0.021               0.021   \n",
       "Gini Mean Difference Ratio                       0.090               0.089   \n",
       "Effective Number of Assets          1.4228871620359265  1.5968567302240027   \n",
       "Assets Number                                        3                   3   \n",
       "\n",
       "                                       ptf4 - Variance     ptf5 - Variance  \\\n",
       "Mean                                            0.047%              0.055%   \n",
       "Annualized Mean                                 11.75%              13.74%   \n",
       "Variance                                       0.0030%             0.0042%   \n",
       "Annualized Variance                              0.76%               1.06%   \n",
       "Semi-Variance                                  0.0016%             0.0022%   \n",
       "Annualized Semi-Variance                         0.41%               0.57%   \n",
       "Standard Deviation                               0.55%               0.65%   \n",
       "Annualized Standard Deviation                    8.71%              10.31%   \n",
       "Semi-Deviation                                   0.40%               0.47%   \n",
       "Annualized Semi-Deviation                        6.41%               7.53%   \n",
       "Mean Absolute Deviation                          0.36%               0.43%   \n",
       "CVaR at 95%                                      1.24%               1.48%   \n",
       "EVaR at 95%                                      3.47%               3.66%   \n",
       "Worst Realization                                6.83%               7.11%   \n",
       "CDaR at 95%                                      6.39%               7.71%   \n",
       "MAX Drawdown                                    18.53%              21.53%   \n",
       "Average Drawdown                                 1.43%               1.75%   \n",
       "EDaR at 95%                                     11.28%              13.21%   \n",
       "First Lower Partial Moment                       0.18%               0.21%   \n",
       "Ulcer Index                                      0.022               0.027   \n",
       "Gini Mean Difference                             0.53%               0.64%   \n",
       "Value at Risk at 95%                             0.70%               0.82%   \n",
       "Drawdown at Risk at 95%                          4.31%               5.14%   \n",
       "Entropic Risk Measure at 95%                      3.00                3.00   \n",
       "Fourth Central Moment                        0.000002%           0.000003%   \n",
       "Fourth Lower Partial Moment                  0.000002%           0.000002%   \n",
       "Skew                                          -120.70%             -87.87%   \n",
       "Kurtosis                                      2488.94%            1828.82%   \n",
       "Sharpe Ratio                                     0.085               0.084   \n",
       "Annualized Sharpe Ratio                           1.35                1.33   \n",
       "Sortino Ratio                                     0.12                0.11   \n",
       "Annualized Sortino Ratio                          1.83                1.83   \n",
       "Mean Absolute Deviation Ratio                     0.13                0.13   \n",
       "First Lower Partial Moment Ratio                  0.26                0.26   \n",
       "Value at Risk Ratio at 95%                       0.066               0.066   \n",
       "CVaR Ratio at 95%                                0.038               0.037   \n",
       "Entropic Risk Measure Ratio at 95%             0.00016             0.00018   \n",
       "EVaR Ratio at 95%                                0.013               0.015   \n",
       "Worst Realization Ratio                         0.0068              0.0077   \n",
       "Drawdown at Risk Ratio at 95%                    0.011               0.011   \n",
       "CDaR Ratio at 95%                               0.0073              0.0071   \n",
       "Calmar Ratio                                    0.0025              0.0025   \n",
       "Average Drawdown Ratio                           0.033               0.031   \n",
       "EDaR Ratio at 95%                               0.0041              0.0041   \n",
       "Ulcer Index Ratio                                0.021               0.020   \n",
       "Gini Mean Difference Ratio                       0.087               0.085   \n",
       "Effective Number of Assets          1.7919829860916991  2.0026628686618744   \n",
       "Assets Number                                        3                   3   \n",
       "\n",
       "                                      ptf6 - Variance     ptf7 - Variance  \\\n",
       "Mean                                           0.062%              0.070%   \n",
       "Annualized Mean                                15.73%              17.71%   \n",
       "Variance                                      0.0057%             0.0074%   \n",
       "Annualized Variance                             1.43%               1.87%   \n",
       "Semi-Variance                                 0.0030%             0.0039%   \n",
       "Annualized Semi-Variance                        0.75%               0.98%   \n",
       "Standard Deviation                              0.75%               0.86%   \n",
       "Annualized Standard Deviation                  11.98%              13.69%   \n",
       "Semi-Deviation                                  0.55%               0.62%   \n",
       "Annualized Semi-Deviation                       8.69%               9.88%   \n",
       "Mean Absolute Deviation                         0.50%               0.57%   \n",
       "CVaR at 95%                                     1.73%               1.98%   \n",
       "EVaR at 95%                                     3.87%               4.11%   \n",
       "Worst Realization                               7.40%               7.68%   \n",
       "CDaR at 95%                                     9.14%              10.62%   \n",
       "MAX Drawdown                                   24.53%              27.53%   \n",
       "Average Drawdown                                2.09%               2.44%   \n",
       "EDaR at 95%                                    15.16%              17.14%   \n",
       "First Lower Partial Moment                      0.25%               0.29%   \n",
       "Ulcer Index                                     0.032               0.037   \n",
       "Gini Mean Difference                            0.75%               0.86%   \n",
       "Value at Risk at 95%                            0.98%               1.13%   \n",
       "Drawdown at Risk at 95%                         5.93%               6.82%   \n",
       "Entropic Risk Measure at 95%                     3.00                3.00   \n",
       "Fourth Central Moment                       0.000005%           0.000007%   \n",
       "Fourth Lower Partial Moment                 0.000004%           0.000005%   \n",
       "Skew                                          -66.80%             -52.64%   \n",
       "Kurtosis                                     1492.93%            1307.89%   \n",
       "Sharpe Ratio                                    0.083               0.082   \n",
       "Annualized Sharpe Ratio                          1.31                1.29   \n",
       "Sortino Ratio                                    0.11                0.11   \n",
       "Annualized Sortino Ratio                         1.81                1.79   \n",
       "Mean Absolute Deviation Ratio                    0.13                0.12   \n",
       "First Lower Partial Moment Ratio                 0.25                0.25   \n",
       "Value at Risk Ratio at 95%                      0.064               0.062   \n",
       "CVaR Ratio at 95%                               0.036               0.036   \n",
       "Entropic Risk Measure Ratio at 95%            0.00021             0.00023   \n",
       "EVaR Ratio at 95%                               0.016               0.017   \n",
       "Worst Realization Ratio                        0.0084              0.0091   \n",
       "Drawdown at Risk Ratio at 95%                   0.011               0.010   \n",
       "CDaR Ratio at 95%                              0.0068              0.0066   \n",
       "Calmar Ratio                                   0.0025              0.0026   \n",
       "Average Drawdown Ratio                          0.030               0.029   \n",
       "EDaR Ratio at 95%                              0.0041              0.0041   \n",
       "Ulcer Index Ratio                               0.020               0.019   \n",
       "Gini Mean Difference Ratio                      0.083               0.081   \n",
       "Effective Number of Assets          2.226861142116468  2.4507058064708946   \n",
       "Assets Number                                       3                   3   \n",
       "\n",
       "                                      ptf8 - Variance     ptf9 - Variance  \\\n",
       "Mean                                           0.078%              0.086%   \n",
       "Annualized Mean                                19.70%              21.69%   \n",
       "Variance                                      0.0094%              0.012%   \n",
       "Annualized Variance                             2.38%               2.95%   \n",
       "Semi-Variance                                 0.0049%             0.0060%   \n",
       "Annualized Semi-Variance                        1.23%               1.52%   \n",
       "Standard Deviation                              0.97%               1.08%   \n",
       "Annualized Standard Deviation                  15.42%              17.17%   \n",
       "Semi-Deviation                                  0.70%               0.78%   \n",
       "Annualized Semi-Deviation                      11.09%              12.32%   \n",
       "Mean Absolute Deviation                         0.65%               0.72%   \n",
       "CVaR at 95%                                     2.23%               2.48%   \n",
       "EVaR at 95%                                     4.38%               4.69%   \n",
       "Worst Realization                               7.97%               8.25%   \n",
       "CDaR at 95%                                    12.18%              13.77%   \n",
       "MAX Drawdown                                   30.53%              33.53%   \n",
       "Average Drawdown                                2.82%               3.21%   \n",
       "EDaR at 95%                                    19.14%              21.16%   \n",
       "First Lower Partial Moment                      0.32%               0.36%   \n",
       "Ulcer Index                                     0.042               0.047   \n",
       "Gini Mean Difference                            0.98%               1.09%   \n",
       "Value at Risk at 95%                            1.30%               1.47%   \n",
       "Drawdown at Risk at 95%                         7.78%               8.93%   \n",
       "Entropic Risk Measure at 95%                     2.99                2.99   \n",
       "Fourth Central Moment                       0.000011%           0.000015%   \n",
       "Fourth Lower Partial Moment                 0.000007%           0.000010%   \n",
       "Skew                                          -42.79%             -35.70%   \n",
       "Kurtosis                                     1199.10%            1131.42%   \n",
       "Sharpe Ratio                                    0.080               0.080   \n",
       "Annualized Sharpe Ratio                          1.28                1.26   \n",
       "Sortino Ratio                                    0.11                0.11   \n",
       "Annualized Sortino Ratio                         1.78                1.76   \n",
       "Mean Absolute Deviation Ratio                    0.12                0.12   \n",
       "First Lower Partial Moment Ratio                 0.24                0.24   \n",
       "Value at Risk Ratio at 95%                      0.060               0.058   \n",
       "CVaR Ratio at 95%                               0.035               0.035   \n",
       "Entropic Risk Measure Ratio at 95%            0.00026             0.00029   \n",
       "EVaR Ratio at 95%                               0.018               0.018   \n",
       "Worst Realization Ratio                        0.0098               0.010   \n",
       "Drawdown at Risk Ratio at 95%                   0.010              0.0096   \n",
       "CDaR Ratio at 95%                              0.0064              0.0062   \n",
       "Calmar Ratio                                   0.0026              0.0026   \n",
       "Average Drawdown Ratio                          0.028               0.027   \n",
       "EDaR Ratio at 95%                              0.0041              0.0041   \n",
       "Ulcer Index Ratio                               0.019               0.018   \n",
       "Gini Mean Difference Ratio                      0.080               0.079   \n",
       "Effective Number of Assets          2.659073136045098  2.8323156143186075   \n",
       "Assets Number                                       3                   3   \n",
       "\n",
       "                                    ...   ptf20 - Variance  \\\n",
       "Mean                                ...             0.035%   \n",
       "Annualized Mean                     ...              8.75%   \n",
       "Variance                            ...             0.068%   \n",
       "Annualized Variance                 ...             17.07%   \n",
       "Semi-Variance                       ...             0.033%   \n",
       "Annualized Semi-Variance            ...              8.37%   \n",
       "Standard Deviation                  ...              2.60%   \n",
       "Annualized Standard Deviation       ...             41.32%   \n",
       "Semi-Deviation                      ...              1.82%   \n",
       "Annualized Semi-Deviation           ...             28.93%   \n",
       "Mean Absolute Deviation             ...              1.95%   \n",
       "CVaR at 95%                         ...              5.66%   \n",
       "EVaR at 95%                         ...              6.59%   \n",
       "Worst Realization                   ...              8.57%   \n",
       "CDaR at 95%                         ...             58.49%   \n",
       "MAX Drawdown                        ...             73.42%   \n",
       "Average Drawdown                    ...             20.36%   \n",
       "EDaR at 95%                         ...             64.33%   \n",
       "First Lower Partial Moment          ...              0.98%   \n",
       "Ulcer Index                         ...               0.25   \n",
       "Gini Mean Difference                ...              2.85%   \n",
       "Value at Risk at 95%                ...              4.24%   \n",
       "Drawdown at Risk at 95%             ...             43.43%   \n",
       "Entropic Risk Measure at 95%        ...               3.00   \n",
       "Fourth Central Moment               ...           0.00020%   \n",
       "Fourth Lower Partial Moment         ...          0.000082%   \n",
       "Skew                                ...             14.65%   \n",
       "Kurtosis                            ...            444.99%   \n",
       "Sharpe Ratio                        ...              0.013   \n",
       "Annualized Sharpe Ratio             ...               0.21   \n",
       "Sortino Ratio                       ...              0.019   \n",
       "Annualized Sortino Ratio            ...               0.30   \n",
       "Mean Absolute Deviation Ratio       ...              0.018   \n",
       "First Lower Partial Moment Ratio    ...              0.036   \n",
       "Value at Risk Ratio at 95%          ...             0.0082   \n",
       "CVaR Ratio at 95%                   ...             0.0061   \n",
       "Entropic Risk Measure Ratio at 95%  ...            0.00012   \n",
       "EVaR Ratio at 95%                   ...             0.0053   \n",
       "Worst Realization Ratio             ...             0.0041   \n",
       "Drawdown at Risk Ratio at 95%       ...            0.00080   \n",
       "CDaR Ratio at 95%                   ...            0.00059   \n",
       "Calmar Ratio                        ...            0.00047   \n",
       "Average Drawdown Ratio              ...             0.0017   \n",
       "EDaR Ratio at 95%                   ...            0.00054   \n",
       "Ulcer Index Ratio                   ...             0.0014   \n",
       "Gini Mean Difference Ratio          ...              0.012   \n",
       "Effective Number of Assets          ...  1.905947376681677   \n",
       "Assets Number                       ...                  3   \n",
       "\n",
       "                                      ptf21 - Variance    ptf22 - Variance  \\\n",
       "Mean                                            0.034%              0.034%   \n",
       "Annualized Mean                                  8.64%               8.54%   \n",
       "Variance                                        0.075%              0.082%   \n",
       "Annualized Variance                             18.85%              20.74%   \n",
       "Semi-Variance                                   0.037%              0.040%   \n",
       "Annualized Semi-Variance                         9.23%              10.13%   \n",
       "Standard Deviation                               2.74%               2.87%   \n",
       "Annualized Standard Deviation                   43.42%              45.54%   \n",
       "Semi-Deviation                                   1.91%               2.01%   \n",
       "Annualized Semi-Deviation                       30.38%              31.83%   \n",
       "Mean Absolute Deviation                          2.05%               2.14%   \n",
       "CVaR at 95%                                      5.96%               6.26%   \n",
       "EVaR at 95%                                      6.94%               7.30%   \n",
       "Worst Realization                                8.97%               9.37%   \n",
       "CDaR at 95%                                     61.52%              64.54%   \n",
       "MAX Drawdown                                    77.34%              81.26%   \n",
       "Average Drawdown                                21.48%              22.60%   \n",
       "EDaR at 95%                                     67.70%              71.08%   \n",
       "First Lower Partial Moment                       1.02%               1.07%   \n",
       "Ulcer Index                                       0.26                0.28   \n",
       "Gini Mean Difference                             3.00%               3.14%   \n",
       "Value at Risk at 95%                             4.50%               4.69%   \n",
       "Drawdown at Risk at 95%                         45.49%              47.64%   \n",
       "Entropic Risk Measure at 95%                      3.00                3.00   \n",
       "Fourth Central Moment                         0.00026%            0.00032%   \n",
       "Fourth Lower Partial Moment                   0.00010%            0.00012%   \n",
       "Skew                                            16.11%              17.43%   \n",
       "Kurtosis                                       456.02%             466.49%   \n",
       "Sharpe Ratio                                     0.013               0.012   \n",
       "Annualized Sharpe Ratio                           0.20                0.19   \n",
       "Sortino Ratio                                    0.018               0.017   \n",
       "Annualized Sortino Ratio                          0.28                0.27   \n",
       "Mean Absolute Deviation Ratio                    0.017               0.016   \n",
       "First Lower Partial Moment Ratio                 0.034               0.032   \n",
       "Value at Risk Ratio at 95%                      0.0076              0.0072   \n",
       "CVaR Ratio at 95%                               0.0058              0.0054   \n",
       "Entropic Risk Measure Ratio at 95%             0.00011             0.00011   \n",
       "EVaR Ratio at 95%                               0.0049              0.0046   \n",
       "Worst Realization Ratio                         0.0038              0.0036   \n",
       "Drawdown at Risk Ratio at 95%                  0.00075             0.00071   \n",
       "CDaR Ratio at 95%                              0.00056             0.00052   \n",
       "Calmar Ratio                                   0.00044             0.00042   \n",
       "Average Drawdown Ratio                          0.0016              0.0015   \n",
       "EDaR Ratio at 95%                              0.00051             0.00048   \n",
       "Ulcer Index Ratio                               0.0013              0.0012   \n",
       "Gini Mean Difference Ratio                       0.011               0.011   \n",
       "Effective Number of Assets          1.8261243383287038  1.7300676306820106   \n",
       "Assets Number                                        3                   3   \n",
       "\n",
       "                                     ptf23 - Variance    ptf24 - Variance  \\\n",
       "Mean                                           0.033%              0.033%   \n",
       "Annualized Mean                                 8.43%               8.32%   \n",
       "Variance                                       0.090%              0.099%   \n",
       "Annualized Variance                            22.73%              24.83%   \n",
       "Semi-Variance                                  0.044%              0.048%   \n",
       "Annualized Semi-Variance                       11.09%              12.10%   \n",
       "Standard Deviation                              3.00%               3.14%   \n",
       "Annualized Standard Deviation                  47.68%              49.83%   \n",
       "Semi-Deviation                                  2.10%               2.19%   \n",
       "Annualized Semi-Deviation                      33.30%              34.78%   \n",
       "Mean Absolute Deviation                         2.23%               2.33%   \n",
       "CVaR at 95%                                     6.57%               6.87%   \n",
       "EVaR at 95%                                     7.67%               8.03%   \n",
       "Worst Realization                               9.78%              10.18%   \n",
       "CDaR at 95%                                    67.57%              70.59%   \n",
       "MAX Drawdown                                   85.18%              89.10%   \n",
       "Average Drawdown                               23.71%              24.83%   \n",
       "EDaR at 95%                                    74.46%              77.85%   \n",
       "First Lower Partial Moment                      1.12%               1.17%   \n",
       "Ulcer Index                                      0.29                0.30   \n",
       "Gini Mean Difference                            3.28%               3.42%   \n",
       "Value at Risk at 95%                            4.95%               5.22%   \n",
       "Drawdown at Risk at 95%                        49.78%              51.93%   \n",
       "Entropic Risk Measure at 95%                     3.00                3.00   \n",
       "Fourth Central Moment                        0.00039%            0.00047%   \n",
       "Fourth Lower Partial Moment                  0.00015%            0.00018%   \n",
       "Skew                                           18.62%              19.70%   \n",
       "Kurtosis                                      476.39%             485.72%   \n",
       "Sharpe Ratio                                    0.011               0.011   \n",
       "Annualized Sharpe Ratio                          0.18                0.17   \n",
       "Sortino Ratio                                   0.016               0.015   \n",
       "Annualized Sortino Ratio                         0.25                0.24   \n",
       "Mean Absolute Deviation Ratio                   0.015               0.014   \n",
       "First Lower Partial Moment Ratio                0.030               0.028   \n",
       "Value at Risk Ratio at 95%                     0.0068              0.0063   \n",
       "CVaR Ratio at 95%                              0.0051              0.0048   \n",
       "Entropic Risk Measure Ratio at 95%            0.00011             0.00011   \n",
       "EVaR Ratio at 95%                              0.0044              0.0041   \n",
       "Worst Realization Ratio                        0.0034              0.0032   \n",
       "Drawdown at Risk Ratio at 95%                 0.00067             0.00064   \n",
       "CDaR Ratio at 95%                             0.00050             0.00047   \n",
       "Calmar Ratio                                  0.00039             0.00037   \n",
       "Average Drawdown Ratio                         0.0014              0.0013   \n",
       "EDaR Ratio at 95%                             0.00045             0.00042   \n",
       "Ulcer Index Ratio                              0.0012              0.0011   \n",
       "Gini Mean Difference Ratio                      0.010              0.0097   \n",
       "Effective Number of Assets          1.623676206646365  1.5123318995450326   \n",
       "Assets Number                                       3                   3   \n",
       "\n",
       "                                      ptf25 - Variance    ptf26 - Variance  \\\n",
       "Mean                                            0.033%              0.032%   \n",
       "Annualized Mean                                  8.22%               8.11%   \n",
       "Variance                                         0.11%               0.12%   \n",
       "Annualized Variance                             27.03%              29.33%   \n",
       "Semi-Variance                                   0.052%              0.057%   \n",
       "Annualized Semi-Variance                        13.15%              14.26%   \n",
       "Standard Deviation                               3.27%               3.41%   \n",
       "Annualized Standard Deviation                   51.99%              54.16%   \n",
       "Semi-Deviation                                   2.28%               2.38%   \n",
       "Annualized Semi-Deviation                       36.27%              37.77%   \n",
       "Mean Absolute Deviation                          2.43%               2.52%   \n",
       "CVaR at 95%                                      7.18%               7.48%   \n",
       "EVaR at 95%                                      8.40%               8.78%   \n",
       "Worst Realization                               10.59%              11.03%   \n",
       "CDaR at 95%                                     73.61%              76.77%   \n",
       "MAX Drawdown                                    93.02%              97.07%   \n",
       "Average Drawdown                                25.97%              27.20%   \n",
       "EDaR at 95%                                     81.24%              84.77%   \n",
       "First Lower Partial Moment                       1.21%               1.26%   \n",
       "Ulcer Index                                       0.31                0.33   \n",
       "Gini Mean Difference                             3.57%               3.71%   \n",
       "Value at Risk at 95%                             5.44%               5.66%   \n",
       "Drawdown at Risk at 95%                         54.08%              56.35%   \n",
       "Entropic Risk Measure at 95%                      3.00                3.00   \n",
       "Fourth Central Moment                         0.00057%            0.00068%   \n",
       "Fourth Lower Partial Moment                   0.00021%            0.00025%   \n",
       "Skew                                            20.69%              21.58%   \n",
       "Kurtosis                                       494.49%             502.72%   \n",
       "Sharpe Ratio                                    0.0100              0.0094   \n",
       "Annualized Sharpe Ratio                           0.16                0.15   \n",
       "Sortino Ratio                                    0.014               0.014   \n",
       "Annualized Sortino Ratio                          0.23                0.21   \n",
       "Mean Absolute Deviation Ratio                    0.013               0.013   \n",
       "First Lower Partial Moment Ratio                 0.027               0.026   \n",
       "Value at Risk Ratio at 95%                      0.0060              0.0057   \n",
       "CVaR Ratio at 95%                               0.0045              0.0043   \n",
       "Entropic Risk Measure Ratio at 95%             0.00011             0.00011   \n",
       "EVaR Ratio at 95%                               0.0039              0.0037   \n",
       "Worst Realization Ratio                         0.0031              0.0029   \n",
       "Drawdown at Risk Ratio at 95%                  0.00060             0.00057   \n",
       "CDaR Ratio at 95%                              0.00044             0.00042   \n",
       "Calmar Ratio                                   0.00035             0.00033   \n",
       "Average Drawdown Ratio                          0.0013              0.0012   \n",
       "EDaR Ratio at 95%                              0.00040             0.00038   \n",
       "Ulcer Index Ratio                               0.0010             0.00098   \n",
       "Gini Mean Difference Ratio                      0.0091              0.0087   \n",
       "Effective Number of Assets          1.4004727974496438  1.2914414743461495   \n",
       "Assets Number                                        3                   3   \n",
       "\n",
       "                                      ptf27 - Variance    ptf28 - Variance  \\\n",
       "Mean                                            0.032%              0.031%   \n",
       "Annualized Mean                                  8.00%               7.90%   \n",
       "Variance                                         0.13%               0.14%   \n",
       "Annualized Variance                             31.75%              34.26%   \n",
       "Semi-Variance                                   0.061%              0.066%   \n",
       "Annualized Semi-Variance                        15.42%              16.63%   \n",
       "Standard Deviation                               3.55%               3.69%   \n",
       "Annualized Standard Deviation                   56.34%              58.53%   \n",
       "Semi-Deviation                                   2.47%               2.57%   \n",
       "Annualized Semi-Deviation                       39.27%              40.78%   \n",
       "Mean Absolute Deviation                          2.62%               2.72%   \n",
       "CVaR at 95%                                      7.79%               8.09%   \n",
       "EVaR at 95%                                      9.16%               9.54%   \n",
       "Worst Realization                               11.46%              11.90%   \n",
       "CDaR at 95%                                     79.98%              83.18%   \n",
       "MAX Drawdown                                   101.17%             105.27%   \n",
       "Average Drawdown                                28.48%              29.75%   \n",
       "EDaR at 95%                                     88.35%              91.94%   \n",
       "First Lower Partial Moment                       1.31%               1.36%   \n",
       "Ulcer Index                                       0.34                0.36   \n",
       "Gini Mean Difference                             3.86%               4.00%   \n",
       "Value at Risk at 95%                             5.88%               6.14%   \n",
       "Drawdown at Risk at 95%                         58.69%              61.14%   \n",
       "Entropic Risk Measure at 95%                      3.00                3.00   \n",
       "Fourth Central Moment                         0.00081%            0.00096%   \n",
       "Fourth Lower Partial Moment                   0.00029%            0.00034%   \n",
       "Skew                                            22.40%              23.15%   \n",
       "Kurtosis                                       510.44%             517.69%   \n",
       "Sharpe Ratio                                    0.0089              0.0085   \n",
       "Annualized Sharpe Ratio                           0.14                0.13   \n",
       "Sortino Ratio                                    0.013               0.012   \n",
       "Annualized Sortino Ratio                          0.20                0.19   \n",
       "Mean Absolute Deviation Ratio                    0.012               0.012   \n",
       "First Lower Partial Moment Ratio                 0.024               0.023   \n",
       "Value at Risk Ratio at 95%                      0.0054              0.0051   \n",
       "CVaR Ratio at 95%                               0.0041              0.0039   \n",
       "Entropic Risk Measure Ratio at 95%             0.00011             0.00010   \n",
       "EVaR Ratio at 95%                               0.0035              0.0033   \n",
       "Worst Realization Ratio                         0.0028              0.0026   \n",
       "Drawdown at Risk Ratio at 95%                  0.00054             0.00051   \n",
       "CDaR Ratio at 95%                              0.00040             0.00038   \n",
       "Calmar Ratio                                   0.00031             0.00030   \n",
       "Average Drawdown Ratio                          0.0011              0.0011   \n",
       "EDaR Ratio at 95%                              0.00036             0.00034   \n",
       "Ulcer Index Ratio                              0.00092             0.00087   \n",
       "Gini Mean Difference Ratio                      0.0082              0.0078   \n",
       "Effective Number of Assets          1.1875320980016564  1.0901484215372514   \n",
       "Assets Number                                        3                   3   \n",
       "\n",
       "                                      ptf29 - Variance  \n",
       "Mean                                            0.031%  \n",
       "Annualized Mean                                  7.79%  \n",
       "Variance                                         0.15%  \n",
       "Annualized Variance                             36.88%  \n",
       "Semi-Variance                                   0.071%  \n",
       "Annualized Semi-Variance                        17.89%  \n",
       "Standard Deviation                               3.83%  \n",
       "Annualized Standard Deviation                   60.73%  \n",
       "Semi-Deviation                                   2.66%  \n",
       "Annualized Semi-Deviation                       42.29%  \n",
       "Mean Absolute Deviation                          2.82%  \n",
       "CVaR at 95%                                      8.40%  \n",
       "EVaR at 95%                                      9.92%  \n",
       "Worst Realization                               12.33%  \n",
       "CDaR at 95%                                     86.41%  \n",
       "MAX Drawdown                                   109.38%  \n",
       "Average Drawdown                                31.03%  \n",
       "EDaR at 95%                                     95.53%  \n",
       "First Lower Partial Moment                       1.41%  \n",
       "Ulcer Index                                       0.37  \n",
       "Gini Mean Difference                             4.15%  \n",
       "Value at Risk at 95%                             6.32%  \n",
       "Drawdown at Risk at 95%                         64.20%  \n",
       "Entropic Risk Measure at 95%                      3.00  \n",
       "Fourth Central Moment                          0.0011%  \n",
       "Fourth Lower Partial Moment                   0.00040%  \n",
       "Skew                                            23.84%  \n",
       "Kurtosis                                       524.49%  \n",
       "Sharpe Ratio                                    0.0081  \n",
       "Annualized Sharpe Ratio                           0.13  \n",
       "Sortino Ratio                                    0.012  \n",
       "Annualized Sortino Ratio                          0.18  \n",
       "Mean Absolute Deviation Ratio                    0.011  \n",
       "First Lower Partial Moment Ratio                 0.022  \n",
       "Value at Risk Ratio at 95%                      0.0049  \n",
       "CVaR Ratio at 95%                               0.0037  \n",
       "Entropic Risk Measure Ratio at 95%             0.00010  \n",
       "EVaR Ratio at 95%                               0.0031  \n",
       "Worst Realization Ratio                         0.0025  \n",
       "Drawdown at Risk Ratio at 95%                  0.00048  \n",
       "CDaR Ratio at 95%                              0.00036  \n",
       "Calmar Ratio                                   0.00028  \n",
       "Average Drawdown Ratio                         0.00100  \n",
       "EDaR Ratio at 95%                              0.00032  \n",
       "Ulcer Index Ratio                              0.00083  \n",
       "Gini Mean Difference Ratio                      0.0075  \n",
       "Effective Number of Assets          1.0000000054490017  \n",
       "Assets Number                                        3  \n",
       "\n",
       "[48 rows x 60 columns]"
      ]
     },
     "execution_count": 39,
     "metadata": {},
     "output_type": "execute_result"
    }
   ],
   "source": [
    "population.summary()"
   ]
  },
  {
   "cell_type": "code",
   "execution_count": 40,
   "metadata": {
    "execution": {
     "iopub.execute_input": "2024-11-11T18:36:35.939945Z",
     "iopub.status.busy": "2024-11-11T18:36:35.939461Z",
     "iopub.status.idle": "2024-11-11T18:36:36.119883Z",
     "shell.execute_reply": "2024-11-11T18:36:36.118645Z",
     "shell.execute_reply.started": "2024-11-11T18:36:35.939909Z"
    },
    "trusted": true
   },
   "outputs": [
    {
     "data": {
      "application/vnd.plotly.v1+json": {
       "config": {
        "plotlyServerURL": "https://plot.ly"
       },
       "data": [
        {
         "customdata": [
          [
           "",
           0.23611422625294648,
           1.815033208139832,
           1.3190829727756364
          ],
          [
           "",
           0.3121951238168083,
           1.772362974888919,
           1.2740448425175375
          ],
          [
           "",
           0.38827993219389645,
           1.7365089633798747,
           1.2411077060026265
          ],
          [
           "",
           0.464386667329282,
           1.7092211780481372,
           1.2173775600920869
          ],
          [
           "",
           0.5404752908149404,
           1.6883566272764894,
           1.1997679842637883
          ]
         ],
         "hovertemplate": "<b>%{hovertext}</b><br><br>tag=%{customdata[0]}<br>Annualized Variance=%{x:.3f}<br>Annualized Mean=%{y:.3f}<br>MAX Drawdown=%{customdata[1]:.3f}<br>Annualized Sortino Ratio=%{customdata[2]:.3f}<br>Annualized Sharpe Ratio=%{marker.color:.3f}<extra></extra>",
         "hovertext": [
          "ptf0 - Variance",
          "ptf1 - Variance",
          "ptf2 - Variance",
          "ptf3 - Variance",
          "ptf4 - Variance"
         ],
         "legendgroup": "",
         "marker": {
          "color": [
           1.3190829727756364,
           1.2740448425175375,
           1.2411077060026265,
           1.2173775600920869,
           1.1997679842637883
          ],
          "coloraxis": "coloraxis",
          "size": 10,
          "symbol": "circle"
         },
         "mode": "markers",
         "name": "",
         "orientation": "v",
         "showlegend": false,
         "type": "scatter",
         "x": [
          0.013138918636405298,
          0.025038691671743583,
          0.04122703909839171,
          0.06170395804084497,
          0.08646945353841123
         ],
         "xaxis": "x",
         "y": [
          0.15120004692931716,
          0.20160000114926727,
          0.25200000228513686,
          0.30240001171977354,
          0.35280004009730687
         ],
         "yaxis": "y"
        }
       ],
       "layout": {
        "coloraxis": {
         "colorbar": {
          "title": {
           "text": "Annualized Sharpe Ratio"
          }
         },
         "colorscale": [
          [
           0,
           "#0d0887"
          ],
          [
           0.1111111111111111,
           "#46039f"
          ],
          [
           0.2222222222222222,
           "#7201a8"
          ],
          [
           0.3333333333333333,
           "#9c179e"
          ],
          [
           0.4444444444444444,
           "#bd3786"
          ],
          [
           0.5555555555555556,
           "#d8576b"
          ],
          [
           0.6666666666666666,
           "#ed7953"
          ],
          [
           0.7777777777777778,
           "#fb9f3a"
          ],
          [
           0.8888888888888888,
           "#fdca26"
          ],
          [
           1,
           "#f0f921"
          ]
         ]
        },
        "legend": {
         "title": {
          "text": "tag"
         },
         "tracegroupgap": 0,
         "x": 1.25,
         "xanchor": "left",
         "y": 0.96,
         "yanchor": "top"
        },
        "margin": {
         "t": 60
        },
        "template": {
         "data": {
          "bar": [
           {
            "error_x": {
             "color": "#2a3f5f"
            },
            "error_y": {
             "color": "#2a3f5f"
            },
            "marker": {
             "line": {
              "color": "#E5ECF6",
              "width": 0.5
             },
             "pattern": {
              "fillmode": "overlay",
              "size": 10,
              "solidity": 0.2
             }
            },
            "type": "bar"
           }
          ],
          "barpolar": [
           {
            "marker": {
             "line": {
              "color": "#E5ECF6",
              "width": 0.5
             },
             "pattern": {
              "fillmode": "overlay",
              "size": 10,
              "solidity": 0.2
             }
            },
            "type": "barpolar"
           }
          ],
          "carpet": [
           {
            "aaxis": {
             "endlinecolor": "#2a3f5f",
             "gridcolor": "white",
             "linecolor": "white",
             "minorgridcolor": "white",
             "startlinecolor": "#2a3f5f"
            },
            "baxis": {
             "endlinecolor": "#2a3f5f",
             "gridcolor": "white",
             "linecolor": "white",
             "minorgridcolor": "white",
             "startlinecolor": "#2a3f5f"
            },
            "type": "carpet"
           }
          ],
          "choropleth": [
           {
            "colorbar": {
             "outlinewidth": 0,
             "ticks": ""
            },
            "type": "choropleth"
           }
          ],
          "contour": [
           {
            "colorbar": {
             "outlinewidth": 0,
             "ticks": ""
            },
            "colorscale": [
             [
              0,
              "#0d0887"
             ],
             [
              0.1111111111111111,
              "#46039f"
             ],
             [
              0.2222222222222222,
              "#7201a8"
             ],
             [
              0.3333333333333333,
              "#9c179e"
             ],
             [
              0.4444444444444444,
              "#bd3786"
             ],
             [
              0.5555555555555556,
              "#d8576b"
             ],
             [
              0.6666666666666666,
              "#ed7953"
             ],
             [
              0.7777777777777778,
              "#fb9f3a"
             ],
             [
              0.8888888888888888,
              "#fdca26"
             ],
             [
              1,
              "#f0f921"
             ]
            ],
            "type": "contour"
           }
          ],
          "contourcarpet": [
           {
            "colorbar": {
             "outlinewidth": 0,
             "ticks": ""
            },
            "type": "contourcarpet"
           }
          ],
          "heatmap": [
           {
            "colorbar": {
             "outlinewidth": 0,
             "ticks": ""
            },
            "colorscale": [
             [
              0,
              "#0d0887"
             ],
             [
              0.1111111111111111,
              "#46039f"
             ],
             [
              0.2222222222222222,
              "#7201a8"
             ],
             [
              0.3333333333333333,
              "#9c179e"
             ],
             [
              0.4444444444444444,
              "#bd3786"
             ],
             [
              0.5555555555555556,
              "#d8576b"
             ],
             [
              0.6666666666666666,
              "#ed7953"
             ],
             [
              0.7777777777777778,
              "#fb9f3a"
             ],
             [
              0.8888888888888888,
              "#fdca26"
             ],
             [
              1,
              "#f0f921"
             ]
            ],
            "type": "heatmap"
           }
          ],
          "heatmapgl": [
           {
            "colorbar": {
             "outlinewidth": 0,
             "ticks": ""
            },
            "colorscale": [
             [
              0,
              "#0d0887"
             ],
             [
              0.1111111111111111,
              "#46039f"
             ],
             [
              0.2222222222222222,
              "#7201a8"
             ],
             [
              0.3333333333333333,
              "#9c179e"
             ],
             [
              0.4444444444444444,
              "#bd3786"
             ],
             [
              0.5555555555555556,
              "#d8576b"
             ],
             [
              0.6666666666666666,
              "#ed7953"
             ],
             [
              0.7777777777777778,
              "#fb9f3a"
             ],
             [
              0.8888888888888888,
              "#fdca26"
             ],
             [
              1,
              "#f0f921"
             ]
            ],
            "type": "heatmapgl"
           }
          ],
          "histogram": [
           {
            "marker": {
             "pattern": {
              "fillmode": "overlay",
              "size": 10,
              "solidity": 0.2
             }
            },
            "type": "histogram"
           }
          ],
          "histogram2d": [
           {
            "colorbar": {
             "outlinewidth": 0,
             "ticks": ""
            },
            "colorscale": [
             [
              0,
              "#0d0887"
             ],
             [
              0.1111111111111111,
              "#46039f"
             ],
             [
              0.2222222222222222,
              "#7201a8"
             ],
             [
              0.3333333333333333,
              "#9c179e"
             ],
             [
              0.4444444444444444,
              "#bd3786"
             ],
             [
              0.5555555555555556,
              "#d8576b"
             ],
             [
              0.6666666666666666,
              "#ed7953"
             ],
             [
              0.7777777777777778,
              "#fb9f3a"
             ],
             [
              0.8888888888888888,
              "#fdca26"
             ],
             [
              1,
              "#f0f921"
             ]
            ],
            "type": "histogram2d"
           }
          ],
          "histogram2dcontour": [
           {
            "colorbar": {
             "outlinewidth": 0,
             "ticks": ""
            },
            "colorscale": [
             [
              0,
              "#0d0887"
             ],
             [
              0.1111111111111111,
              "#46039f"
             ],
             [
              0.2222222222222222,
              "#7201a8"
             ],
             [
              0.3333333333333333,
              "#9c179e"
             ],
             [
              0.4444444444444444,
              "#bd3786"
             ],
             [
              0.5555555555555556,
              "#d8576b"
             ],
             [
              0.6666666666666666,
              "#ed7953"
             ],
             [
              0.7777777777777778,
              "#fb9f3a"
             ],
             [
              0.8888888888888888,
              "#fdca26"
             ],
             [
              1,
              "#f0f921"
             ]
            ],
            "type": "histogram2dcontour"
           }
          ],
          "mesh3d": [
           {
            "colorbar": {
             "outlinewidth": 0,
             "ticks": ""
            },
            "type": "mesh3d"
           }
          ],
          "parcoords": [
           {
            "line": {
             "colorbar": {
              "outlinewidth": 0,
              "ticks": ""
             }
            },
            "type": "parcoords"
           }
          ],
          "pie": [
           {
            "automargin": true,
            "type": "pie"
           }
          ],
          "scatter": [
           {
            "fillpattern": {
             "fillmode": "overlay",
             "size": 10,
             "solidity": 0.2
            },
            "type": "scatter"
           }
          ],
          "scatter3d": [
           {
            "line": {
             "colorbar": {
              "outlinewidth": 0,
              "ticks": ""
             }
            },
            "marker": {
             "colorbar": {
              "outlinewidth": 0,
              "ticks": ""
             }
            },
            "type": "scatter3d"
           }
          ],
          "scattercarpet": [
           {
            "marker": {
             "colorbar": {
              "outlinewidth": 0,
              "ticks": ""
             }
            },
            "type": "scattercarpet"
           }
          ],
          "scattergeo": [
           {
            "marker": {
             "colorbar": {
              "outlinewidth": 0,
              "ticks": ""
             }
            },
            "type": "scattergeo"
           }
          ],
          "scattergl": [
           {
            "marker": {
             "colorbar": {
              "outlinewidth": 0,
              "ticks": ""
             }
            },
            "type": "scattergl"
           }
          ],
          "scattermapbox": [
           {
            "marker": {
             "colorbar": {
              "outlinewidth": 0,
              "ticks": ""
             }
            },
            "type": "scattermapbox"
           }
          ],
          "scatterpolar": [
           {
            "marker": {
             "colorbar": {
              "outlinewidth": 0,
              "ticks": ""
             }
            },
            "type": "scatterpolar"
           }
          ],
          "scatterpolargl": [
           {
            "marker": {
             "colorbar": {
              "outlinewidth": 0,
              "ticks": ""
             }
            },
            "type": "scatterpolargl"
           }
          ],
          "scatterternary": [
           {
            "marker": {
             "colorbar": {
              "outlinewidth": 0,
              "ticks": ""
             }
            },
            "type": "scatterternary"
           }
          ],
          "surface": [
           {
            "colorbar": {
             "outlinewidth": 0,
             "ticks": ""
            },
            "colorscale": [
             [
              0,
              "#0d0887"
             ],
             [
              0.1111111111111111,
              "#46039f"
             ],
             [
              0.2222222222222222,
              "#7201a8"
             ],
             [
              0.3333333333333333,
              "#9c179e"
             ],
             [
              0.4444444444444444,
              "#bd3786"
             ],
             [
              0.5555555555555556,
              "#d8576b"
             ],
             [
              0.6666666666666666,
              "#ed7953"
             ],
             [
              0.7777777777777778,
              "#fb9f3a"
             ],
             [
              0.8888888888888888,
              "#fdca26"
             ],
             [
              1,
              "#f0f921"
             ]
            ],
            "type": "surface"
           }
          ],
          "table": [
           {
            "cells": {
             "fill": {
              "color": "#EBF0F8"
             },
             "line": {
              "color": "white"
             }
            },
            "header": {
             "fill": {
              "color": "#C8D4E3"
             },
             "line": {
              "color": "white"
             }
            },
            "type": "table"
           }
          ]
         },
         "layout": {
          "annotationdefaults": {
           "arrowcolor": "#2a3f5f",
           "arrowhead": 0,
           "arrowwidth": 1
          },
          "autotypenumbers": "strict",
          "coloraxis": {
           "colorbar": {
            "outlinewidth": 0,
            "ticks": ""
           }
          },
          "colorscale": {
           "diverging": [
            [
             0,
             "#8e0152"
            ],
            [
             0.1,
             "#c51b7d"
            ],
            [
             0.2,
             "#de77ae"
            ],
            [
             0.3,
             "#f1b6da"
            ],
            [
             0.4,
             "#fde0ef"
            ],
            [
             0.5,
             "#f7f7f7"
            ],
            [
             0.6,
             "#e6f5d0"
            ],
            [
             0.7,
             "#b8e186"
            ],
            [
             0.8,
             "#7fbc41"
            ],
            [
             0.9,
             "#4d9221"
            ],
            [
             1,
             "#276419"
            ]
           ],
           "sequential": [
            [
             0,
             "#0d0887"
            ],
            [
             0.1111111111111111,
             "#46039f"
            ],
            [
             0.2222222222222222,
             "#7201a8"
            ],
            [
             0.3333333333333333,
             "#9c179e"
            ],
            [
             0.4444444444444444,
             "#bd3786"
            ],
            [
             0.5555555555555556,
             "#d8576b"
            ],
            [
             0.6666666666666666,
             "#ed7953"
            ],
            [
             0.7777777777777778,
             "#fb9f3a"
            ],
            [
             0.8888888888888888,
             "#fdca26"
            ],
            [
             1,
             "#f0f921"
            ]
           ],
           "sequentialminus": [
            [
             0,
             "#0d0887"
            ],
            [
             0.1111111111111111,
             "#46039f"
            ],
            [
             0.2222222222222222,
             "#7201a8"
            ],
            [
             0.3333333333333333,
             "#9c179e"
            ],
            [
             0.4444444444444444,
             "#bd3786"
            ],
            [
             0.5555555555555556,
             "#d8576b"
            ],
            [
             0.6666666666666666,
             "#ed7953"
            ],
            [
             0.7777777777777778,
             "#fb9f3a"
            ],
            [
             0.8888888888888888,
             "#fdca26"
            ],
            [
             1,
             "#f0f921"
            ]
           ]
          },
          "colorway": [
           "#636efa",
           "#EF553B",
           "#00cc96",
           "#ab63fa",
           "#FFA15A",
           "#19d3f3",
           "#FF6692",
           "#B6E880",
           "#FF97FF",
           "#FECB52"
          ],
          "font": {
           "color": "#2a3f5f"
          },
          "geo": {
           "bgcolor": "white",
           "lakecolor": "white",
           "landcolor": "#E5ECF6",
           "showlakes": true,
           "showland": true,
           "subunitcolor": "white"
          },
          "hoverlabel": {
           "align": "left"
          },
          "hovermode": "closest",
          "mapbox": {
           "style": "light"
          },
          "paper_bgcolor": "white",
          "plot_bgcolor": "#E5ECF6",
          "polar": {
           "angularaxis": {
            "gridcolor": "white",
            "linecolor": "white",
            "ticks": ""
           },
           "bgcolor": "#E5ECF6",
           "radialaxis": {
            "gridcolor": "white",
            "linecolor": "white",
            "ticks": ""
           }
          },
          "scene": {
           "xaxis": {
            "backgroundcolor": "#E5ECF6",
            "gridcolor": "white",
            "gridwidth": 2,
            "linecolor": "white",
            "showbackground": true,
            "ticks": "",
            "zerolinecolor": "white"
           },
           "yaxis": {
            "backgroundcolor": "#E5ECF6",
            "gridcolor": "white",
            "gridwidth": 2,
            "linecolor": "white",
            "showbackground": true,
            "ticks": "",
            "zerolinecolor": "white"
           },
           "zaxis": {
            "backgroundcolor": "#E5ECF6",
            "gridcolor": "white",
            "gridwidth": 2,
            "linecolor": "white",
            "showbackground": true,
            "ticks": "",
            "zerolinecolor": "white"
           }
          },
          "shapedefaults": {
           "line": {
            "color": "#2a3f5f"
           }
          },
          "ternary": {
           "aaxis": {
            "gridcolor": "white",
            "linecolor": "white",
            "ticks": ""
           },
           "baxis": {
            "gridcolor": "white",
            "linecolor": "white",
            "ticks": ""
           },
           "bgcolor": "#E5ECF6",
           "caxis": {
            "gridcolor": "white",
            "linecolor": "white",
            "ticks": ""
           }
          },
          "title": {
           "x": 0.05
          },
          "xaxis": {
           "automargin": true,
           "gridcolor": "white",
           "linecolor": "white",
           "ticks": "",
           "title": {
            "standoff": 15
           },
           "zerolinecolor": "white",
           "zerolinewidth": 2
          },
          "yaxis": {
           "automargin": true,
           "gridcolor": "white",
           "linecolor": "white",
           "ticks": "",
           "title": {
            "standoff": 15
           },
           "zerolinecolor": "white",
           "zerolinewidth": 2
          }
         }
        },
        "title": {
         "text": "Portfolios"
        },
        "xaxis": {
         "anchor": "y",
         "domain": [
          0,
          1
         ],
         "tickformat": ",.1%",
         "title": {
          "text": "Annualized Variance"
         }
        },
        "yaxis": {
         "anchor": "x",
         "domain": [
          0,
          1
         ],
         "tickformat": ",.1%",
         "title": {
          "text": "Annualized Mean"
         }
        }
       }
      }
     },
     "metadata": {},
     "output_type": "display_data"
    }
   ],
   "source": [
    "model = MeanRisk(\n",
    "    risk_measure=RiskMeasure.VARIANCE,\n",
    "    min_return=np.array([0.15, 0.20, 0.25, 0.30, 0.35]) / 250,\n",
    "    portfolio_params=dict(name=\"Variance\"),\n",
    ")\n",
    "\n",
    "population = model.fit_predict(X_train)\n",
    "\n",
    "population.plot_measures(\n",
    "    x=RiskMeasure.ANNUALIZED_VARIANCE,\n",
    "    y=PerfMeasure.ANNUALIZED_MEAN,\n",
    "    color_scale=RatioMeasure.ANNUALIZED_SHARPE_RATIO,\n",
    "    hover_measures=[RiskMeasure.MAX_DRAWDOWN, RatioMeasure.ANNUALIZED_SORTINO_RATIO],\n",
    ")\n"
   ]
  },
  {
   "cell_type": "code",
   "execution_count": null,
   "metadata": {},
   "outputs": [],
   "source": []
  },
  {
   "cell_type": "code",
   "execution_count": null,
   "metadata": {},
   "outputs": [],
   "source": []
  }
 ],
 "metadata": {
  "kaggle": {
   "accelerator": "none",
   "dataSources": [],
   "dockerImageVersionId": 30698,
   "isGpuEnabled": false,
   "isInternetEnabled": true,
   "language": "python",
   "sourceType": "notebook"
  },
  "kernelspec": {
   "display_name": "myenv",
   "language": "python",
   "name": "python3"
  },
  "language_info": {
   "codemirror_mode": {
    "name": "ipython",
    "version": 3
   },
   "file_extension": ".py",
   "mimetype": "text/x-python",
   "name": "python",
   "nbconvert_exporter": "python",
   "pygments_lexer": "ipython3",
   "version": "3.12.7"
  }
 },
 "nbformat": 4,
 "nbformat_minor": 4
}
